{
 "cells": [
  {
   "cell_type": "code",
   "execution_count": 1,
   "metadata": {},
   "outputs": [],
   "source": [
    "import pandas as pd\n",
    "import numpy as np"
   ]
  },
  {
   "cell_type": "code",
   "execution_count": 4,
   "metadata": {},
   "outputs": [
    {
     "name": "stderr",
     "output_type": "stream",
     "text": [
      "E:\\anonconda\\lib\\site-packages\\IPython\\core\\interactiveshell.py:2728: DtypeWarning: Columns (23) have mixed types. Specify dtype option on import or set low_memory=False.\n",
      "  interactivity=interactivity, compiler=compiler, result=result)\n"
     ]
    }
   ],
   "source": [
    "df = pd.read_csv('Orders.csv',header = 0,sep = \",\")"
   ]
  },
  {
   "cell_type": "code",
   "execution_count": 5,
   "metadata": {},
   "outputs": [],
   "source": [
    "dict_region = {\"北部\":['臺北','台北','新北','基隆','宜蘭','桃園','新竹'],\n",
    "               \"中部\":['苗栗','臺中','台中','彰化','南投','雲林'],\n",
    "               \"南部\":['嘉義','臺南','台南','高雄','屏東','澎湖'],\n",
    "               \"東部\":['花蓮','台東','臺東'],\n",
    "               \"離島\":['金門','馬祖','澎湖','綠島','蘭嶼']\n",
    "              }"
   ]
  },
  {
   "cell_type": "code",
   "execution_count": 6,
   "metadata": {},
   "outputs": [],
   "source": [
    "df['new_DateId'] = pd.to_datetime(df['DateId'].astype(str), format='%Y%m%d')"
   ]
  },
  {
   "cell_type": "code",
   "execution_count": 7,
   "metadata": {},
   "outputs": [
    {
     "name": "stdout",
     "output_type": "stream",
     "text": [
      "<class 'pandas.core.frame.DataFrame'>\n",
      "RangeIndex: 5495276 entries, 0 to 5495275\n",
      "Data columns (total 29 columns):\n",
      "DateId                         int64\n",
      "MemberId                       int64\n",
      "OrderGroupCode                 object\n",
      "TrackSourceTypeDef             object\n",
      "TrackDeviceTypeDef             object\n",
      "PayProfileTypeDef              object\n",
      "SalesOrderSlaveId              int64\n",
      "SalePageId                     int64\n",
      "IsMajor                        bool\n",
      "IsGift                         bool\n",
      "IsSalePageGift                 bool\n",
      "Quantity                       int64\n",
      "UnitPrice                      float64\n",
      "PromotionDiscount              float64\n",
      "ECouponId                      int64\n",
      "ECouponDiscount                float64\n",
      "SalesOrderSlaveTotalPayment    float64\n",
      "SalesOrderSlaveDateTime        object\n",
      "SalesOrderReceiverId           int64\n",
      "City                           object\n",
      "District                       object\n",
      "ZipCode                        float64\n",
      "StoreName                      object\n",
      "StoreId                        object\n",
      "DeliverTypeDef                 object\n",
      "StatusDef                      object\n",
      "ReturnGoodsDateId              float64\n",
      "CauseDef                       object\n",
      "new_DateId                     datetime64[ns]\n",
      "dtypes: bool(3), datetime64[ns](1), float64(6), int64(7), object(12)\n",
      "memory usage: 1.1+ GB\n"
     ]
    }
   ],
   "source": [
    "df.info()"
   ]
  },
  {
   "cell_type": "markdown",
   "metadata": {},
   "source": [
    "- 依照city做分類"
   ]
  },
  {
   "cell_type": "code",
   "execution_count": 8,
   "metadata": {},
   "outputs": [],
   "source": [
    "data = df.groupby(by='City')['Quantity'].sum()"
   ]
  },
  {
   "cell_type": "code",
   "execution_count": 9,
   "metadata": {
    "scrolled": true
   },
   "outputs": [
    {
     "data": {
      "text/plain": [
       "City\n",
       "1st         45\n",
       "25          10\n",
       "<fo         41\n",
       "Aya          2\n",
       "Cha          1\n",
       "Daf          2\n",
       "Hsi          3\n",
       "Hy           6\n",
       "Ins          2\n",
       "Jia          3\n",
       "Kao          5\n",
       "Keb          3\n",
       "Kot          2\n",
       "Nan         28\n",
       "New         32\n",
       "No.          3\n",
       "Quậ          6\n",
       "Tai          8\n",
       "Tao         18\n",
       "Xin          5\n",
       "Đại          1\n",
       "南投縣      74939\n",
       "台中市     815918\n",
       "台北市     705464\n",
       "台南市     407470\n",
       "台東市        431\n",
       "台東縣      34786\n",
       "嘉義市      55276\n",
       "嘉義縣      68262\n",
       "基隆市      89367\n",
       "宜蘭縣      87111\n",
       "屏東市        776\n",
       "屏東縣     125121\n",
       "彰化縣     201898\n",
       "新北市    1196609\n",
       "新竹市     148414\n",
       "新竹縣     129924\n",
       "桃園市     599460\n",
       "桃園縣         93\n",
       "澎湖縣      20190\n",
       "花蓮縣      69475\n",
       "苗栗縣     108647\n",
       "雲林縣      88407\n",
       "高雄市     580556\n",
       "Name: Quantity, dtype: int64"
      ]
     },
     "execution_count": 9,
     "metadata": {},
     "output_type": "execute_result"
    }
   ],
   "source": [
    "data"
   ]
  },
  {
   "cell_type": "markdown",
   "metadata": {},
   "source": [
    "# 發現亂碼、nan，以及新舊制(台北、新北)的問題"
   ]
  },
  {
   "cell_type": "markdown",
   "metadata": {},
   "source": [
    "## 1.解決亂碼、nan->判斷是否為漢字"
   ]
  },
  {
   "cell_type": "code",
   "execution_count": 10,
   "metadata": {},
   "outputs": [],
   "source": [
    "# 判断一个unicode是否是汉字\n",
    "def is_chinese(uchar):         \n",
    "    if '\\u4e00' <= uchar<='\\u9fff':\n",
    "        return True\n",
    "    else:\n",
    "        return False"
   ]
  },
  {
   "cell_type": "code",
   "execution_count": null,
   "metadata": {},
   "outputs": [],
   "source": [
    "is_chinese('New')"
   ]
  },
  {
   "cell_type": "code",
   "execution_count": null,
   "metadata": {
    "scrolled": true
   },
   "outputs": [],
   "source": [
    "is_chinese('我x')"
   ]
  },
  {
   "cell_type": "code",
   "execution_count": null,
   "metadata": {},
   "outputs": [],
   "source": [
    "array_clean1 = np.array(df)"
   ]
  },
  {
   "cell_type": "code",
   "execution_count": null,
   "metadata": {},
   "outputs": [],
   "source": [
    "ls_city = list(df['City'])"
   ]
  },
  {
   "cell_type": "code",
   "execution_count": null,
   "metadata": {},
   "outputs": [],
   "source": [
    "type(ls_city)"
   ]
  },
  {
   "cell_type": "code",
   "execution_count": null,
   "metadata": {
    "scrolled": false
   },
   "outputs": [],
   "source": [
    "drop_list = list() #找出需要清的index\n",
    "for i in range(len(ls_city)):\n",
    "    try:\n",
    "        if not (is_chinese(ls_city[i])):\n",
    "#             print(str(i)+':'+(ls_city[i])+' will be dropped')\n",
    "            drop_list.append(i)\n",
    "            \n",
    "    except:\n",
    "#         print('error at '+ str(df['City'][i])+', i = '+str(i))\n",
    "        drop_list.append(i)\n",
    "        continue"
   ]
  },
  {
   "cell_type": "markdown",
   "metadata": {},
   "source": [
    "nan會產生錯誤"
   ]
  },
  {
   "cell_type": "code",
   "execution_count": null,
   "metadata": {
    "scrolled": false
   },
   "outputs": [],
   "source": [
    "array_clean1 = np.delete(array_clean1, drop_list, 0) #清掉"
   ]
  },
  {
   "cell_type": "markdown",
   "metadata": {},
   "source": [
    "- 清理結果"
   ]
  },
  {
   "cell_type": "code",
   "execution_count": null,
   "metadata": {},
   "outputs": [],
   "source": [
    "df_clean1 = pd.DataFrame(array_clean1, columns = list(df)) #list(df) can get header of df"
   ]
  },
  {
   "cell_type": "code",
   "execution_count": null,
   "metadata": {},
   "outputs": [],
   "source": [
    "df_clean1.groupby(by='City')['Quantity'].sum()"
   ]
  },
  {
   "cell_type": "markdown",
   "metadata": {},
   "source": [
    "- 將結果存成.pkl檔，方便讀取"
   ]
  },
  {
   "cell_type": "code",
   "execution_count": null,
   "metadata": {},
   "outputs": [],
   "source": [
    "df_clean1.to_pkl('df_clean1.pkl')"
   ]
  },
  {
   "cell_type": "markdown",
   "metadata": {},
   "source": [
    "## 下一步:2.解決新舊制問題"
   ]
  },
  {
   "cell_type": "code",
   "execution_count": 2,
   "metadata": {},
   "outputs": [],
   "source": [
    "df_clean2 = pd.read_pickle('df_clean1.pkl')"
   ]
  },
  {
   "cell_type": "code",
   "execution_count": 3,
   "metadata": {},
   "outputs": [
    {
     "data": {
      "text/plain": [
       "City\n",
       "南投縣      74939\n",
       "台中市     815918\n",
       "台北市     705464\n",
       "台南市     407470\n",
       "台東市        431\n",
       "台東縣      34786\n",
       "嘉義市      55276\n",
       "嘉義縣      68262\n",
       "基隆市      89367\n",
       "宜蘭縣      87111\n",
       "屏東市        776\n",
       "屏東縣     125121\n",
       "彰化縣     201898\n",
       "新北市    1196609\n",
       "新竹市     148414\n",
       "新竹縣     129924\n",
       "桃園市     599460\n",
       "桃園縣         93\n",
       "澎湖縣      20190\n",
       "花蓮縣      69475\n",
       "苗栗縣     108647\n",
       "雲林縣      88407\n",
       "高雄市     580556\n",
       "Name: Quantity, dtype: int64"
      ]
     },
     "execution_count": 3,
     "metadata": {},
     "output_type": "execute_result"
    }
   ],
   "source": [
    "df_clean2.groupby(by='City')['Quantity'].sum()"
   ]
  }
 ],
 "metadata": {
  "kernelspec": {
   "display_name": "Python 3",
   "language": "python",
   "name": "python3"
  },
  "language_info": {
   "codemirror_mode": {
    "name": "ipython",
    "version": 3
   },
   "file_extension": ".py",
   "mimetype": "text/x-python",
   "name": "python",
   "nbconvert_exporter": "python",
   "pygments_lexer": "ipython3",
   "version": "3.5.5"
  }
 },
 "nbformat": 4,
 "nbformat_minor": 2
}
