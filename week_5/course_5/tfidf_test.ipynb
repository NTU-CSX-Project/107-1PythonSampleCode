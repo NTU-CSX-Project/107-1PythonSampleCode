{
 "cells": [
  {
   "cell_type": "markdown",
   "metadata": {},
   "source": [
    "## TF-IDF 範例(一)\n",
    "- concept http://www.cc.ntu.edu.tw/chinese/epaper/0031/20141220_3103.html\n",
    "- http://bruce3557.logdown.com/posts/291096/jieba-sklearn-calculation-of-chinese-tfidf"
   ]
  },
  {
   "cell_type": "markdown",
   "metadata": {},
   "source": [
    "### load library"
   ]
  },
  {
   "cell_type": "code",
   "execution_count": 1,
   "metadata": {
    "collapsed": true
   },
   "outputs": [],
   "source": [
    "#-*- coding:utf-8 -*-\n",
    "import jieba\n",
    "import sys\n",
    "from sklearn import feature_extraction\n",
    "from sklearn.feature_extraction.text import TfidfVectorizer"
   ]
  },
  {
   "cell_type": "markdown",
   "metadata": {},
   "source": [
    "### read data"
   ]
  },
  {
   "cell_type": "code",
   "execution_count": 2,
   "metadata": {},
   "outputs": [
    {
     "name": "stderr",
     "output_type": "stream",
     "text": [
      "Building prefix dict from the default dictionary ...\n",
      "Loading model from cache C:\\Users\\asus\\AppData\\Local\\Temp\\jieba.cache\n",
      "Loading model cost 0.761 seconds.\n",
      "Prefix dict has been built succesfully.\n"
     ]
    }
   ],
   "source": [
    "# Take each line in target_txt as an unique document\n",
    "# Cut each line for trarget_txt, and collect it in corpus.\n",
    "\n",
    "corpus = []\n",
    "target_txt = './files/tfidf_test.txt'\n",
    "with open(target_txt, 'r') as f:\n",
    "    for line in f:\n",
    "        corpus.append(\" \".join(jieba.cut(line.split(',')[0], cut_all=False)))"
   ]
  },
  {
   "cell_type": "code",
   "execution_count": 3,
   "metadata": {},
   "outputs": [
    {
     "data": {
      "text/plain": [
       "['不要 說 你 愛我 你 想 我     如果 你 的 心裡 沒有 這麼 做 \\n',\n",
       " '只是 勉強 的 敷衍 我     我 知道 了 會 很 難受 \\n',\n",
       " '我要 你 默默 走 不 回頭     我會 清楚 明白 你 要 的 是 什麼 \\n',\n",
       " '不許 勉強 的 安慰 我     說 奇怪 的 理由 \\n',\n",
       " '我會 好好 的     花還 香香的     時間 一直 去     回憶 真美麗 \\n',\n",
       " '我 是 想 著 你     一直 想著 你     你 在 我 心底     變成 了 秘密 \\n',\n",
       " '到現 在 還是     深深 的 深深 的 愛著 你     是 愛情 的 友情 的 都 可以 \\n',\n",
       " '那 是 我 心中 的 幸福     我 知道 他 苦苦 的']"
      ]
     },
     "execution_count": 3,
     "metadata": {},
     "output_type": "execute_result"
    }
   ],
   "source": [
    "corpus"
   ]
  },
  {
   "cell_type": "markdown",
   "metadata": {},
   "source": [
    "### tfidf function "
   ]
  },
  {
   "cell_type": "code",
   "execution_count": 4,
   "metadata": {
    "collapsed": true
   },
   "outputs": [],
   "source": [
    "# tfidf\n",
    "vectorizer = TfidfVectorizer()\n",
    "tfidf = vectorizer.fit_transform(corpus)"
   ]
  },
  {
   "cell_type": "markdown",
   "metadata": {},
   "source": [
    "### check results"
   ]
  },
  {
   "cell_type": "code",
   "execution_count": 5,
   "metadata": {},
   "outputs": [
    {
     "name": "stdout",
     "output_type": "stream",
     "text": [
      "len(words):  43\n"
     ]
    }
   ],
   "source": [
    "words = vectorizer.get_feature_names()\n",
    "print(\"len(words): \", len(words))"
   ]
  },
  {
   "cell_type": "code",
   "execution_count": 6,
   "metadata": {},
   "outputs": [
    {
     "name": "stdout",
     "output_type": "stream",
     "text": [
      "tfidf.shape:  (8, 43)\n"
     ]
    },
    {
     "data": {
      "text/plain": [
       "<8x43 sparse matrix of type '<class 'numpy.float64'>'\n",
       "\twith 47 stored elements in Compressed Sparse Row format>"
      ]
     },
     "execution_count": 6,
     "metadata": {},
     "output_type": "execute_result"
    }
   ],
   "source": [
    "print(\"tfidf.shape: \", tfidf.shape)\n",
    "tfidf"
   ]
  },
  {
   "cell_type": "code",
   "execution_count": 7,
   "metadata": {},
   "outputs": [
    {
     "name": "stdout",
     "output_type": "stream",
     "text": [
      "----Document 0----\n",
      "不要 0.408248290464 0 1\n",
      "如果 0.408248290464 0 13\n",
      "心裡 0.408248290464 0 18\n",
      "愛我 0.408248290464 0 21\n",
      "沒有 0.408248290464 0 28\n",
      "這麼 0.408248290464 0 38\n",
      "----Document 1----\n",
      "只是 0.476474196877 1 7\n",
      "敷衍 0.476474196877 1 25\n",
      "難受 0.476474196877 1 40\n",
      "----Document 2----\n",
      "----Document 3----\n",
      "不許 0.461149114352 3 2\n",
      "奇怪 0.461149114352 3 11\n",
      "安慰 0.461149114352 3 14\n",
      "理由 0.461149114352 3 31\n",
      "----Document 4----\n",
      "----Document 5----\n",
      "心底 0.461149114352 5 17\n",
      "想著 0.461149114352 5 19\n",
      "秘密 0.461149114352 5 34\n",
      "變成 0.461149114352 5 37\n",
      "----Document 6----\n",
      "深深 0.632455532034 6 29\n",
      "----Document 7----\n",
      "幸福 0.519708486736 7 15\n",
      "心中 0.519708486736 7 16\n",
      "知道 0.435556272419 7 33\n",
      "苦苦 0.519708486736 7 36\n"
     ]
    }
   ],
   "source": [
    "# check each document\n",
    "for i in range(len(corpus)):\n",
    "    print('----Document {0}----'.format(i))\n",
    "    for j in range(len(words)):\n",
    "        if tfidf[i,j] > 0.4:\n",
    "              print(words[j], tfidf[i,j], i ,j)"
   ]
  },
  {
   "cell_type": "markdown",
   "metadata": {},
   "source": [
    "---"
   ]
  },
  {
   "cell_type": "markdown",
   "metadata": {},
   "source": [
    "## TF-IDF 範例(二)\n",
    "http://pingweishang.com/chinese-text-similarity-calculation"
   ]
  },
  {
   "cell_type": "code",
   "execution_count": 8,
   "metadata": {
    "collapsed": true
   },
   "outputs": [],
   "source": [
    "import os\n",
    "import sys\n",
    "import jieba\n",
    "import jieba.analyse\n",
    "import scipy as sp\n",
    "from sklearn.feature_extraction.text import TfidfVectorizer"
   ]
  },
  {
   "cell_type": "markdown",
   "metadata": {},
   "source": [
    "### jieba setting"
   ]
  },
  {
   "cell_type": "code",
   "execution_count": 9,
   "metadata": {},
   "outputs": [
    {
     "name": "stderr",
     "output_type": "stream",
     "text": [
      "Building prefix dict from C:\\Users\\asus\\Documents\\github repository\\106-2PythonSampleCode\\week_5\\course_5\\files\\dict.txt ...\n",
      "Dumping model to file cache C:\\Users\\asus\\AppData\\Local\\Temp\\jieba.uc643c58cbfabcb2e88ffb1272deb26a7.cache\n",
      "Loading model cost 1.363 seconds.\n",
      "Prefix dict has been built succesfully.\n"
     ]
    }
   ],
   "source": [
    "jieba.set_dictionary('./files/dict.txt') # 繁體字詞庫\n",
    "jieba.load_userdict(\"./files/dict_test.txt\") # 自訂字詞庫\n",
    "jieba.analyse.set_stop_words('./files/stop_test.txt') #自訂停止詞"
   ]
  },
  {
   "cell_type": "markdown",
   "metadata": {},
   "source": [
    "### testing_use data"
   ]
  },
  {
   "cell_type": "code",
   "execution_count": 10,
   "metadata": {
    "collapsed": true
   },
   "outputs": [],
   "source": [
    "# testing data\n",
    "article_1 = \"這是一篇關於機器學習的文章，實際上他沒有多少有趣的知識，小孩!。\"\n",
    "article_2 = \"圖像數據庫會變得非常巨大，小孩!\"\n",
    "article_3 = \"大火車快飛哈哈哈哈哈，小孩!\"\n",
    "article_4 = \"圖像數據庫可以存儲圖像，小孩!\"\n",
    "article_5 = \"圖像數據庫可以存儲圖像，圖像數據庫可以存儲圖像，小孩!\"\n",
    "\n",
    "articles = [article_1, article_2, article_3, article_4, article_5]"
   ]
  },
  {
   "cell_type": "markdown",
   "metadata": {},
   "source": [
    "### preprocess data"
   ]
  },
  {
   "cell_type": "code",
   "execution_count": 11,
   "metadata": {
    "collapsed": true
   },
   "outputs": [],
   "source": [
    "# cut and join \n",
    "seg_list = [\" \".join(jieba.cut(article)) for article in articles ]"
   ]
  },
  {
   "cell_type": "code",
   "execution_count": 12,
   "metadata": {},
   "outputs": [
    {
     "data": {
      "text/plain": [
       "['這是 一篇 關於 機器學習 的 文章 ， 實際 上 他 沒有 多少 有趣 的 知識 ， 小孩 ! 。',\n",
       " '圖像 數據庫 會 變得 非常 巨大 ， 小孩 !',\n",
       " '大 火車 快飛 哈哈 哈哈 哈 ， 小孩 !',\n",
       " '圖像 數據庫 可以 存儲 圖像 ， 小孩 !',\n",
       " '圖像 數據庫 可以 存儲 圖像 ， 圖像 數據庫 可以 存儲 圖像 ， 小孩 !']"
      ]
     },
     "execution_count": 12,
     "metadata": {},
     "output_type": "execute_result"
    }
   ],
   "source": [
    "seg_list"
   ]
  },
  {
   "cell_type": "markdown",
   "metadata": {},
   "source": [
    "### tfidf"
   ]
  },
  {
   "cell_type": "code",
   "execution_count": 13,
   "metadata": {
    "collapsed": true
   },
   "outputs": [],
   "source": [
    "# stop words for tfidf\n",
    "stop_word_list = ['多少', '可以', '沒有']"
   ]
  },
  {
   "cell_type": "code",
   "execution_count": 14,
   "metadata": {
    "collapsed": true
   },
   "outputs": [],
   "source": [
    "# tfidf\n",
    "vectorizer = TfidfVectorizer(min_df=1, stop_words = stop_word_list)\n",
    "tfidf = vectorizer.fit_transform(seg_list)"
   ]
  },
  {
   "cell_type": "markdown",
   "metadata": {},
   "source": [
    "### check results"
   ]
  },
  {
   "cell_type": "code",
   "execution_count": 15,
   "metadata": {},
   "outputs": [
    {
     "name": "stdout",
     "output_type": "stream",
     "text": [
      "停用詞: frozenset({'多少', '沒有', '可以'})\n",
      "tfidf_shape: (5, 18)\n"
     ]
    }
   ],
   "source": [
    "print('停用詞:', vectorizer.get_stop_words())\n",
    "print('tfidf_shape:', tfidf.shape)"
   ]
  },
  {
   "cell_type": "code",
   "execution_count": 16,
   "metadata": {},
   "outputs": [
    {
     "name": "stdout",
     "output_type": "stream",
     "text": [
      "詞語序列: ['一篇', '哈哈', '圖像', '存儲', '實際', '小孩', '巨大', '快飛', '數據庫', '文章', '有趣', '機器學習', '火車', '知識', '變得', '這是', '關於', '非常']\n"
     ]
    }
   ],
   "source": [
    "words = vectorizer.get_feature_names()\n",
    "print('詞語序列:', words)"
   ]
  },
  {
   "cell_type": "code",
   "execution_count": 17,
   "metadata": {},
   "outputs": [
    {
     "data": {
      "text/plain": [
       "array([[ 0.34864042,  0.        ,  0.        ,  0.        ,  0.34864042,\n",
       "         0.16612903,  0.        ,  0.        ,  0.        ,  0.34864042,\n",
       "         0.34864042,  0.34864042,  0.        ,  0.34864042,  0.        ,\n",
       "         0.34864042,  0.34864042,  0.        ],\n",
       "       [ 0.        ,  0.        ,  0.32977981,  0.        ,  0.        ,\n",
       "         0.23464105,  0.4924206 ,  0.        ,  0.32977981,  0.        ,\n",
       "         0.        ,  0.        ,  0.        ,  0.        ,  0.4924206 ,\n",
       "         0.        ,  0.        ,  0.4924206 ],\n",
       "       [ 0.        ,  0.80147238,  0.        ,  0.        ,  0.        ,\n",
       "         0.19095294,  0.        ,  0.40073619,  0.        ,  0.        ,\n",
       "         0.        ,  0.        ,  0.40073619,  0.        ,  0.        ,\n",
       "         0.        ,  0.        ,  0.        ],\n",
       "       [ 0.        ,  0.        ,  0.75823328,  0.45671733,  0.        ,\n",
       "         0.26974461,  0.        ,  0.        ,  0.37911664,  0.        ,\n",
       "         0.        ,  0.        ,  0.        ,  0.        ,  0.        ,\n",
       "         0.        ,  0.        ,  0.        ],\n",
       "       [ 0.        ,  0.        ,  0.7798095 ,  0.46971364,  0.        ,\n",
       "         0.13871022,  0.        ,  0.        ,  0.38990475,  0.        ,\n",
       "         0.        ,  0.        ,  0.        ,  0.        ,  0.        ,\n",
       "         0.        ,  0.        ,  0.        ]])"
      ]
     },
     "execution_count": 17,
     "metadata": {},
     "output_type": "execute_result"
    }
   ],
   "source": [
    "# check the tf-idf array\n",
    "tfidf.toarray()"
   ]
  },
  {
   "cell_type": "code",
   "execution_count": 18,
   "metadata": {},
   "outputs": [
    {
     "name": "stdout",
     "output_type": "stream",
     "text": [
      "----Article 0----\n",
      "----Article 1----\n",
      "----Article 2----\n",
      "哈哈 0.801472384089 2 1\n",
      "----Article 3----\n",
      "圖像 0.758233277044 3 2\n",
      "----Article 4----\n",
      "圖像 0.779809501259 4 2\n"
     ]
    }
   ],
   "source": [
    "# check each document\n",
    "for i in range(len(articles)):\n",
    "    print('----Article {0}----'.format(i))\n",
    "    for j in range(len(words)):\n",
    "        if tfidf[i,j] > 0.5:\n",
    "              print(words[j], tfidf[i,j], i ,j)"
   ]
  },
  {
   "cell_type": "markdown",
   "metadata": {},
   "source": [
    "### test a new article with the exist vectorizer!"
   ]
  },
  {
   "cell_type": "code",
   "execution_count": 19,
   "metadata": {},
   "outputs": [
    {
     "name": "stdout",
     "output_type": "stream",
     "text": [
      "圖像 數據庫\n"
     ]
    }
   ],
   "source": [
    "# new_article\n",
    "new_article = \"圖像數據庫\"\n",
    "new_seg = \" \".join(jieba.cut(new_article))\n",
    "\n",
    "print(new_seg)"
   ]
  },
  {
   "cell_type": "code",
   "execution_count": 20,
   "metadata": {},
   "outputs": [
    {
     "name": "stdout",
     "output_type": "stream",
     "text": [
      "new_article's vector\n",
      "[[ 0.          0.          0.70710678  0.          0.          0.          0.\n",
      "   0.          0.70710678  0.          0.          0.          0.          0.\n",
      "   0.          0.          0.          0.        ]]\n"
     ]
    }
   ],
   "source": [
    "# test it \n",
    "new_vec = vectorizer.transform([new_seg])\n",
    "print(\"new_article's vector\")\n",
    "print(new_vec.toarray())"
   ]
  },
  {
   "cell_type": "markdown",
   "metadata": {},
   "source": [
    "### 文章相似度?\n",
    "- http://www.ruanyifeng.com/blog/2013/03/cosine_similarity.html\n",
    "- https://plushunter.github.io/2017/07/07/机器学习算法系列（23）：TF-IDF与余弦相似度/\n"
   ]
  }
 ],
 "metadata": {
  "kernelspec": {
   "display_name": "Python 3",
   "language": "python",
   "name": "python3"
  },
  "language_info": {
   "codemirror_mode": {
    "name": "ipython",
    "version": 3
   },
   "file_extension": ".py",
   "mimetype": "text/x-python",
   "name": "python",
   "nbconvert_exporter": "python",
   "pygments_lexer": "ipython3",
   "version": "3.6.3"
  }
 },
 "nbformat": 4,
 "nbformat_minor": 2
}
