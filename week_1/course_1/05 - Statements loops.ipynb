{
 "cells": [
  {
   "cell_type": "markdown",
   "metadata": {},
   "source": [
    "# 05 - Statements | loops\n",
    "- NTU-CSX 2018\n",
    "\n",
    "<hr style=\"border-width:3px\"></hr>"
   ]
  },
  {
   "cell_type": "markdown",
   "metadata": {},
   "source": [
    "## for loops \n",
    "\n",
    "References\n",
    "- 1 https://openhome.cc/Gossip/Python/ForWhileStatement.html\n",
    "- 2 https://www.w3schools.in/python-tutorial/loops/\n",
    "\n",
    "語法：\n",
    "<pre style=\"background-color:#FBFBFB\">\n",
    "for item in object:\n",
    "    DO SOMETHING\n",
    "</pre>\n",
    "\n",
    "語法要點：\n",
    "<pre style=\"background-color:#FBFBFB\">\n",
    "for item in object:\n",
    "    ￣￣  # DO SOMETHING\n",
    "     ↑\n",
    "     item的變數名可自由命名，不影響loop結果\n",
    "</pre>\n",
    "\n",
    "概念舉例：\n",
    "<pre style=\"background-color:#FBFBFB\">\n",
    "for 學生姓名 in 修課學生名單:\n",
    "    print(學生姓名)\n",
    "</pre>\n"
   ]
  },
  {
   "cell_type": "markdown",
   "metadata": {},
   "source": [
    "<hr style=\"border-width:3px\"></hr>"
   ]
  },
  {
   "cell_type": "markdown",
   "metadata": {
    "collapsed": true
   },
   "source": [
    "### Example 1 - for loop with list\n",
    "為何要用loop?"
   ]
  },
  {
   "cell_type": "code",
   "execution_count": 1,
   "metadata": {},
   "outputs": [
    {
     "name": "stdout",
     "output_type": "stream",
     "text": [
      "1\n",
      "2\n",
      "3\n",
      "4\n",
      "5\n"
     ]
    }
   ],
   "source": [
    "num_list = [1, 2, 3, 4, 5]\n",
    "\n",
    "# 印出num_list中的數字\n",
    "print(num_list[0])\n",
    "print(num_list[1])\n",
    "print(num_list[2])\n",
    "print(num_list[3])\n",
    "print(num_list[4])"
   ]
  },
  {
   "cell_type": "code",
   "execution_count": 2,
   "metadata": {},
   "outputs": [
    {
     "name": "stdout",
     "output_type": "stream",
     "text": [
      "1\n",
      "2\n",
      "3\n",
      "4\n",
      "5\n"
     ]
    }
   ],
   "source": [
    "num_list = [1, 2, 3, 4, 5]\n",
    "\n",
    "# 用for loop印出印出num_list中的數字\n",
    "for num in num_list:\n",
    "    print(num)"
   ]
  },
  {
   "cell_type": "code",
   "execution_count": 3,
   "metadata": {},
   "outputs": [
    {
     "name": "stdout",
     "output_type": "stream",
     "text": [
      "1\n",
      "2\n",
      "3\n",
      "4\n",
      "5\n"
     ]
    }
   ],
   "source": [
    "num_list = [1, 2, 3, 4, 5]\n",
    "\n",
    "# 用 x ，也是可以執行的。\n",
    "for x in num_list:\n",
    "    print(x)"
   ]
  },
  {
   "cell_type": "code",
   "execution_count": 4,
   "metadata": {},
   "outputs": [
    {
     "name": "stdout",
     "output_type": "stream",
     "text": [
      "A\n",
      "20\n",
      "B\n",
      "40\n",
      "C\n",
      "60\n"
     ]
    }
   ],
   "source": [
    "mix_list = [('A', 20), ('B', 40), ('C', 60)]\n",
    "\n",
    "for (x, y) in mix_list:\n",
    "    print(x)\n",
    "    print(y)"
   ]
  },
  {
   "cell_type": "markdown",
   "metadata": {},
   "source": [
    "<hr style=\"border-width:3px\"></hr>"
   ]
  },
  {
   "cell_type": "markdown",
   "metadata": {
    "collapsed": true
   },
   "source": [
    "### Example 2 - for loop with if-else"
   ]
  },
  {
   "cell_type": "code",
   "execution_count": 5,
   "metadata": {},
   "outputs": [
    {
     "name": "stdout",
     "output_type": "stream",
     "text": [
      "分數為80, 高於75分呢!\n",
      "分數為92, 高於75分呢!\n"
     ]
    }
   ],
   "source": [
    "grade_list = [80, 70, 69, 50, 92]\n",
    "\n",
    "for grade in grade_list:\n",
    "    if grade > 75:\n",
    "        print(\"分數為{}, 高於75分呢!\".format(grade))"
   ]
  },
  {
   "cell_type": "code",
   "execution_count": 6,
   "metadata": {},
   "outputs": [
    {
     "name": "stdout",
     "output_type": "stream",
     "text": [
      "1 奇數\n",
      "2 偶數\n",
      "3 奇數\n",
      "4 偶數\n",
      "5 奇數\n",
      "6 偶數\n"
     ]
    }
   ],
   "source": [
    "num_list = [1, 2, 3, 4, 5, 6]\n",
    "\n",
    "for num in num_list:\n",
    "    if num % 2 == 0:\n",
    "        print(num, \"偶數\")\n",
    "    else:\n",
    "        print(num, '奇數')"
   ]
  },
  {
   "cell_type": "code",
   "execution_count": 7,
   "metadata": {},
   "outputs": [
    {
     "name": "stdout",
     "output_type": "stream",
     "text": [
      "['Kobe', 'Klay']\n"
     ]
    }
   ],
   "source": [
    "name_list = [\"Kobe\", \"James\", \"Steve\", \"Klay\"]\n",
    "k_list = []\n",
    "\n",
    "for name in name_list:\n",
    "    # 轉為小寫後, 判斷開頭是否為k \n",
    "    if name.lower().startswith('k'):\n",
    "        # append到k_list\n",
    "        k_list.append(name)\n",
    "        \n",
    "print(k_list)"
   ]
  },
  {
   "cell_type": "markdown",
   "metadata": {},
   "source": [
    "<hr style=\"border-width:3px\"></hr>"
   ]
  },
  {
   "cell_type": "markdown",
   "metadata": {
    "collapsed": true
   },
   "source": [
    "### Example 3 - for loop with string"
   ]
  },
  {
   "cell_type": "code",
   "execution_count": 8,
   "metadata": {},
   "outputs": [
    {
     "name": "stdout",
     "output_type": "stream",
     "text": [
      "C\n",
      "o\n",
      "n\n",
      "g\n",
      "r\n",
      "a\n",
      "t\n",
      "u\n",
      "l\n",
      "a\n",
      "t\n",
      "i\n",
      "o\n",
      "n\n",
      "s\n",
      "!\n"
     ]
    }
   ],
   "source": [
    "# string\n",
    "for letter in 'Congratulations!':\n",
    "    print(letter)"
   ]
  },
  {
   "cell_type": "code",
   "execution_count": 9,
   "metadata": {},
   "outputs": [
    {
     "name": "stdout",
     "output_type": "stream",
     "text": [
      "1\n",
      "2\n",
      "3\n",
      "4\n",
      "5\n"
     ]
    }
   ],
   "source": [
    "# tuple\n",
    "_tuple = (1,2,3,4,5)\n",
    "\n",
    "for t in _tuple:\n",
    "    print(t)"
   ]
  },
  {
   "cell_type": "markdown",
   "metadata": {},
   "source": [
    "<hr style=\"border-width:3px\"></hr>"
   ]
  },
  {
   "cell_type": "markdown",
   "metadata": {},
   "source": [
    "### Example 4 for loop with tuple"
   ]
  },
  {
   "cell_type": "code",
   "execution_count": 10,
   "metadata": {},
   "outputs": [
    {
     "name": "stdout",
     "output_type": "stream",
     "text": [
      "1\n",
      "2\n",
      "3\n",
      "4\n",
      "5\n"
     ]
    }
   ],
   "source": [
    "# tuple\n",
    "_tuple = (1,2,3,4,5)\n",
    "\n",
    "for t in _tuple:\n",
    "    print(t)"
   ]
  },
  {
   "cell_type": "markdown",
   "metadata": {},
   "source": [
    "<hr style=\"border-width:3px\"></hr>"
   ]
  },
  {
   "cell_type": "markdown",
   "metadata": {},
   "source": [
    "### Example 5 - for loop with dict"
   ]
  },
  {
   "cell_type": "code",
   "execution_count": 11,
   "metadata": {
    "collapsed": true
   },
   "outputs": [],
   "source": [
    "grade_dict = {'math': 80,\n",
    "              'physics': 90,\n",
    "              'geography': 89}"
   ]
  },
  {
   "cell_type": "code",
   "execution_count": 12,
   "metadata": {},
   "outputs": [
    {
     "data": {
      "text/plain": [
       "dict_keys(['math', 'physics', 'geography'])"
      ]
     },
     "execution_count": 12,
     "metadata": {},
     "output_type": "execute_result"
    }
   ],
   "source": [
    "# check grade_dict.keys()\n",
    "grade_dict.keys()"
   ]
  },
  {
   "cell_type": "code",
   "execution_count": 13,
   "metadata": {},
   "outputs": [
    {
     "name": "stdout",
     "output_type": "stream",
     "text": [
      "math\n",
      "physics\n",
      "geography\n"
     ]
    }
   ],
   "source": [
    "for key in grade_dict.keys():\n",
    "    print(key)"
   ]
  },
  {
   "cell_type": "code",
   "execution_count": 14,
   "metadata": {},
   "outputs": [
    {
     "data": {
      "text/plain": [
       "dict_items([('math', 80), ('physics', 90), ('geography', 89)])"
      ]
     },
     "execution_count": 14,
     "metadata": {},
     "output_type": "execute_result"
    }
   ],
   "source": [
    "# check grade_dict.items()\n",
    "grade_dict.items()"
   ]
  },
  {
   "cell_type": "code",
   "execution_count": 15,
   "metadata": {},
   "outputs": [
    {
     "name": "stdout",
     "output_type": "stream",
     "text": [
      "math 80\n",
      "physics 90\n",
      "geography 89\n"
     ]
    }
   ],
   "source": [
    "for key, value in grade_dict.items():\n",
    "    print(key, value)"
   ]
  },
  {
   "cell_type": "markdown",
   "metadata": {},
   "source": [
    "<hr style=\"border-width:3px\"></hr>"
   ]
  },
  {
   "cell_type": "markdown",
   "metadata": {},
   "source": [
    "### Example 5 - break? continue?"
   ]
  },
  {
   "cell_type": "code",
   "execution_count": 16,
   "metadata": {
    "collapsed": true
   },
   "outputs": [],
   "source": [
    "# grade_list\n",
    "grade_list = [10, 20, 30, 40, 50]"
   ]
  },
  {
   "cell_type": "code",
   "execution_count": 17,
   "metadata": {},
   "outputs": [
    {
     "name": "stdout",
     "output_type": "stream",
     "text": [
      "0 10\n",
      "1 20\n",
      "2 30\n",
      "3 40\n"
     ]
    }
   ],
   "source": [
    "# count use 計數用\n",
    "i = 0\n",
    "\n",
    "for grade in grade_list:\n",
    "    # 當i>3為真, break 會離開該層迴圈 \n",
    "    if i > 3:\n",
    "        break\n",
    "    \n",
    "    # 印出 i與grade\n",
    "    print(i, grade)\n",
    "    \n",
    "    # 每次進行到這, 計數 i = i + 1\n",
    "    i += 1 "
   ]
  },
  {
   "cell_type": "code",
   "execution_count": 18,
   "metadata": {},
   "outputs": [
    {
     "name": "stdout",
     "output_type": "stream",
     "text": [
      "0 10\n",
      "1 20\n",
      "2 30\n",
      "4 50\n"
     ]
    }
   ],
   "source": [
    "# count use 計數用\n",
    "i = 0\n",
    "\n",
    "for grade in grade_list:\n",
    "    # continue用於跳過該次迭代\n",
    "    if i == 3:\n",
    "        i += 1\n",
    "        continue\n",
    "    \n",
    "    print(i, grade)\n",
    "    i += 1 "
   ]
  },
  {
   "cell_type": "markdown",
   "metadata": {},
   "source": [
    "### Example 6 關於pass\n",
    "- pass是空語句,使用於保持結構的完整性。\n",
    "- pass不會有任何輸出。"
   ]
  },
  {
   "cell_type": "code",
   "execution_count": 19,
   "metadata": {},
   "outputs": [
    {
     "name": "stdout",
     "output_type": "stream",
     "text": [
      "p\n",
      "y\n",
      "h\n",
      "o\n",
      "n\n"
     ]
    }
   ],
   "source": [
    "word = \"python\"\n",
    "\n",
    "for letter in word:\n",
    "    if letter == \"t\":\n",
    "        pass\n",
    "    else:\n",
    "        print(letter)"
   ]
  },
  {
   "cell_type": "markdown",
   "metadata": {},
   "source": [
    "<hr style=\"border-width:3px\"></hr>"
   ]
  },
  {
   "cell_type": "markdown",
   "metadata": {},
   "source": [
    "## while loops\n",
    "References\n",
    "- GIF animation https://blog.penjee.com/top-5-animated-gifs-explain-loops-python/\n",
    "- 1 https://www.w3schools.in/python-tutorial/loops/\n",
    "- 2 https://www.w3schools.in/python-tutorial/loops/\n",
    "\n",
    "when to use \"while\" or \"for\" in python?\n",
    "- https://stackoverflow.com/questions/920645/when-to-use-while-or-for-in-python\n",
    "\n",
    "語法：\n",
    "<pre style=\"background-color:#FBFBFB\">\n",
    "while 條件:\n",
    "    DO SOMETHING\n",
    "else:\n",
    "    Escape the while loop, finally DO SOMETHING\n",
    "</pre>\n",
    "\n",
    "\n",
    "**請注意：判斷條件若使用不善，可能會產生infinite loop**"
   ]
  },
  {
   "cell_type": "markdown",
   "metadata": {},
   "source": [
    "### Example 1"
   ]
  },
  {
   "cell_type": "code",
   "execution_count": 20,
   "metadata": {},
   "outputs": [
    {
     "name": "stdout",
     "output_type": "stream",
     "text": [
      "現在10歲, 沒滿18歲還不能喝酒喔\n",
      "現在11歲, 沒滿18歲還不能喝酒喔\n",
      "現在12歲, 沒滿18歲還不能喝酒喔\n",
      "現在13歲, 沒滿18歲還不能喝酒喔\n",
      "現在14歲, 沒滿18歲還不能喝酒喔\n",
      "現在15歲, 沒滿18歲還不能喝酒喔\n",
      "現在16歲, 沒滿18歲還不能喝酒喔\n",
      "現在17歲, 沒滿18歲還不能喝酒喔\n",
      "跳出while了, 現在18歲!\n"
     ]
    }
   ],
   "source": [
    "age = 10\n",
    "\n",
    "while age < 18:\n",
    "    print(\"現在{}歲, 沒滿18歲還不能喝酒喔\".format(age))\n",
    "    age+=1\n",
    "    \n",
    "else:\n",
    "    print('跳出while了, 現在{}歲!'.format(age))"
   ]
  },
  {
   "cell_type": "markdown",
   "metadata": {
    "collapsed": true
   },
   "source": [
    "### Example 2"
   ]
  },
  {
   "cell_type": "code",
   "execution_count": 21,
   "metadata": {
    "collapsed": true
   },
   "outputs": [],
   "source": [
    "# 請注意!!這會造成無限迴圈。\n",
    "# 因 while條件恆為真!\n",
    "# while True:\n",
    "#     print(\"卡在infinite loop=_=\")"
   ]
  },
  {
   "cell_type": "code",
   "execution_count": 22,
   "metadata": {},
   "outputs": [
    {
     "name": "stdout",
     "output_type": "stream",
     "text": [
      "10\n",
      "11\n",
      "12\n",
      "13\n",
      "14\n",
      "15\n"
     ]
    }
   ],
   "source": [
    "# while條件恆為真。\n",
    "# 利用while內的if判斷式搭配break進行迴圈跳出。\n",
    "# 請注意此種方法，else內不會被執行。\n",
    "x = 10\n",
    "\n",
    "while True:\n",
    "    print(x)        \n",
    "    x += 1\n",
    "    if x > 15:\n",
    "        break\n",
    "        \n",
    "else:\n",
    "    print(\"咦?\")"
   ]
  },
  {
   "cell_type": "markdown",
   "metadata": {},
   "source": [
    "<hr style=\"border-width:3px\"></hr>"
   ]
  },
  {
   "cell_type": "markdown",
   "metadata": {},
   "source": [
    "## 常用技巧整理\n",
    "\n",
    "- range\n",
    "    - http://www.runoob.com/python3/python3-func-range.html\n",
    "- enumerate\n",
    "    - http://www.runoob.com/python3/python3-func-enumerate.html\n",
    "- zip\n",
    "    - https://goo.gl/2rXdPB\n",
    "    - http://www.cnblogs.com/yemeng/p/4063769.html\n",
    "- in\n",
    "    - https://goo.gl/pRgqz8\n",
    "- list comprehension\n",
    "    - http://python-3-patterns-idioms-test.readthedocs.io/en/latest/Comprehensions.html"
   ]
  },
  {
   "cell_type": "markdown",
   "metadata": {},
   "source": [
    "### range\n",
    "- http://www.runoob.com/python3/python3-func-range.html"
   ]
  },
  {
   "cell_type": "code",
   "execution_count": 23,
   "metadata": {},
   "outputs": [
    {
     "data": {
      "text/plain": [
       "range(0, 5)"
      ]
     },
     "execution_count": 23,
     "metadata": {},
     "output_type": "execute_result"
    }
   ],
   "source": [
    "range(5)"
   ]
  },
  {
   "cell_type": "code",
   "execution_count": 24,
   "metadata": {},
   "outputs": [
    {
     "data": {
      "text/plain": [
       "range"
      ]
     },
     "execution_count": 24,
     "metadata": {},
     "output_type": "execute_result"
    }
   ],
   "source": [
    "type(range(5))"
   ]
  },
  {
   "cell_type": "code",
   "execution_count": 25,
   "metadata": {},
   "outputs": [
    {
     "data": {
      "text/plain": [
       "[0, 1, 2, 3, 4]"
      ]
     },
     "execution_count": 25,
     "metadata": {},
     "output_type": "execute_result"
    }
   ],
   "source": [
    "list(range(5))"
   ]
  },
  {
   "cell_type": "code",
   "execution_count": 26,
   "metadata": {},
   "outputs": [
    {
     "name": "stdout",
     "output_type": "stream",
     "text": [
      "0\n",
      "1\n",
      "2\n",
      "3\n",
      "4\n"
     ]
    }
   ],
   "source": [
    "for i in range(5):\n",
    "    print(i)"
   ]
  },
  {
   "cell_type": "code",
   "execution_count": 27,
   "metadata": {},
   "outputs": [
    {
     "name": "stdout",
     "output_type": "stream",
     "text": [
      "1\n",
      "2\n",
      "3\n",
      "4\n"
     ]
    }
   ],
   "source": [
    "for i in range(1, 5):\n",
    "    print(i)"
   ]
  },
  {
   "cell_type": "markdown",
   "metadata": {
    "collapsed": true
   },
   "source": [
    "### enumerate\n",
    "- http://www.runoob.com/python3/python3-func-enumerate.html"
   ]
  },
  {
   "cell_type": "code",
   "execution_count": 28,
   "metadata": {
    "collapsed": true
   },
   "outputs": [],
   "source": [
    "fruit_list = ['apple', 'banana', 'pineapple']"
   ]
  },
  {
   "cell_type": "code",
   "execution_count": 29,
   "metadata": {},
   "outputs": [
    {
     "name": "stdout",
     "output_type": "stream",
     "text": [
      "0 apple\n",
      "1 banana\n",
      "2 pineapple\n"
     ]
    }
   ],
   "source": [
    "# get index method 1\n",
    "i = 0\n",
    "for item in fruit_list:\n",
    "    print(i, item)\n",
    "    i += 1"
   ]
  },
  {
   "cell_type": "code",
   "execution_count": 30,
   "metadata": {},
   "outputs": [
    {
     "name": "stdout",
     "output_type": "stream",
     "text": [
      "0 apple\n",
      "1 banana\n",
      "2 pineapple\n"
     ]
    }
   ],
   "source": [
    "# get index method 2\n",
    "for item in fruit_list:\n",
    "    item_index = fruit_list.index(item)\n",
    "    print(item_index, item)"
   ]
  },
  {
   "cell_type": "code",
   "execution_count": 31,
   "metadata": {},
   "outputs": [
    {
     "name": "stdout",
     "output_type": "stream",
     "text": [
      "0 apple\n",
      "1 banana\n",
      "2 pineapple\n"
     ]
    }
   ],
   "source": [
    "# get index method 3, with range\n",
    "for i in range(len(fruit_list)):\n",
    "    print(i, fruit_list[i])"
   ]
  },
  {
   "cell_type": "code",
   "execution_count": 32,
   "metadata": {},
   "outputs": [
    {
     "name": "stdout",
     "output_type": "stream",
     "text": [
      "0 apple\n",
      "1 banana\n",
      "2 pineapple\n"
     ]
    }
   ],
   "source": [
    "# get index method 4,  with enumerate\n",
    "for index, item in enumerate(fruit_list):\n",
    "    print(index, item)"
   ]
  },
  {
   "cell_type": "markdown",
   "metadata": {
    "collapsed": true
   },
   "source": [
    "### zip\n",
    "- https://goo.gl/2rXdPB\n",
    "- http://www.cnblogs.com/yemeng/p/4063769.html"
   ]
  },
  {
   "cell_type": "code",
   "execution_count": 33,
   "metadata": {
    "collapsed": true
   },
   "outputs": [],
   "source": [
    "number_list = [10, 20, 30, 40, 50]\n",
    "subject_list = ['A', 'B', 'C', 'D', 'E']"
   ]
  },
  {
   "cell_type": "code",
   "execution_count": 34,
   "metadata": {},
   "outputs": [
    {
     "data": {
      "text/plain": [
       "<zip at 0x24135295b88>"
      ]
     },
     "execution_count": 34,
     "metadata": {},
     "output_type": "execute_result"
    }
   ],
   "source": [
    "zip(number_list, subject_list)"
   ]
  },
  {
   "cell_type": "code",
   "execution_count": 35,
   "metadata": {},
   "outputs": [
    {
     "data": {
      "text/plain": [
       "[(10, 'A'), (20, 'B'), (30, 'C'), (40, 'D'), (50, 'E')]"
      ]
     },
     "execution_count": 35,
     "metadata": {},
     "output_type": "execute_result"
    }
   ],
   "source": [
    "list(zip(number_list, subject_list))"
   ]
  },
  {
   "cell_type": "markdown",
   "metadata": {},
   "source": [
    "### in\n",
    "- https://goo.gl/pRgqz8"
   ]
  },
  {
   "cell_type": "code",
   "execution_count": 36,
   "metadata": {},
   "outputs": [
    {
     "data": {
      "text/plain": [
       "True"
      ]
     },
     "execution_count": 36,
     "metadata": {},
     "output_type": "execute_result"
    }
   ],
   "source": [
    "'p' in 'python'"
   ]
  },
  {
   "cell_type": "code",
   "execution_count": 37,
   "metadata": {},
   "outputs": [
    {
     "data": {
      "text/plain": [
       "True"
      ]
     },
     "execution_count": 37,
     "metadata": {},
     "output_type": "execute_result"
    }
   ],
   "source": [
    "'A' in ['A', 'B', 'C']"
   ]
  },
  {
   "cell_type": "code",
   "execution_count": 38,
   "metadata": {},
   "outputs": [
    {
     "data": {
      "text/plain": [
       "False"
      ]
     },
     "execution_count": 38,
     "metadata": {},
     "output_type": "execute_result"
    }
   ],
   "source": [
    "['A'] in ['A', 'B', 'C']"
   ]
  },
  {
   "cell_type": "code",
   "execution_count": 39,
   "metadata": {},
   "outputs": [
    {
     "data": {
      "text/plain": [
       "True"
      ]
     },
     "execution_count": 39,
     "metadata": {},
     "output_type": "execute_result"
    }
   ],
   "source": [
    "('A', 'B') in [('A', 'B'), ('B', 'C') ]"
   ]
  },
  {
   "cell_type": "markdown",
   "metadata": {},
   "source": [
    "### list comprehension\n",
    "- http://python-3-patterns-idioms-test.readthedocs.io/en/latest/Comprehensions.html"
   ]
  },
  {
   "cell_type": "code",
   "execution_count": 40,
   "metadata": {},
   "outputs": [
    {
     "name": "stdout",
     "output_type": "stream",
     "text": [
      "[10, 20, 30, 40, 50]\n"
     ]
    }
   ],
   "source": [
    "number_list = [10, 20, 30, 40, 50]\n",
    "collection_list = []\n",
    "\n",
    "# with for loop\n",
    "for number in number_list:\n",
    "    collection_list.append(number)\n",
    "\n",
    "print(collection_list)"
   ]
  },
  {
   "cell_type": "code",
   "execution_count": 41,
   "metadata": {},
   "outputs": [
    {
     "name": "stdout",
     "output_type": "stream",
     "text": [
      "[20, 40, 60, 80, 100]\n"
     ]
    }
   ],
   "source": [
    "number_list = [10, 20, 30, 40, 50]\n",
    "\n",
    "# with list comprehension\n",
    "double_list = [number*2 for number in number_list]\n",
    "\n",
    "print(double_list)"
   ]
  },
  {
   "cell_type": "code",
   "execution_count": 42,
   "metadata": {},
   "outputs": [
    {
     "name": "stdout",
     "output_type": "stream",
     "text": [
      "[30, 80, 150, 240, 350]\n",
      "max: 350\n",
      "min: 30\n",
      "sum: 850\n"
     ]
    }
   ],
   "source": [
    "price_list = [10, 20, 30, 40, 50]\n",
    "count_list = [3, 4, 5, 6, 7]\n",
    "\n",
    "multiple_list = [price_list[i]*count_list[i] for i in range(len(price_list))]\n",
    "\n",
    "print(multiple_list)\n",
    "print(\"max:\", max(multiple_list))\n",
    "print(\"min:\", min(multiple_list))\n",
    "print(\"sum:\", sum(multiple_list))"
   ]
  }
 ],
 "metadata": {
  "kernelspec": {
   "display_name": "Python 3",
   "language": "python",
   "name": "python3"
  },
  "language_info": {
   "codemirror_mode": {
    "name": "ipython",
    "version": 3
   },
   "file_extension": ".py",
   "mimetype": "text/x-python",
   "name": "python",
   "nbconvert_exporter": "python",
   "pygments_lexer": "ipython3",
   "version": "3.6.3"
  }
 },
 "nbformat": 4,
 "nbformat_minor": 2
}
