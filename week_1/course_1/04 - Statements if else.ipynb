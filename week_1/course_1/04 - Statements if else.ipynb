{
 "cells": [
  {
   "cell_type": "markdown",
   "metadata": {},
   "source": [
    "# 04 - Statements | if else\n",
    "- NTU-CSX 2018\n",
    "\n",
    "<hr style=\"border-width:3px\"></hr>"
   ]
  },
  {
   "cell_type": "markdown",
   "metadata": {},
   "source": [
    "## if else 判斷句\n",
    "References\n",
    "- 1 https://openhome.cc/Gossip/Python/IfStatement.html\n",
    "- 2 https://www.w3schools.in/python-tutorial/decision-making/"
   ]
  },
  {
   "cell_type": "markdown",
   "metadata": {
    "collapsed": true
   },
   "source": [
    "- python 和其他類型程式語言比較：\n",
    "    - 其他類型語言：\n",
    "    <pre style=\"background-color:#E7E6E1\">\n",
    "    if (a > 5){\n",
    "        DO SOMETHING\n",
    "    }\n",
    "    </pre>\n",
    "    - Python：\n",
    "    <pre style=\"background-color:#E7E6E1\">\n",
    "    if a > 5:\n",
    "        DO SOMETHING\n",
    "    </pre>\n",
    "    \n",
    "- python敘述句中，省略了() 和 {}。\n",
    "- 取而代之，使用空格縮排(Indentation)、冒號(:)來控制區域。\n",
    "- **請注意縮排非常重要**"
   ]
  },
  {
   "cell_type": "markdown",
   "metadata": {},
   "source": [
    "<hr style=\"border-width:3px\"></hr>"
   ]
  },
  {
   "cell_type": "markdown",
   "metadata": {
    "collapsed": true
   },
   "source": [
    "### Example 1\n",
    "<pre style=\"background-color:#E7E6E1\">\n",
    "if 判斷條件-A：\n",
    "    若判斷條件-A為真，執行此區域。\n",
    "</pre>"
   ]
  },
  {
   "cell_type": "code",
   "execution_count": 1,
   "metadata": {},
   "outputs": [
    {
     "name": "stdout",
     "output_type": "stream",
     "text": [
      "因為判斷條件為True，執行此區域\n"
     ]
    }
   ],
   "source": [
    "if True:\n",
    "    print(\"因為判斷條件為True，執行此區域\")"
   ]
  },
  {
   "cell_type": "code",
   "execution_count": 2,
   "metadata": {
    "collapsed": true
   },
   "outputs": [],
   "source": [
    "if False:\n",
    "    print(\"因為判斷條件為False，不會執行此區域\")"
   ]
  },
  {
   "cell_type": "markdown",
   "metadata": {},
   "source": [
    "<hr style=\"border-width:3px\"></hr>"
   ]
  },
  {
   "cell_type": "markdown",
   "metadata": {
    "collapsed": true
   },
   "source": [
    "### Example 2\n",
    "<pre style=\"background-color:#E7E6E1\">\n",
    "if 判斷條件-A：\n",
    "    若 判斷條件-A 為真，執行此區域。\n",
    "else:\n",
    "    除了 判斷條件-A 為真 的其餘狀況，執行此區域。\n",
    "</pre>"
   ]
  },
  {
   "cell_type": "code",
   "execution_count": 3,
   "metadata": {},
   "outputs": [
    {
     "name": "stdout",
     "output_type": "stream",
     "text": [
      "判斷條件為真，執行此區域\n"
     ]
    }
   ],
   "source": [
    "# if-else為由上往下，因此若判斷條件為真，即不會執行剩餘同等級判斷句。\n",
    "\n",
    "x = 100\n",
    "\n",
    "if x > 80:\n",
    "    print(\"判斷條件為真，執行此區域\")\n",
    "else:\n",
    "    print(\"不會執行此區域\")"
   ]
  },
  {
   "cell_type": "code",
   "execution_count": 4,
   "metadata": {},
   "outputs": [
    {
     "name": "stdout",
     "output_type": "stream",
     "text": [
      "您的分數是75分, 判定及格。\n"
     ]
    }
   ],
   "source": [
    "grade = 75\n",
    "\n",
    "if grade > 70:\n",
    "    print(\"您的分數是{}分, 判定及格。\".format(grade))\n",
    "else:\n",
    "    print(\"您的分數是{}分, 判定不及格。\".format(grade))"
   ]
  },
  {
   "cell_type": "code",
   "execution_count": 5,
   "metadata": {},
   "outputs": [
    {
     "name": "stdout",
     "output_type": "stream",
     "text": [
      "Hi Kobe!\n"
     ]
    }
   ],
   "source": [
    "p_name = 'Kobe'\n",
    "\n",
    "if p_name == 'Kobe':\n",
    "    print('Hi Kobe!')\n",
    "else:\n",
    "    print(\"Who?\")"
   ]
  },
  {
   "cell_type": "markdown",
   "metadata": {},
   "source": [
    "<hr style=\"border-width:3px\"></hr>"
   ]
  },
  {
   "cell_type": "markdown",
   "metadata": {},
   "source": [
    "### Example 3\n",
    "\n",
    "<pre style=\"background-color:#E7E6E1\">\n",
    "if 判斷條件-A：\n",
    "    若判斷條件-A為真，執行此區域。\n",
    "elif 判斷條件-B:\n",
    "    若A為假，且B為真，執行此區域。\n",
    "else:\n",
    "    若上述A為假，且B為假，執行此區域。\n",
    "</pre>"
   ]
  },
  {
   "cell_type": "code",
   "execution_count": 6,
   "metadata": {},
   "outputs": [
    {
     "name": "stdout",
     "output_type": "stream",
     "text": [
      "剩餘的條件，都歸類在這。\n"
     ]
    }
   ],
   "source": [
    "# 判斷條件不僅一個時\n",
    "grade = 63\n",
    "\n",
    "if grade > 80:\n",
    "    print(\"您的分數是{}分, 比80高呢。\".format(grade))\n",
    "elif grade > 75:\n",
    "    print(\"您的分數是{}分, 比75高呢。\".format(grade))\n",
    "elif grade > 70:\n",
    "    print(\"您的分數是{}分, 比70高呢。\".format(grade))\n",
    "else:\n",
    "    print(\"剩餘的條件，都歸類在這。\")"
   ]
  },
  {
   "cell_type": "code",
   "execution_count": 7,
   "metadata": {},
   "outputs": [
    {
     "name": "stdout",
     "output_type": "stream",
     "text": [
      "價格是250分, 介於200~300呢。\n"
     ]
    }
   ],
   "source": [
    "# 判斷條件不僅一個時\n",
    "price = 250\n",
    "\n",
    "if price > 300:\n",
    "    print(\"價格是{}分, 比300高呢。\".format(price))\n",
    "elif 300 >= price >= 200:\n",
    "    print(\"價格是{}分, 介於200~300呢。\".format(price))\n",
    "else:\n",
    "    print(\"剩餘的條件，都歸類在這。\")"
   ]
  },
  {
   "cell_type": "markdown",
   "metadata": {},
   "source": [
    "<hr style=\"border-width:3px\"></hr>"
   ]
  },
  {
   "cell_type": "markdown",
   "metadata": {},
   "source": [
    "### Example 4-1\n",
    "- 除了明確的判斷條件(ex: x = 5, a > 6),或是True False之外。\n",
    "-  empty list, empty dict, empty tuple, empty string, 0 -> 都判斷為False。"
   ]
  },
  {
   "cell_type": "code",
   "execution_count": 8,
   "metadata": {
    "collapsed": true
   },
   "outputs": [],
   "source": [
    "if []:\n",
    "    print(\"不會執行呢\")"
   ]
  },
  {
   "cell_type": "code",
   "execution_count": 9,
   "metadata": {
    "collapsed": true
   },
   "outputs": [],
   "source": [
    "if {}:\n",
    "    print(\"不會執行呢\")"
   ]
  },
  {
   "cell_type": "code",
   "execution_count": 10,
   "metadata": {
    "collapsed": true
   },
   "outputs": [],
   "source": [
    "if 0:\n",
    "    print(\"不會執行呢\")"
   ]
  },
  {
   "cell_type": "code",
   "execution_count": 11,
   "metadata": {
    "collapsed": true
   },
   "outputs": [],
   "source": [
    "if ():\n",
    "    print(\"不會執行呢\")"
   ]
  },
  {
   "cell_type": "code",
   "execution_count": 12,
   "metadata": {
    "collapsed": true
   },
   "outputs": [],
   "source": [
    "if \"\":\n",
    "    print(\"不會執行呢\")"
   ]
  },
  {
   "cell_type": "markdown",
   "metadata": {},
   "source": [
    "<hr style=\"border-width:3px\"></hr>"
   ]
  },
  {
   "cell_type": "markdown",
   "metadata": {},
   "source": [
    "### Example 4-2"
   ]
  },
  {
   "cell_type": "code",
   "execution_count": 13,
   "metadata": {},
   "outputs": [
    {
     "name": "stdout",
     "output_type": "stream",
     "text": [
      "會執行呢\n"
     ]
    }
   ],
   "source": [
    "if [\"A\"]:\n",
    "    print(\"會執行呢\")"
   ]
  },
  {
   "cell_type": "code",
   "execution_count": 14,
   "metadata": {},
   "outputs": [
    {
     "name": "stdout",
     "output_type": "stream",
     "text": [
      "會執行呢\n"
     ]
    }
   ],
   "source": [
    "if {'key1': 30}:\n",
    "    print(\"會執行呢\")"
   ]
  },
  {
   "cell_type": "code",
   "execution_count": 15,
   "metadata": {},
   "outputs": [
    {
     "name": "stdout",
     "output_type": "stream",
     "text": [
      "會執行呢\n"
     ]
    }
   ],
   "source": [
    "if 2:\n",
    "    print(\"會執行呢\")"
   ]
  },
  {
   "cell_type": "code",
   "execution_count": 16,
   "metadata": {},
   "outputs": [
    {
     "name": "stdout",
     "output_type": "stream",
     "text": [
      "會執行呢\n"
     ]
    }
   ],
   "source": [
    "if (3, 5):\n",
    "    print(\"會執行呢\")"
   ]
  },
  {
   "cell_type": "code",
   "execution_count": 17,
   "metadata": {},
   "outputs": [
    {
     "name": "stdout",
     "output_type": "stream",
     "text": [
      "會執行呢\n"
     ]
    }
   ],
   "source": [
    "if \"hi\":\n",
    "    print(\"會執行呢\")"
   ]
  },
  {
   "cell_type": "markdown",
   "metadata": {},
   "source": [
    "<hr style=\"border-width:3px\"></hr>"
   ]
  },
  {
   "cell_type": "markdown",
   "metadata": {
    "collapsed": true
   },
   "source": [
    "### Example 5 \n",
    "nested if-else"
   ]
  },
  {
   "cell_type": "code",
   "execution_count": 19,
   "metadata": {},
   "outputs": [
    {
     "name": "stdout",
     "output_type": "stream",
     "text": [
      "C\n"
     ]
    }
   ],
   "source": [
    "x = 5\n",
    "y = 10\n",
    "\n",
    "if x == 10:\n",
    "    if y > 30:\n",
    "        print(\"A\")\n",
    "    else:\n",
    "        print(\"B\")\n",
    "else:\n",
    "    if y == 10:\n",
    "        print(\"C\")"
   ]
  }
 ],
 "metadata": {
  "kernelspec": {
   "display_name": "Python 3",
   "language": "python",
   "name": "python3"
  },
  "language_info": {
   "codemirror_mode": {
    "name": "ipython",
    "version": 3
   },
   "file_extension": ".py",
   "mimetype": "text/x-python",
   "name": "python",
   "nbconvert_exporter": "python",
   "pygments_lexer": "ipython3",
   "version": "3.6.3"
  }
 },
 "nbformat": 4,
 "nbformat_minor": 2
}
