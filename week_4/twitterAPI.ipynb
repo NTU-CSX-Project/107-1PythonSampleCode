{
 "cells": [
  {
   "cell_type": "code",
   "execution_count": 1,
   "metadata": {
    "collapsed": true
   },
   "outputs": [],
   "source": [
    "from twython import Twython\n",
    "from twython import TwythonStreamer"
   ]
  },
  {
   "cell_type": "code",
   "execution_count": 2,
   "metadata": {
    "collapsed": true
   },
   "outputs": [],
   "source": [
    "import re\n",
    "import pandas as pd\n",
    "from collections import OrderedDict"
   ]
  },
  {
   "cell_type": "code",
   "execution_count": 3,
   "metadata": {
    "collapsed": true
   },
   "outputs": [],
   "source": [
    "api = Twython('BKo9wF0sGMYzCTqKmKwnL16BY','DVTqCsvcDY0q3f4dDQ8LlrUr4P13OkpmCYJfQfNw6lpgPTiBCt',\n",
    "                '844835244565970944-qMaMnAb8smEEROnbXvb2Rw7Rqnazk9g','LcK3mgBLDBW5xBT4O7BZaa1ZO6WuFt4YWtPnn2PqC8WY0')"
   ]
  },
  {
   "cell_type": "code",
   "execution_count": 6,
   "metadata": {
    "collapsed": false
   },
   "outputs": [
    {
     "data": {
      "text/plain": [
       "{'completed_in': 0.024,\n",
       " 'count': 3,\n",
       " 'max_id': 976247011530899456,\n",
       " 'max_id_str': '976247011530899456',\n",
       " 'next_results': '?max_id=976247011270971391&q=trump%20until%3A2018-03-21&count=3&include_entities=1',\n",
       " 'query': 'trump+until%3A2018-03-21',\n",
       " 'refresh_url': '?since_id=976247011530899456&q=trump%20until%3A2018-03-21&include_entities=1',\n",
       " 'since_id': 0,\n",
       " 'since_id_str': '0'}"
      ]
     },
     "execution_count": 6,
     "metadata": {},
     "output_type": "execute_result"
    }
   ],
   "source": [
    "result = api.search(q='trump',count='3',until = '2018-03-21')\n",
    "result['search_metadata']"
   ]
  },
  {
   "cell_type": "code",
   "execution_count": 7,
   "metadata": {
    "collapsed": false
   },
   "outputs": [
    {
     "name": "stdout",
     "output_type": "stream",
     "text": [
      "No: 1 ; ID: 976247011530899456\n",
      "Language: en\n",
      "Tweet Date: Tue Mar 20 23:59:59 +0000 2018\n",
      "RT @RVAwonk: Trump once called Fox News legal analyst Andrew Napolitano a \"great legal mind.\"\n",
      "\n",
      "Today, Napolitano said the firing of former… \n",
      "\n",
      "No: 2 ; ID: 976247011296055302\n",
      "Language: en\n",
      "Tweet Date: Tue Mar 20 23:59:59 +0000 2018\n",
      "RT @AdamSchiffCA: That Donald Trump would be a deeply flawed President was all too predictable. But that he could remake an entire party in… \n",
      "\n",
      "No: 3 ; ID: 976247011270971392\n",
      "Language: en\n",
      "Tweet Date: Tue Mar 20 23:59:59 +0000 2018\n",
      "@JeffFlake We are begging the GOP to stop being complicit spineless power hungry traitors. Change now or you will w… https://t.co/Iy8NYSQnVi \n",
      "\n"
     ]
    }
   ],
   "source": [
    "n = 1\n",
    "for tweet in result['statuses']:\n",
    "    print('No: %s ; ID: %s' % (n,tweet['id']))\n",
    "    print(\"Language: %s\" % (tweet['lang']))\n",
    "    print(\"Tweet Date: %s\" % (tweet['created_at']))\n",
    "    print(tweet['text'],\"\\n\")\n",
    "    n += 1"
   ]
  },
  {
   "cell_type": "code",
   "execution_count": 8,
   "metadata": {
    "collapsed": false
   },
   "outputs": [
    {
     "data": {
      "text/plain": [
       "'976247011270971391'"
      ]
     },
     "execution_count": 8,
     "metadata": {},
     "output_type": "execute_result"
    }
   ],
   "source": [
    "result['search_metadata']['next_results'].split('max_id=')[1].split('&')[0]"
   ]
  },
  {
   "cell_type": "code",
   "execution_count": 9,
   "metadata": {
    "collapsed": false
   },
   "outputs": [
    {
     "name": "stdout",
     "output_type": "stream",
     "text": [
      "page 1 available\n",
      "page 2 available\n"
     ]
    }
   ],
   "source": [
    "tweet_list = []\n",
    "try_numbers = 2\n",
    "n = 0\n",
    "\n",
    "for i in range(0,try_numbers):\n",
    "    if i == 0:\n",
    "        result = api.search(q='trump',count='40',until ='2018-03-21')\n",
    "    else:\n",
    "        try:\n",
    "            result = api.search(q='trump',count='100',include_entities='true',max_id=next_max_id)\n",
    "        except:\n",
    "            print('Twitter API Rate limit exceeded.')\n",
    "            time.sleep(1000)\n",
    "            continue\n",
    "\n",
    "    for tweet in result['statuses']:\n",
    "        tweet_d = OrderedDict()\n",
    "        tweet_d['time'] = pd.to_datetime(tweet['created_at'])\n",
    "        tweet_d['content'] = tweet['text']\n",
    "        tweet_list.append(tweet_d)\n",
    "    n += 1\n",
    "    print('page',n,'available')\n",
    "    try:\n",
    "        # Parse the data returned to get max_id to be passed in consequent call.\n",
    "        next_results_url_params = result['search_metadata']['next_results']\n",
    "        next_max_id = next_results_url_params.split('max_id=')[1].split('&')[0]\n",
    "    except:\n",
    "        print('No more next pages.')\n",
    "        break"
   ]
  },
  {
   "cell_type": "code",
   "execution_count": 10,
   "metadata": {
    "collapsed": false
   },
   "outputs": [
    {
     "data": {
      "text/plain": [
       "[OrderedDict([('time', Timestamp('2018-03-20 23:59:59')),\n",
       "              ('content',\n",
       "               'RT @RVAwonk: Trump once called Fox News legal analyst Andrew Napolitano a \"great legal mind.\"\\n\\nToday, Napolitano said the firing of former…')]),\n",
       " OrderedDict([('time', Timestamp('2018-03-20 23:59:59')),\n",
       "              ('content',\n",
       "               'RT @AdamSchiffCA: That Donald Trump would be a deeply flawed President was all too predictable. But that he could remake an entire party in…')]),\n",
       " OrderedDict([('time', Timestamp('2018-03-20 23:59:59')),\n",
       "              ('content',\n",
       "               '@JeffFlake We are begging the GOP to stop being complicit spineless power hungry traitors. Change now or you will w… https://t.co/Iy8NYSQnVi')])]"
      ]
     },
     "execution_count": 10,
     "metadata": {},
     "output_type": "execute_result"
    }
   ],
   "source": [
    "tweet_list[:3]"
   ]
  },
  {
   "cell_type": "code",
   "execution_count": 11,
   "metadata": {
    "collapsed": true
   },
   "outputs": [],
   "source": [
    "data3 = pd.DataFrame(tweet_list)"
   ]
  },
  {
   "cell_type": "code",
   "execution_count": 12,
   "metadata": {
    "collapsed": true
   },
   "outputs": [],
   "source": [
    "tag_list = []\n",
    "tag_dict = {}\n",
    "for each in data3['content']:\n",
    "    each = each.lower()\n",
    "    tags = re.findall(r'#[\\w]+',each)\n",
    "    for tag in tags:\n",
    "        if tag not in tag_dict:\n",
    "            tag_dict['%s' %tag] = 1\n",
    "        else:\n",
    "            tag_dict['%s' %tag] += 1\n",
    "\n",
    "tag_list.append(tag_dict)"
   ]
  },
  {
   "cell_type": "code",
   "execution_count": 13,
   "metadata": {
    "collapsed": false
   },
   "outputs": [
    {
     "data": {
      "text/html": [
       "<div>\n",
       "<style scoped>\n",
       "    .dataframe tbody tr th:only-of-type {\n",
       "        vertical-align: middle;\n",
       "    }\n",
       "\n",
       "    .dataframe tbody tr th {\n",
       "        vertical-align: top;\n",
       "    }\n",
       "\n",
       "    .dataframe thead th {\n",
       "        text-align: right;\n",
       "    }\n",
       "</style>\n",
       "<table border=\"1\" class=\"dataframe\">\n",
       "  <thead>\n",
       "    <tr style=\"text-align: right;\">\n",
       "      <th></th>\n",
       "      <th>tag</th>\n",
       "      <th>freq</th>\n",
       "    </tr>\n",
       "  </thead>\n",
       "  <tbody>\n",
       "    <tr>\n",
       "      <th>20</th>\n",
       "      <td>#trump</td>\n",
       "      <td>4</td>\n",
       "    </tr>\n",
       "    <tr>\n",
       "      <th>0</th>\n",
       "      <td>#bloomberg</td>\n",
       "      <td>1</td>\n",
       "    </tr>\n",
       "    <tr>\n",
       "      <th>1</th>\n",
       "      <td>#cambridgeanalytica</td>\n",
       "      <td>1</td>\n",
       "    </tr>\n",
       "    <tr>\n",
       "      <th>19</th>\n",
       "      <td>#stormydanielssavesame</td>\n",
       "      <td>1</td>\n",
       "    </tr>\n",
       "    <tr>\n",
       "      <th>18</th>\n",
       "      <td>#slowwalker</td>\n",
       "      <td>1</td>\n",
       "    </tr>\n",
       "    <tr>\n",
       "      <th>17</th>\n",
       "      <td>#qanon</td>\n",
       "      <td>1</td>\n",
       "    </tr>\n",
       "    <tr>\n",
       "      <th>16</th>\n",
       "      <td>#pizz</td>\n",
       "      <td>1</td>\n",
       "    </tr>\n",
       "    <tr>\n",
       "      <th>15</th>\n",
       "      <td>#pedogate</td>\n",
       "      <td>1</td>\n",
       "    </tr>\n",
       "    <tr>\n",
       "      <th>14</th>\n",
       "      <td>#opioidepidemic</td>\n",
       "      <td>1</td>\n",
       "    </tr>\n",
       "    <tr>\n",
       "      <th>13</th>\n",
       "      <td>#nationalsecurity</td>\n",
       "      <td>1</td>\n",
       "    </tr>\n",
       "    <tr>\n",
       "      <th>12</th>\n",
       "      <td>#mueller</td>\n",
       "      <td>1</td>\n",
       "    </tr>\n",
       "    <tr>\n",
       "      <th>11</th>\n",
       "      <td>#mccabe</td>\n",
       "      <td>1</td>\n",
       "    </tr>\n",
       "    <tr>\n",
       "      <th>10</th>\n",
       "      <td>#maga</td>\n",
       "      <td>1</td>\n",
       "    </tr>\n",
       "    <tr>\n",
       "      <th>9</th>\n",
       "      <td>#kompro</td>\n",
       "      <td>1</td>\n",
       "    </tr>\n",
       "    <tr>\n",
       "      <th>8</th>\n",
       "      <td>#ka</td>\n",
       "      <td>1</td>\n",
       "    </tr>\n",
       "    <tr>\n",
       "      <th>7</th>\n",
       "      <td>#impeachtrump</td>\n",
       "      <td>1</td>\n",
       "    </tr>\n",
       "    <tr>\n",
       "      <th>6</th>\n",
       "      <td>#fuc</td>\n",
       "      <td>1</td>\n",
       "    </tr>\n",
       "    <tr>\n",
       "      <th>5</th>\n",
       "      <td>#foxnews</td>\n",
       "      <td>1</td>\n",
       "    </tr>\n",
       "    <tr>\n",
       "      <th>4</th>\n",
       "      <td>#facebook</td>\n",
       "      <td>1</td>\n",
       "    </tr>\n",
       "    <tr>\n",
       "      <th>3</th>\n",
       "      <td>#elpetro</td>\n",
       "      <td>1</td>\n",
       "    </tr>\n",
       "    <tr>\n",
       "      <th>2</th>\n",
       "      <td>#comey</td>\n",
       "      <td>1</td>\n",
       "    </tr>\n",
       "    <tr>\n",
       "      <th>21</th>\n",
       "      <td>#trumprussia</td>\n",
       "      <td>1</td>\n",
       "    </tr>\n",
       "  </tbody>\n",
       "</table>\n",
       "</div>"
      ],
      "text/plain": [
       "                       tag  freq\n",
       "20                  #trump     4\n",
       "0               #bloomberg     1\n",
       "1      #cambridgeanalytica     1\n",
       "19  #stormydanielssavesame     1\n",
       "18             #slowwalker     1\n",
       "17                  #qanon     1\n",
       "16                   #pizz     1\n",
       "15               #pedogate     1\n",
       "14         #opioidepidemic     1\n",
       "13       #nationalsecurity     1\n",
       "12                #mueller     1\n",
       "11                 #mccabe     1\n",
       "10                   #maga     1\n",
       "9                  #kompro     1\n",
       "8                      #ka     1\n",
       "7            #impeachtrump     1\n",
       "6                     #fuc     1\n",
       "5                 #foxnews     1\n",
       "4                #facebook     1\n",
       "3                 #elpetro     1\n",
       "2                   #comey     1\n",
       "21            #trumprussia     1"
      ]
     },
     "execution_count": 13,
     "metadata": {},
     "output_type": "execute_result"
    }
   ],
   "source": [
    "tag_frame = pd.DataFrame(tag_list)\n",
    "tag_frame = pd.DataFrame.transpose(tag_frame).reset_index()\n",
    "tag_frame.columns = ['tag','freq']\n",
    "tag_frame.sort_values(by = 'freq',ascending = False)"
   ]
  },
  {
   "cell_type": "code",
   "execution_count": null,
   "metadata": {
    "collapsed": true
   },
   "outputs": [],
   "source": []
  }
 ],
 "metadata": {
  "kernelspec": {
   "display_name": "Python 3",
   "language": "python",
   "name": "python3"
  },
  "language_info": {
   "codemirror_mode": {
    "name": "ipython",
    "version": 3
   },
   "file_extension": ".py",
   "mimetype": "text/x-python",
   "name": "python",
   "nbconvert_exporter": "python",
   "pygments_lexer": "ipython3",
   "version": "3.6.0"
  }
 },
 "nbformat": 4,
 "nbformat_minor": 2
}
