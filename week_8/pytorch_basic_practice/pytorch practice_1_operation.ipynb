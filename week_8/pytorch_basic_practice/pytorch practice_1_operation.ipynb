{
 "cells": [
  {
   "cell_type": "markdown",
   "metadata": {},
   "source": [
    "<h1 style=\"background-image: linear-gradient( 135deg, #ABDCFF 10%, #0396FF 100%);\"> Module and Data"
   ]
  },
  {
   "cell_type": "code",
   "execution_count": 1,
   "metadata": {
    "collapsed": true
   },
   "outputs": [],
   "source": [
    "import torch\n",
    "import numpy as np"
   ]
  },
  {
   "cell_type": "code",
   "execution_count": 2,
   "metadata": {
    "collapsed": true
   },
   "outputs": [],
   "source": [
    "data = [-1, -2, -3, 1]\n",
    "arr1 = np.array(data, dtype=np.float32)\n",
    "tr1 = torch.from_numpy(arr1)"
   ]
  },
  {
   "cell_type": "markdown",
   "metadata": {},
   "source": [
    "### abs"
   ]
  },
  {
   "cell_type": "code",
   "execution_count": 7,
   "metadata": {},
   "outputs": [
    {
     "name": "stdout",
     "output_type": "stream",
     "text": [
      "numpy abs: [ 1.  2.  3.  1.]\n",
      "torch abs: \n",
      " 1\n",
      " 2\n",
      " 3\n",
      " 1\n",
      "[torch.FloatTensor of size 4]\n",
      "\n"
     ]
    }
   ],
   "source": [
    "print(\"numpy abs:\", np.abs(arr1))\n",
    "print(\"torch abs:\", torch.abs(tr1))"
   ]
  },
  {
   "cell_type": "markdown",
   "metadata": {},
   "source": [
    "### mean"
   ]
  },
  {
   "cell_type": "code",
   "execution_count": 8,
   "metadata": {},
   "outputs": [
    {
     "name": "stdout",
     "output_type": "stream",
     "text": [
      "numpy mean: -1.25\n",
      "torch mean: -1.25\n"
     ]
    }
   ],
   "source": [
    "print(\"numpy mean:\", np.mean(arr1))\n",
    "print(\"torch mean:\", torch.mean(tr1))"
   ]
  },
  {
   "cell_type": "markdown",
   "metadata": {},
   "source": [
    "### linespace"
   ]
  },
  {
   "cell_type": "code",
   "execution_count": 9,
   "metadata": {},
   "outputs": [
    {
     "name": "stdout",
     "output_type": "stream",
     "text": [
      "numpy linespace: [-1.         -0.77777778 -0.55555556 -0.33333333 -0.11111111  0.11111111\n",
      "  0.33333333  0.55555556  0.77777778  1.        ]\n",
      "torch linespace: \n",
      "-1.0000\n",
      "-0.7778\n",
      "-0.5556\n",
      "-0.3333\n",
      "-0.1111\n",
      " 0.1111\n",
      " 0.3333\n",
      " 0.5556\n",
      " 0.7778\n",
      " 1.0000\n",
      "[torch.FloatTensor of size 10]\n",
      "\n"
     ]
    }
   ],
   "source": [
    "print(\"numpy linespace:\", np.linspace(-1, 1, 10))\n",
    "print(\"torch linespace:\", torch.linspace(-1, 1, 10))"
   ]
  },
  {
   "cell_type": "markdown",
   "metadata": {},
   "source": [
    "### matirx multiplication"
   ]
  },
  {
   "cell_type": "code",
   "execution_count": 10,
   "metadata": {
    "scrolled": true
   },
   "outputs": [
    {
     "name": "stdout",
     "output_type": "stream",
     "text": [
      "numpy matmul: [[  7.  10.]\n",
      " [ 15.  22.]]\n",
      "torch matmul: \n",
      "  7  10\n",
      " 15  22\n",
      "[torch.FloatTensor of size 2x2]\n",
      "\n"
     ]
    }
   ],
   "source": [
    "data = [[1,2], [3,4]]\n",
    "arr1 = np.array(data, dtype=np.float32)\n",
    "tr1 = torch.from_numpy(arr1)\n",
    "\n",
    "# matirx multiplication\n",
    "print(\"numpy matmul:\", np.matmul(arr1, arr1))\n",
    "print(\"torch matmul:\", torch.mm(tr1, tr1))"
   ]
  }
 ],
 "metadata": {
  "kernelspec": {
   "display_name": "Python [conda root]",
   "language": "python",
   "name": "conda-root-py"
  },
  "language_info": {
   "codemirror_mode": {
    "name": "ipython",
    "version": 3
   },
   "file_extension": ".py",
   "mimetype": "text/x-python",
   "name": "python",
   "nbconvert_exporter": "python",
   "pygments_lexer": "ipython3",
   "version": "3.5.3"
  }
 },
 "nbformat": 4,
 "nbformat_minor": 2
}
