{
 "cells": [
  {
   "cell_type": "markdown",
   "metadata": {},
   "source": [
    "<h1 style=\"background-image: linear-gradient( 135deg, #ABDCFF 10%, #0396FF 100%);\">data and reshape"
   ]
  },
  {
   "cell_type": "code",
   "execution_count": 1,
   "metadata": {
    "collapsed": true
   },
   "outputs": [],
   "source": [
    "import torch\n",
    "import torch.nn as nn\n",
    "from torch.autograd import Variable\n",
    "import torch.nn.functional as F\n",
    "import matplotlib.pyplot as plt\n",
    "import random\n",
    "import numpy as np"
   ]
  },
  {
   "cell_type": "code",
   "execution_count": 2,
   "metadata": {
    "collapsed": true
   },
   "outputs": [],
   "source": [
    "x_values = np.linspace(-1, 1, 100) #等差數列 \n",
    "x_train = np.array(x_values, dtype=np.float32) # to np.float32\n",
    "x_train = x_train.reshape(-1, 1) #reshape it as specific shape, especially 1-vector data (100,) -> (100, 1)\n",
    "y_train = x_train**2 + random.uniform(-20, 20)"
   ]
  },
  {
   "cell_type": "code",
   "execution_count": 3,
   "metadata": {},
   "outputs": [
    {
     "data": {
      "text/plain": [
       "(100, 1)"
      ]
     },
     "execution_count": 3,
     "metadata": {},
     "output_type": "execute_result"
    }
   ],
   "source": [
    "y_train.shape"
   ]
  },
  {
   "cell_type": "code",
   "execution_count": 4,
   "metadata": {},
   "outputs": [
    {
     "data": {
      "text/plain": [
       "(100, 1)"
      ]
     },
     "execution_count": 4,
     "metadata": {},
     "output_type": "execute_result"
    }
   ],
   "source": [
    "x_train.shape"
   ]
  },
  {
   "cell_type": "markdown",
   "metadata": {},
   "source": [
    "<h1 style=\"background-image: linear-gradient( 135deg, #ABDCFF 10%, #0396FF 100%);\"> pytorch start"
   ]
  },
  {
   "cell_type": "markdown",
   "metadata": {},
   "source": [
    "### 1.建立模型"
   ]
  },
  {
   "cell_type": "code",
   "execution_count": 5,
   "metadata": {
    "collapsed": true
   },
   "outputs": [],
   "source": [
    "class LR(nn.Module): # 繼承torch.nn.module特性\n",
    "    \n",
    "    # 架構\n",
    "    def __init__(self):\n",
    "        super(LR, self).__init__() # super(LR, self) 繼承自己的__init__()\n",
    "        self.hidden1 = nn.Linear(1, 10) # input 1, hidden 10  Linear全連接\n",
    "        self.hidden2 = nn.Linear(10, 1) # hidden 10, output 1\n",
    "\n",
    "    # 運作流程（資料流）\n",
    "    def forward(self, x):  \n",
    "        x = F.relu(self.hidden1(x)) # 讓x由hidden1後，進入activation function\n",
    "        out = self.hidden2(x)\n",
    "        return out"
   ]
  },
  {
   "cell_type": "code",
   "execution_count": 6,
   "metadata": {
    "collapsed": true
   },
   "outputs": [],
   "source": [
    "model = LR()\n",
    "loss_func = nn.MSELoss()\n",
    "learning_rate = 0.03\n",
    "optimizer = torch.optim.SGD(model.parameters(), lr=learning_rate) #model.parameters() 所有訓練的參數都在這"
   ]
  },
  {
   "cell_type": "code",
   "execution_count": 7,
   "metadata": {
    "collapsed": true
   },
   "outputs": [],
   "source": [
    "# for plot\n",
    "plt.ion()"
   ]
  },
  {
   "cell_type": "markdown",
   "metadata": {},
   "source": [
    "### 2.進行訓練"
   ]
  },
  {
   "cell_type": "code",
   "execution_count": 10,
   "metadata": {
    "collapsed": true
   },
   "outputs": [],
   "source": [
    "epochs = 1000"
   ]
  },
  {
   "cell_type": "code",
   "execution_count": 11,
   "metadata": {},
   "outputs": [
    {
     "name": "stdout",
     "output_type": "stream",
     "text": [
      "epoch 5, loss 3.28017235\n",
      "epoch 10, loss 0.19490536\n",
      "epoch 15, loss 0.15846126\n",
      "epoch 20, loss 0.14668554\n",
      "epoch 25, loss 0.14149868\n",
      "epoch 30, loss 0.13817044\n",
      "epoch 35, loss 0.13542014\n",
      "epoch 40, loss 0.13290942\n",
      "epoch 45, loss 0.13054380\n",
      "epoch 50, loss 0.12827888\n",
      "epoch 55, loss 0.12610698\n",
      "epoch 60, loss 0.12401440\n",
      "epoch 65, loss 0.12199774\n",
      "epoch 70, loss 0.12005535\n",
      "epoch 75, loss 0.11818568\n",
      "epoch 80, loss 0.11637803\n",
      "epoch 85, loss 0.11462747\n",
      "epoch 90, loss 0.11293361\n",
      "epoch 95, loss 0.11128794\n",
      "epoch 100, loss 0.10968690\n",
      "epoch 105, loss 0.10813314\n",
      "epoch 110, loss 0.10662256\n",
      "epoch 115, loss 0.10514560\n",
      "epoch 120, loss 0.10370475\n",
      "epoch 125, loss 0.10229751\n",
      "epoch 130, loss 0.10091910\n",
      "epoch 135, loss 0.09956506\n",
      "epoch 140, loss 0.09823676\n",
      "epoch 145, loss 0.09693141\n",
      "epoch 150, loss 0.09564491\n",
      "epoch 155, loss 0.09437516\n",
      "epoch 160, loss 0.09312192\n",
      "epoch 165, loss 0.09188332\n",
      "epoch 170, loss 0.09065782\n",
      "epoch 175, loss 0.08944137\n",
      "epoch 180, loss 0.08823466\n",
      "epoch 185, loss 0.08703607\n",
      "epoch 190, loss 0.08584408\n",
      "epoch 195, loss 0.08465843\n",
      "epoch 200, loss 0.08347672\n",
      "epoch 205, loss 0.08229793\n",
      "epoch 210, loss 0.08112138\n",
      "epoch 215, loss 0.07994659\n",
      "epoch 220, loss 0.07877436\n",
      "epoch 225, loss 0.07760194\n",
      "epoch 230, loss 0.07642867\n",
      "epoch 235, loss 0.07525410\n",
      "epoch 240, loss 0.07408080\n",
      "epoch 245, loss 0.07290550\n",
      "epoch 250, loss 0.07172792\n",
      "epoch 255, loss 0.07054795\n",
      "epoch 260, loss 0.06936979\n",
      "epoch 265, loss 0.06819148\n",
      "epoch 270, loss 0.06701165\n",
      "epoch 275, loss 0.06583097\n",
      "epoch 280, loss 0.06465294\n",
      "epoch 285, loss 0.06347354\n",
      "epoch 290, loss 0.06229291\n",
      "epoch 295, loss 0.06111327\n",
      "epoch 300, loss 0.05993810\n",
      "epoch 305, loss 0.05876313\n",
      "epoch 310, loss 0.05759167\n",
      "epoch 315, loss 0.05642683\n",
      "epoch 320, loss 0.05526839\n",
      "epoch 325, loss 0.05411277\n",
      "epoch 330, loss 0.05296069\n",
      "epoch 335, loss 0.05181656\n",
      "epoch 340, loss 0.05068157\n",
      "epoch 345, loss 0.04955220\n",
      "epoch 350, loss 0.04842956\n",
      "epoch 355, loss 0.04732273\n",
      "epoch 360, loss 0.04622865\n",
      "epoch 365, loss 0.04514332\n",
      "epoch 370, loss 0.04406732\n",
      "epoch 375, loss 0.04300196\n",
      "epoch 380, loss 0.04195506\n",
      "epoch 385, loss 0.04091951\n",
      "epoch 390, loss 0.03989591\n",
      "epoch 395, loss 0.03888625\n",
      "epoch 400, loss 0.03789710\n",
      "epoch 405, loss 0.03692608\n",
      "epoch 410, loss 0.03596962\n",
      "epoch 415, loss 0.03502787\n",
      "epoch 420, loss 0.03410131\n",
      "epoch 425, loss 0.03319346\n",
      "epoch 430, loss 0.03230534\n",
      "epoch 435, loss 0.03143334\n",
      "epoch 440, loss 0.03057785\n",
      "epoch 445, loss 0.02974115\n",
      "epoch 450, loss 0.02892422\n",
      "epoch 455, loss 0.02812967\n",
      "epoch 460, loss 0.02735315\n",
      "epoch 465, loss 0.02659387\n",
      "epoch 470, loss 0.02585205\n",
      "epoch 475, loss 0.02512779\n",
      "epoch 480, loss 0.02442116\n",
      "epoch 485, loss 0.02373408\n",
      "epoch 490, loss 0.02306684\n",
      "epoch 495, loss 0.02241761\n",
      "epoch 500, loss 0.02178609\n",
      "epoch 505, loss 0.02117416\n",
      "epoch 510, loss 0.02057949\n",
      "epoch 515, loss 0.02000171\n",
      "epoch 520, loss 0.01944070\n",
      "epoch 525, loss 0.01889792\n",
      "epoch 530, loss 0.01837202\n",
      "epoch 535, loss 0.01786199\n",
      "epoch 540, loss 0.01736767\n",
      "epoch 545, loss 0.01688934\n",
      "epoch 550, loss 0.01642679\n",
      "epoch 555, loss 0.01597926\n",
      "epoch 560, loss 0.01554653\n",
      "epoch 565, loss 0.01512831\n",
      "epoch 570, loss 0.01472438\n",
      "epoch 575, loss 0.01433566\n",
      "epoch 580, loss 0.01396050\n",
      "epoch 585, loss 0.01359825\n",
      "epoch 590, loss 0.01324869\n",
      "epoch 595, loss 0.01291146\n",
      "epoch 600, loss 0.01258631\n",
      "epoch 605, loss 0.01227292\n",
      "epoch 610, loss 0.01197101\n",
      "epoch 615, loss 0.01168067\n",
      "epoch 620, loss 0.01140137\n",
      "epoch 625, loss 0.01113258\n",
      "epoch 630, loss 0.01087402\n",
      "epoch 635, loss 0.01062536\n",
      "epoch 640, loss 0.01038595\n",
      "epoch 645, loss 0.01015538\n",
      "epoch 650, loss 0.00993373\n",
      "epoch 655, loss 0.00972073\n",
      "epoch 660, loss 0.00951603\n",
      "epoch 665, loss 0.00931918\n",
      "epoch 670, loss 0.00913004\n",
      "epoch 675, loss 0.00894834\n",
      "epoch 680, loss 0.00877381\n",
      "epoch 685, loss 0.00860619\n",
      "epoch 690, loss 0.00844526\n",
      "epoch 695, loss 0.00829076\n",
      "epoch 700, loss 0.00814247\n",
      "epoch 705, loss 0.00800016\n",
      "epoch 710, loss 0.00786360\n",
      "epoch 715, loss 0.00773256\n",
      "epoch 720, loss 0.00760686\n",
      "epoch 725, loss 0.00748626\n",
      "epoch 730, loss 0.00737055\n",
      "epoch 735, loss 0.00725959\n",
      "epoch 740, loss 0.00715315\n",
      "epoch 745, loss 0.00705103\n",
      "epoch 750, loss 0.00695310\n",
      "epoch 755, loss 0.00685914\n",
      "epoch 760, loss 0.00676900\n",
      "epoch 765, loss 0.00668137\n",
      "epoch 770, loss 0.00659668\n",
      "epoch 775, loss 0.00651479\n",
      "epoch 780, loss 0.00643610\n",
      "epoch 785, loss 0.00636048\n",
      "epoch 790, loss 0.00628780\n",
      "epoch 795, loss 0.00621793\n",
      "epoch 800, loss 0.00615075\n",
      "epoch 805, loss 0.00608616\n",
      "epoch 810, loss 0.00602404\n",
      "epoch 815, loss 0.00596427\n",
      "epoch 820, loss 0.00590676\n",
      "epoch 825, loss 0.00585142\n",
      "epoch 830, loss 0.00579813\n",
      "epoch 835, loss 0.00574682\n",
      "epoch 840, loss 0.00569739\n",
      "epoch 845, loss 0.00564978\n",
      "epoch 850, loss 0.00560387\n",
      "epoch 855, loss 0.00555961\n",
      "epoch 860, loss 0.00551692\n",
      "epoch 865, loss 0.00547574\n",
      "epoch 870, loss 0.00543516\n",
      "epoch 875, loss 0.00539501\n",
      "epoch 880, loss 0.00535613\n",
      "epoch 885, loss 0.00531844\n",
      "epoch 890, loss 0.00528194\n",
      "epoch 895, loss 0.00524653\n",
      "epoch 900, loss 0.00521219\n",
      "epoch 905, loss 0.00517884\n",
      "epoch 910, loss 0.00514647\n",
      "epoch 915, loss 0.00511503\n",
      "epoch 920, loss 0.00508446\n",
      "epoch 925, loss 0.00505475\n",
      "epoch 930, loss 0.00502584\n",
      "epoch 935, loss 0.00499770\n",
      "epoch 940, loss 0.00497031\n",
      "epoch 945, loss 0.00494362\n",
      "epoch 950, loss 0.00491762\n",
      "epoch 955, loss 0.00489225\n",
      "epoch 960, loss 0.00486751\n",
      "epoch 965, loss 0.00484336\n",
      "epoch 970, loss 0.00481977\n",
      "epoch 975, loss 0.00479687\n",
      "epoch 980, loss 0.00477257\n",
      "epoch 985, loss 0.00474877\n",
      "epoch 990, loss 0.00472543\n",
      "epoch 995, loss 0.00470257\n",
      "epoch 1000, loss 0.00468013\n"
     ]
    },
    {
     "data": {
      "image/png": "[encoded data removed]",
      "text/plain": [
       "<matplotlib.figure.Figure at 0x7f48530d4518>"
      ]
     },
     "metadata": {},
     "output_type": "display_data"
    }
   ],
   "source": [
    "for epoch in range(epochs):\n",
    "    epoch += 1\n",
    "\n",
    "    # convert to variables\n",
    "    x = Variable(torch.from_numpy(x_train))\n",
    "    y = Variable(torch.from_numpy(y_train))\n",
    "\n",
    "    # clear gradient w.r.t. parameters \n",
    "    optimizer.zero_grad()\n",
    "    \n",
    "    # forward to get output\n",
    "    prediction = model(x)\n",
    "\n",
    "    # calculate loss\n",
    "    loss = loss_func(prediction, y)\n",
    "\n",
    "    # backward to get gradient\n",
    "    loss.backward()\n",
    "\n",
    "    # update parameters\n",
    "    optimizer.step() \n",
    "\n",
    "    if epoch % 5 == 0:\n",
    "    # plot and show learning process\n",
    "        print(\"epoch %d, loss %.8f\" % (epoch, loss.data[0]))\n",
    "        plt.cla()\n",
    "        plt.scatter(x.data.numpy(), y.data.numpy())\n",
    "        plt.plot(x.data.numpy(), prediction.data.numpy(), 'r-', lw=3)\n",
    "        plt.text(0.5, 0, 'Step:%d Loss=%.4f' % (epoch, loss.data[0]), fontdict={'size': 20, 'color':  'red'})\n",
    "        plt.pause(0.1)\n",
    "        \n",
    "plt.ioff()\n",
    "plt.show()"
   ]
  },
  {
   "cell_type": "markdown",
   "metadata": {},
   "source": [
    "<h1 style=\"background-image: linear-gradient( 135deg, #ABDCFF 10%, #0396FF 100%);\">Model Export"
   ]
  },
  {
   "cell_type": "markdown",
   "metadata": {},
   "source": [
    "### save the model"
   ]
  },
  {
   "cell_type": "code",
   "execution_count": 12,
   "metadata": {
    "collapsed": true
   },
   "outputs": [],
   "source": [
    "# save_model = False\n",
    "# if save_model == True:\n",
    "#     torch.save(model.state_dict(), \"nonlinear_model.pkl\")"
   ]
  },
  {
   "cell_type": "markdown",
   "metadata": {},
   "source": [
    "### load model"
   ]
  },
  {
   "cell_type": "code",
   "execution_count": 13,
   "metadata": {
    "collapsed": true
   },
   "outputs": [],
   "source": [
    "# load_model = False\n",
    "# if load_model is True:\n",
    "#     model.load_state_dict(torch.load(\"nonlinear_model.pkl\"))"
   ]
  }
 ],
 "metadata": {
  "kernelspec": {
   "display_name": "Python [conda root]",
   "language": "python",
   "name": "conda-root-py"
  },
  "language_info": {
   "codemirror_mode": {
    "name": "ipython",
    "version": 3
   },
   "file_extension": ".py",
   "mimetype": "text/x-python",
   "name": "python",
   "nbconvert_exporter": "python",
   "pygments_lexer": "ipython3",
   "version": "3.5.3"
  }
 },
 "nbformat": 4,
 "nbformat_minor": 2
}
