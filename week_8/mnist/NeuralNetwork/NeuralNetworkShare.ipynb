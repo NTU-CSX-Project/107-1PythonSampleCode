{
 "cells": [
  {
   "cell_type": "markdown",
   "metadata": {},
   "source": [
    "### ➨ Neural Network Model 基本結構如下 :\n",
    "\n",
    "<img src=\"002.png\" style=\"width:300px;height:200px;\">\n",
    "---\n",
    "### ❤ 下面我會分享 3 個搭建基本 Neural Network Model 的程式碼 :\n",
    "1. #### Regression\n",
    "2. #### Logistic Regression\n",
    "3. #### 簡單 Neural Network 結構\n",
    "\n",
    "---\n"
   ]
  },
  {
   "cell_type": "markdown",
   "metadata": {},
   "source": [
    "### ➨ 1. Regression :\n",
    "\n",
    "<img src=\"003.png\" style=\"width:300px;height:200px;\">"
   ]
  },
  {
   "cell_type": "code",
   "execution_count": 32,
   "metadata": {
    "collapsed": false
   },
   "outputs": [],
   "source": [
    "import numpy as np\n",
    "import matplotlib.pyplot as plt\n",
    "% matplotlib inline\n",
    "\n",
    "from keras.models import Sequential\n",
    "from keras.layers import Dense, Activation"
   ]
  },
  {
   "cell_type": "code",
   "execution_count": 3,
   "metadata": {
    "collapsed": false
   },
   "outputs": [
    {
     "data": {
      "image/png": "[encoded data removed]",
      "text/plain": [
       "<matplotlib.figure.Figure at 0xb7b0fd0>"
      ]
     },
     "metadata": {},
     "output_type": "display_data"
    }
   ],
   "source": [
    "x = np.random.uniform(-1,1,100)\n",
    "y = 2 + 0.5 * x + np.random.normal(0,0.1,100)\n",
    "\n",
    "plt.scatter(x,y)\n",
    "plt.show()"
   ]
  },
  {
   "cell_type": "code",
   "execution_count": 4,
   "metadata": {
    "collapsed": false
   },
   "outputs": [
    {
     "name": "stdout",
     "output_type": "stream",
     "text": [
      "x.shape : (100L,)\n",
      "y.shape : (100L,)\n"
     ]
    }
   ],
   "source": [
    "print 'x.shape : ' + str(x.shape)\n",
    "print 'y.shape : ' + str(y.shape)"
   ]
  },
  {
   "cell_type": "code",
   "execution_count": 5,
   "metadata": {
    "collapsed": false
   },
   "outputs": [
    {
     "name": "stdout",
     "output_type": "stream",
     "text": [
      "x_train.shape : (80L,)\n",
      "x_test.shape : (20L,)\n",
      "y_train.shape : (80L,)\n",
      "y_test.shape : (20L,)\n"
     ]
    }
   ],
   "source": [
    "x_train, x_test = x[:80], x[80:]\n",
    "y_train, y_test = y[:80], y[80:]\n",
    "\n",
    "print 'x_train.shape : ' + str(x_train.shape)\n",
    "print 'x_test.shape : ' + str(x_test.shape)\n",
    "print 'y_train.shape : ' + str(y_train.shape)\n",
    "print 'y_test.shape : ' + str(y_test.shape)"
   ]
  },
  {
   "cell_type": "code",
   "execution_count": 6,
   "metadata": {
    "collapsed": true
   },
   "outputs": [],
   "source": [
    "### Model Structure :\n",
    "model = Sequential()\n",
    "model.add(Dense(output_dim=1, input_dim=1))\n",
    "model.compile(loss='mse', optimizer='sgd')"
   ]
  },
  {
   "cell_type": "code",
   "execution_count": 7,
   "metadata": {
    "collapsed": false
   },
   "outputs": [
    {
     "name": "stdout",
     "output_type": "stream",
     "text": [
      "Epoch 1/300\n",
      "80/80 [==============================] - 0s - loss: 3.9335     \n",
      "Epoch 2/300\n",
      "80/80 [==============================] - 0s - loss: 3.4846     \n",
      "Epoch 3/300\n",
      "80/80 [==============================] - 0s - loss: 3.0876     \n",
      "Epoch 4/300\n",
      "80/80 [==============================] - 0s - loss: 2.7335     \n",
      "Epoch 5/300\n",
      "80/80 [==============================] - 0s - loss: 2.4220     \n",
      "Epoch 6/300\n",
      "80/80 [==============================] - 0s - loss: 2.1460     \n",
      "Epoch 7/300\n",
      "80/80 [==============================] - 0s - loss: 1.9019     \n",
      "Epoch 8/300\n",
      "80/80 [==============================] - 0s - loss: 1.6860     \n",
      "Epoch 9/300\n",
      "80/80 [==============================] - 0s - loss: 1.4956     \n",
      "Epoch 10/300\n",
      "80/80 [==============================] - 0s - loss: 1.3266     \n",
      "Epoch 11/300\n",
      "80/80 [==============================] - 0s - loss: 1.1754     \n",
      "Epoch 12/300\n",
      "80/80 [==============================] - 0s - loss: 1.0426     \n",
      "Epoch 13/300\n",
      "80/80 [==============================] - 0s - loss: 0.9253     \n",
      "Epoch 14/300\n",
      "80/80 [==============================] - 0s - loss: 0.8212     \n",
      "Epoch 15/300\n",
      "80/80 [==============================] - 0s - loss: 0.7283     \n",
      "Epoch 16/300\n",
      "80/80 [==============================] - 0s - loss: 0.6471     \n",
      "Epoch 17/300\n",
      "80/80 [==============================] - 0s - loss: 0.5752     \n",
      "Epoch 18/300\n",
      "80/80 [==============================] - 0s - loss: 0.5113     \n",
      "Epoch 19/300\n",
      "80/80 [==============================] - 0s - loss: 0.4544     \n",
      "Epoch 20/300\n",
      "80/80 [==============================] - 0s - loss: 0.4046     \n",
      "Epoch 21/300\n",
      "80/80 [==============================] - 0s - loss: 0.3599     \n",
      "Epoch 22/300\n",
      "80/80 [==============================] - 0s - loss: 0.3209     \n",
      "Epoch 23/300\n",
      "80/80 [==============================] - 0s - loss: 0.2863     \n",
      "Epoch 24/300\n",
      "80/80 [==============================] - 0s - loss: 0.2554     \n",
      "Epoch 25/300\n",
      "80/80 [==============================] - 0s - loss: 0.2278     \n",
      "Epoch 26/300\n",
      "80/80 [==============================] - 0s - loss: 0.2035     \n",
      "Epoch 27/300\n",
      "80/80 [==============================] - 0s - loss: 0.1815     \n",
      "Epoch 28/300\n",
      "80/80 [==============================] - 0s - loss: 0.1624     \n",
      "Epoch 29/300\n",
      "80/80 [==============================] - 0s - loss: 0.1459     \n",
      "Epoch 30/300\n",
      "80/80 [==============================] - 0s - loss: 0.1311     \n",
      "Epoch 31/300\n",
      "80/80 [==============================] - 0s - loss: 0.1180     \n",
      "Epoch 32/300\n",
      "80/80 [==============================] - 0s - loss: 0.1063     \n",
      "Epoch 33/300\n",
      "80/80 [==============================] - 0s - loss: 0.0960     \n",
      "Epoch 34/300\n",
      "80/80 [==============================] - 0s - loss: 0.0869     \n",
      "Epoch 35/300\n",
      "80/80 [==============================] - 0s - loss: 0.0788     \n",
      "Epoch 36/300\n",
      "80/80 [==============================] - 0s - loss: 0.0715     \n",
      "Epoch 37/300\n",
      "80/80 [==============================] - 0s - loss: 0.0648     \n",
      "Epoch 38/300\n",
      "80/80 [==============================] - 0s - loss: 0.0589     \n",
      "Epoch 39/300\n",
      "80/80 [==============================] - 0s - loss: 0.0538     \n",
      "Epoch 40/300\n",
      "80/80 [==============================] - 0s - loss: 0.0494     \n",
      "Epoch 41/300\n",
      "80/80 [==============================] - 0s - loss: 0.0454     \n",
      "Epoch 42/300\n",
      "80/80 [==============================] - 0s - loss: 0.0416     \n",
      "Epoch 43/300\n",
      "80/80 [==============================] - 0s - loss: 0.0382     \n",
      "Epoch 44/300\n",
      "80/80 [==============================] - 0s - loss: 0.0353     \n",
      "Epoch 45/300\n",
      "80/80 [==============================] - 0s - loss: 0.0326     \n",
      "Epoch 46/300\n",
      "80/80 [==============================] - 0s - loss: 0.0303     \n",
      "Epoch 47/300\n",
      "80/80 [==============================] - 0s - loss: 0.0282     \n",
      "Epoch 48/300\n",
      "80/80 [==============================] - 0s - loss: 0.0264     \n",
      "Epoch 49/300\n",
      "80/80 [==============================] - 0s - loss: 0.0247     \n",
      "Epoch 50/300\n",
      "80/80 [==============================] - 0s - loss: 0.0232     \n",
      "Epoch 51/300\n",
      "80/80 [==============================] - 0s - loss: 0.0219     \n",
      "Epoch 52/300\n",
      "80/80 [==============================] - 0s - loss: 0.0207     \n",
      "Epoch 53/300\n",
      "80/80 [==============================] - 0s - loss: 0.0196     \n",
      "Epoch 54/300\n",
      "80/80 [==============================] - 0s - loss: 0.0187     \n",
      "Epoch 55/300\n",
      "80/80 [==============================] - 0s - loss: 0.0178     \n",
      "Epoch 56/300\n",
      "80/80 [==============================] - 0s - loss: 0.0171     \n",
      "Epoch 57/300\n",
      "80/80 [==============================] - 0s - loss: 0.0164     \n",
      "Epoch 58/300\n",
      "80/80 [==============================] - 0s - loss: 0.0158     \n",
      "Epoch 59/300\n",
      "80/80 [==============================] - 0s - loss: 0.0152     \n",
      "Epoch 60/300\n",
      "80/80 [==============================] - 0s - loss: 0.0147     \n",
      "Epoch 61/300\n",
      "80/80 [==============================] - 0s - loss: 0.0143     \n",
      "Epoch 62/300\n",
      "80/80 [==============================] - 0s - loss: 0.0139     \n",
      "Epoch 63/300\n",
      "80/80 [==============================] - 0s - loss: 0.0134     \n",
      "Epoch 64/300\n",
      "80/80 [==============================] - 0s - loss: 0.0131     \n",
      "Epoch 65/300\n",
      "80/80 [==============================] - 0s - loss: 0.0128     \n",
      "Epoch 66/300\n",
      "80/80 [==============================] - 0s - loss: 0.0124     \n",
      "Epoch 67/300\n",
      "80/80 [==============================] - 0s - loss: 0.0122     \n",
      "Epoch 68/300\n",
      "80/80 [==============================] - 0s - loss: 0.0119     \n",
      "Epoch 69/300\n",
      "80/80 [==============================] - 0s - loss: 0.0117     \n",
      "Epoch 70/300\n",
      "80/80 [==============================] - 0s - loss: 0.0115     \n",
      "Epoch 71/300\n",
      "80/80 [==============================] - 0s - loss: 0.0113     \n",
      "Epoch 72/300\n",
      "80/80 [==============================] - 0s - loss: 0.0111     \n",
      "Epoch 73/300\n",
      "80/80 [==============================] - 0s - loss: 0.0110     \n",
      "Epoch 74/300\n",
      "80/80 [==============================] - 0s - loss: 0.0108     \n",
      "Epoch 75/300\n",
      "80/80 [==============================] - 0s - loss: 0.0106     \n",
      "Epoch 76/300\n",
      "80/80 [==============================] - 0s - loss: 0.0105     \n",
      "Epoch 77/300\n",
      "80/80 [==============================] - 0s - loss: 0.0104     \n",
      "Epoch 78/300\n",
      "80/80 [==============================] - 0s - loss: 0.0102     \n",
      "Epoch 79/300\n",
      "80/80 [==============================] - 0s - loss: 0.0101     \n",
      "Epoch 80/300\n",
      "80/80 [==============================] - 0s - loss: 0.0100     \n",
      "Epoch 81/300\n",
      "80/80 [==============================] - 0s - loss: 0.0099     \n",
      "Epoch 82/300\n",
      "80/80 [==============================] - 0s - loss: 0.0099     \n",
      "Epoch 83/300\n",
      "80/80 [==============================] - 0s - loss: 0.0098     \n",
      "Epoch 84/300\n",
      "80/80 [==============================] - 0s - loss: 0.0097     \n",
      "Epoch 85/300\n",
      "80/80 [==============================] - 0s - loss: 0.0096     \n",
      "Epoch 86/300\n",
      "80/80 [==============================] - 0s - loss: 0.0096     \n",
      "Epoch 87/300\n",
      "80/80 [==============================] - 0s - loss: 0.0095     \n",
      "Epoch 88/300\n",
      "80/80 [==============================] - 0s - loss: 0.0094     \n",
      "Epoch 89/300\n",
      "80/80 [==============================] - 0s - loss: 0.0094     \n",
      "Epoch 90/300\n",
      "80/80 [==============================] - 0s - loss: 0.0093     \n",
      "Epoch 91/300\n",
      "80/80 [==============================] - 0s - loss: 0.0093     \n",
      "Epoch 92/300\n",
      "80/80 [==============================] - 0s - loss: 0.0092     \n",
      "Epoch 93/300\n",
      "80/80 [==============================] - 0s - loss: 0.0092     \n",
      "Epoch 94/300\n",
      "80/80 [==============================] - 0s - loss: 0.0091     \n",
      "Epoch 95/300\n",
      "80/80 [==============================] - 0s - loss: 0.0091     \n",
      "Epoch 96/300\n",
      "80/80 [==============================] - 0s - loss: 0.0091     \n",
      "Epoch 97/300\n",
      "80/80 [==============================] - 0s - loss: 0.0090     \n",
      "Epoch 98/300\n",
      "80/80 [==============================] - 0s - loss: 0.0090     \n",
      "Epoch 99/300\n",
      "80/80 [==============================] - 0s - loss: 0.0089     \n",
      "Epoch 100/300\n",
      "80/80 [==============================] - 0s - loss: 0.0089     \n",
      "Epoch 101/300\n",
      "80/80 [==============================] - 0s - loss: 0.0089     \n",
      "Epoch 102/300\n",
      "80/80 [==============================] - 0s - loss: 0.0088     \n",
      "Epoch 103/300\n",
      "80/80 [==============================] - 0s - loss: 0.0088     \n",
      "Epoch 104/300\n",
      "80/80 [==============================] - 0s - loss: 0.0088     \n",
      "Epoch 105/300\n",
      "80/80 [==============================] - 0s - loss: 0.0088     \n",
      "Epoch 106/300\n",
      "80/80 [==============================] - 0s - loss: 0.0087     \n",
      "Epoch 107/300\n",
      "80/80 [==============================] - 0s - loss: 0.0087     \n",
      "Epoch 108/300\n",
      "80/80 [==============================] - 0s - loss: 0.0087     \n",
      "Epoch 109/300\n",
      "80/80 [==============================] - 0s - loss: 0.0087     \n",
      "Epoch 110/300\n",
      "80/80 [==============================] - 0s - loss: 0.0087     \n",
      "Epoch 111/300\n",
      "80/80 [==============================] - 0s - loss: 0.0086     \n",
      "Epoch 112/300\n",
      "80/80 [==============================] - 0s - loss: 0.0086     \n",
      "Epoch 113/300\n",
      "80/80 [==============================] - 0s - loss: 0.0086     \n",
      "Epoch 114/300\n",
      "80/80 [==============================] - 0s - loss: 0.0086     \n",
      "Epoch 115/300\n",
      "80/80 [==============================] - 0s - loss: 0.0086     \n",
      "Epoch 116/300\n",
      "80/80 [==============================] - 0s - loss: 0.0085     \n",
      "Epoch 117/300\n",
      "80/80 [==============================] - 0s - loss: 0.0085     \n",
      "Epoch 118/300\n",
      "80/80 [==============================] - 0s - loss: 0.0085     \n",
      "Epoch 119/300\n",
      "80/80 [==============================] - 0s - loss: 0.0085     \n",
      "Epoch 120/300\n",
      "80/80 [==============================] - 0s - loss: 0.0085     \n",
      "Epoch 121/300\n",
      "80/80 [==============================] - 0s - loss: 0.0085     \n",
      "Epoch 122/300\n",
      "80/80 [==============================] - 0s - loss: 0.0085     \n",
      "Epoch 123/300\n",
      "80/80 [==============================] - 0s - loss: 0.0084     \n",
      "Epoch 124/300\n",
      "80/80 [==============================] - 0s - loss: 0.0084     \n",
      "Epoch 125/300\n",
      "80/80 [==============================] - 0s - loss: 0.0084     \n",
      "Epoch 126/300\n",
      "80/80 [==============================] - 0s - loss: 0.0084     \n",
      "Epoch 127/300\n",
      "80/80 [==============================] - 0s - loss: 0.0084     \n",
      "Epoch 128/300\n",
      "80/80 [==============================] - 0s - loss: 0.0084     \n",
      "Epoch 129/300\n",
      "80/80 [==============================] - 0s - loss: 0.0084     \n",
      "Epoch 130/300\n",
      "80/80 [==============================] - 0s - loss: 0.0084     \n",
      "Epoch 131/300\n",
      "80/80 [==============================] - 0s - loss: 0.0083     \n",
      "Epoch 132/300\n",
      "80/80 [==============================] - 0s - loss: 0.0083     \n",
      "Epoch 133/300\n",
      "80/80 [==============================] - 0s - loss: 0.0083     \n",
      "Epoch 134/300\n",
      "80/80 [==============================] - 0s - loss: 0.0083     \n",
      "Epoch 135/300\n",
      "80/80 [==============================] - 0s - loss: 0.0083     \n",
      "Epoch 136/300\n",
      "80/80 [==============================] - 0s - loss: 0.0083     \n",
      "Epoch 137/300\n",
      "80/80 [==============================] - 0s - loss: 0.0083     \n",
      "Epoch 138/300\n",
      "80/80 [==============================] - 0s - loss: 0.0083     \n",
      "Epoch 139/300\n",
      "80/80 [==============================] - 0s - loss: 0.0083     \n",
      "Epoch 140/300\n",
      "80/80 [==============================] - 0s - loss: 0.0083     \n",
      "Epoch 141/300\n",
      "80/80 [==============================] - 0s - loss: 0.0083     \n",
      "Epoch 142/300\n",
      "80/80 [==============================] - 0s - loss: 0.0083     \n",
      "Epoch 143/300\n",
      "80/80 [==============================] - 0s - loss: 0.0083     \n",
      "Epoch 144/300\n",
      "80/80 [==============================] - 0s - loss: 0.0083     \n",
      "Epoch 145/300\n",
      "80/80 [==============================] - 0s - loss: 0.0083     \n",
      "Epoch 146/300\n",
      "80/80 [==============================] - 0s - loss: 0.0083     \n",
      "Epoch 147/300\n",
      "80/80 [==============================] - 0s - loss: 0.0082     \n",
      "Epoch 148/300\n",
      "80/80 [==============================] - 0s - loss: 0.0082     \n",
      "Epoch 149/300\n",
      "80/80 [==============================] - 0s - loss: 0.0082     \n",
      "Epoch 150/300\n",
      "80/80 [==============================] - 0s - loss: 0.0082     \n",
      "Epoch 151/300\n",
      "80/80 [==============================] - 0s - loss: 0.0082     \n",
      "Epoch 152/300\n",
      "80/80 [==============================] - 0s - loss: 0.0082     \n",
      "Epoch 153/300\n",
      "80/80 [==============================] - 0s - loss: 0.0082     \n",
      "Epoch 154/300\n",
      "80/80 [==============================] - 0s - loss: 0.0082     \n",
      "Epoch 155/300\n",
      "80/80 [==============================] - 0s - loss: 0.0082     \n",
      "Epoch 156/300\n",
      "80/80 [==============================] - 0s - loss: 0.0082     \n",
      "Epoch 157/300\n",
      "80/80 [==============================] - 0s - loss: 0.0082     \n",
      "Epoch 158/300\n",
      "80/80 [==============================] - 0s - loss: 0.0082     \n",
      "Epoch 159/300\n",
      "80/80 [==============================] - 0s - loss: 0.0082     \n",
      "Epoch 160/300\n",
      "80/80 [==============================] - 0s - loss: 0.0082     \n",
      "Epoch 161/300\n",
      "80/80 [==============================] - 0s - loss: 0.0082     \n",
      "Epoch 162/300\n",
      "80/80 [==============================] - 0s - loss: 0.0082     \n",
      "Epoch 163/300\n",
      "80/80 [==============================] - 0s - loss: 0.0082     \n",
      "Epoch 164/300\n",
      "80/80 [==============================] - 0s - loss: 0.0082     \n",
      "Epoch 165/300\n",
      "80/80 [==============================] - 0s - loss: 0.0082     \n",
      "Epoch 166/300\n",
      "80/80 [==============================] - 0s - loss: 0.0082     \n",
      "Epoch 167/300\n",
      "80/80 [==============================] - 0s - loss: 0.0082     \n",
      "Epoch 168/300\n",
      "80/80 [==============================] - 0s - loss: 0.0082     \n",
      "Epoch 169/300\n",
      "80/80 [==============================] - 0s - loss: 0.0082     \n",
      "Epoch 170/300\n",
      "80/80 [==============================] - 0s - loss: 0.0082     \n",
      "Epoch 171/300\n",
      "80/80 [==============================] - 0s - loss: 0.0082     \n",
      "Epoch 172/300\n",
      "80/80 [==============================] - 0s - loss: 0.0082     \n",
      "Epoch 173/300\n",
      "80/80 [==============================] - 0s - loss: 0.0082     \n",
      "Epoch 174/300\n",
      "80/80 [==============================] - 0s - loss: 0.0082     \n",
      "Epoch 175/300\n",
      "80/80 [==============================] - 0s - loss: 0.0082     \n",
      "Epoch 176/300\n",
      "80/80 [==============================] - 0s - loss: 0.0082     \n",
      "Epoch 177/300\n",
      "80/80 [==============================] - 0s - loss: 0.0082     \n",
      "Epoch 178/300\n",
      "80/80 [==============================] - 0s - loss: 0.0082     \n",
      "Epoch 179/300\n",
      "80/80 [==============================] - 0s - loss: 0.0082     \n",
      "Epoch 180/300\n",
      "80/80 [==============================] - 0s - loss: 0.0082     \n",
      "Epoch 181/300\n",
      "80/80 [==============================] - 0s - loss: 0.0082     \n",
      "Epoch 182/300\n",
      "80/80 [==============================] - 0s - loss: 0.0082     \n",
      "Epoch 183/300\n",
      "80/80 [==============================] - 0s - loss: 0.0082     \n",
      "Epoch 184/300\n",
      "80/80 [==============================] - 0s - loss: 0.0082     \n",
      "Epoch 185/300\n",
      "80/80 [==============================] - 0s - loss: 0.0082     \n",
      "Epoch 186/300\n",
      "80/80 [==============================] - 0s - loss: 0.0082     \n",
      "Epoch 187/300\n",
      "80/80 [==============================] - 0s - loss: 0.0082     \n",
      "Epoch 188/300\n",
      "80/80 [==============================] - 0s - loss: 0.0082     \n",
      "Epoch 189/300\n",
      "80/80 [==============================] - 0s - loss: 0.0082     \n",
      "Epoch 190/300\n",
      "80/80 [==============================] - 0s - loss: 0.0082     \n",
      "Epoch 191/300\n",
      "80/80 [==============================] - 0s - loss: 0.0082     \n",
      "Epoch 192/300\n",
      "80/80 [==============================] - 0s - loss: 0.0082     \n",
      "Epoch 193/300\n",
      "80/80 [==============================] - 0s - loss: 0.0082     \n",
      "Epoch 194/300\n",
      "80/80 [==============================] - 0s - loss: 0.0082     \n",
      "Epoch 195/300\n",
      "80/80 [==============================] - 0s - loss: 0.0082     \n",
      "Epoch 196/300\n",
      "80/80 [==============================] - 0s - loss: 0.0082     \n",
      "Epoch 197/300\n",
      "80/80 [==============================] - 0s - loss: 0.0082     \n",
      "Epoch 198/300\n",
      "80/80 [==============================] - 0s - loss: 0.0082     \n",
      "Epoch 199/300\n",
      "80/80 [==============================] - 0s - loss: 0.0082     \n",
      "Epoch 200/300\n",
      "80/80 [==============================] - 0s - loss: 0.0082     \n",
      "Epoch 201/300\n",
      "80/80 [==============================] - 0s - loss: 0.0082     \n",
      "Epoch 202/300\n",
      "80/80 [==============================] - 0s - loss: 0.0082     \n",
      "Epoch 203/300\n",
      "80/80 [==============================] - 0s - loss: 0.0082     \n",
      "Epoch 204/300\n",
      "80/80 [==============================] - 0s - loss: 0.0081     \n",
      "Epoch 205/300\n",
      "80/80 [==============================] - 0s - loss: 0.0081     \n",
      "Epoch 206/300\n",
      "80/80 [==============================] - 0s - loss: 0.0082     \n",
      "Epoch 207/300\n",
      "80/80 [==============================] - 0s - loss: 0.0082     \n",
      "Epoch 208/300\n",
      "80/80 [==============================] - 0s - loss: 0.0081     \n",
      "Epoch 209/300\n",
      "80/80 [==============================] - 0s - loss: 0.0081     \n",
      "Epoch 210/300\n",
      "80/80 [==============================] - 0s - loss: 0.0081     \n",
      "Epoch 211/300\n",
      "80/80 [==============================] - 0s - loss: 0.0081     \n",
      "Epoch 212/300\n",
      "80/80 [==============================] - 0s - loss: 0.0082     \n",
      "Epoch 213/300\n",
      "80/80 [==============================] - 0s - loss: 0.0081     \n",
      "Epoch 214/300\n",
      "80/80 [==============================] - 0s - loss: 0.0081     \n",
      "Epoch 215/300\n",
      "80/80 [==============================] - 0s - loss: 0.0081     \n",
      "Epoch 216/300\n",
      "80/80 [==============================] - 0s - loss: 0.0081     \n",
      "Epoch 217/300\n",
      "80/80 [==============================] - 0s - loss: 0.0081     \n",
      "Epoch 218/300\n",
      "80/80 [==============================] - 0s - loss: 0.0081     \n",
      "Epoch 219/300\n",
      "80/80 [==============================] - 0s - loss: 0.0081     \n",
      "Epoch 220/300\n",
      "80/80 [==============================] - 0s - loss: 0.0081     \n",
      "Epoch 221/300\n",
      "80/80 [==============================] - 0s - loss: 0.0081     \n",
      "Epoch 222/300\n",
      "80/80 [==============================] - 0s - loss: 0.0081     \n",
      "Epoch 223/300\n",
      "80/80 [==============================] - 0s - loss: 0.0081     \n",
      "Epoch 224/300\n",
      "80/80 [==============================] - 0s - loss: 0.0081     \n",
      "Epoch 225/300\n",
      "80/80 [==============================] - 0s - loss: 0.0081     \n",
      "Epoch 226/300\n",
      "80/80 [==============================] - 0s - loss: 0.0081     \n",
      "Epoch 227/300\n",
      "80/80 [==============================] - 0s - loss: 0.0081     \n",
      "Epoch 228/300\n",
      "80/80 [==============================] - 0s - loss: 0.0081     \n",
      "Epoch 229/300\n",
      "80/80 [==============================] - 0s - loss: 0.0081     \n",
      "Epoch 230/300\n",
      "80/80 [==============================] - 0s - loss: 0.0081     \n",
      "Epoch 231/300\n",
      "80/80 [==============================] - 0s - loss: 0.0081     \n",
      "Epoch 232/300\n",
      "80/80 [==============================] - 0s - loss: 0.0081     \n",
      "Epoch 233/300\n",
      "80/80 [==============================] - 0s - loss: 0.0081     \n",
      "Epoch 234/300\n",
      "80/80 [==============================] - 0s - loss: 0.0081     \n",
      "Epoch 235/300\n",
      "80/80 [==============================] - 0s - loss: 0.0081     \n",
      "Epoch 236/300\n",
      "80/80 [==============================] - 0s - loss: 0.0081     \n",
      "Epoch 237/300\n",
      "80/80 [==============================] - 0s - loss: 0.0082     \n",
      "Epoch 238/300\n",
      "80/80 [==============================] - 0s - loss: 0.0081     \n",
      "Epoch 239/300\n",
      "80/80 [==============================] - 0s - loss: 0.0081     \n",
      "Epoch 240/300\n",
      "80/80 [==============================] - 0s - loss: 0.0082     \n",
      "Epoch 241/300\n",
      "80/80 [==============================] - 0s - loss: 0.0081     \n",
      "Epoch 242/300\n",
      "80/80 [==============================] - 0s - loss: 0.0081     \n",
      "Epoch 243/300\n",
      "80/80 [==============================] - 0s - loss: 0.0081     \n",
      "Epoch 244/300\n",
      "80/80 [==============================] - 0s - loss: 0.0081     \n",
      "Epoch 245/300\n",
      "80/80 [==============================] - 0s - loss: 0.0081     \n",
      "Epoch 246/300\n",
      "80/80 [==============================] - 0s - loss: 0.0081     \n",
      "Epoch 247/300\n",
      "80/80 [==============================] - 0s - loss: 0.0081     \n",
      "Epoch 248/300\n",
      "80/80 [==============================] - 0s - loss: 0.0081     \n",
      "Epoch 249/300\n",
      "80/80 [==============================] - 0s - loss: 0.0081     \n",
      "Epoch 250/300\n",
      "80/80 [==============================] - 0s - loss: 0.0081     \n",
      "Epoch 251/300\n",
      "80/80 [==============================] - 0s - loss: 0.0081     \n",
      "Epoch 252/300\n",
      "80/80 [==============================] - 0s - loss: 0.0081     \n",
      "Epoch 253/300\n",
      "80/80 [==============================] - 0s - loss: 0.0081     \n",
      "Epoch 254/300\n",
      "80/80 [==============================] - 0s - loss: 0.0081     \n",
      "Epoch 255/300\n",
      "80/80 [==============================] - 0s - loss: 0.0081     \n",
      "Epoch 256/300\n",
      "80/80 [==============================] - 0s - loss: 0.0081     \n",
      "Epoch 257/300\n",
      "80/80 [==============================] - 0s - loss: 0.0081     \n",
      "Epoch 258/300\n",
      "80/80 [==============================] - 0s - loss: 0.0081     \n",
      "Epoch 259/300\n",
      "80/80 [==============================] - 0s - loss: 0.0081     \n",
      "Epoch 260/300\n",
      "80/80 [==============================] - 0s - loss: 0.0081     \n",
      "Epoch 261/300\n",
      "80/80 [==============================] - 0s - loss: 0.0081     \n",
      "Epoch 262/300\n",
      "80/80 [==============================] - 0s - loss: 0.0081     \n",
      "Epoch 263/300\n",
      "80/80 [==============================] - 0s - loss: 0.0081     \n",
      "Epoch 264/300\n",
      "80/80 [==============================] - 0s - loss: 0.0081     \n",
      "Epoch 265/300\n",
      "80/80 [==============================] - 0s - loss: 0.0081     \n",
      "Epoch 266/300\n",
      "80/80 [==============================] - 0s - loss: 0.0081     \n",
      "Epoch 267/300\n",
      "80/80 [==============================] - 0s - loss: 0.0081     \n",
      "Epoch 268/300\n",
      "80/80 [==============================] - 0s - loss: 0.0081     \n",
      "Epoch 269/300\n",
      "80/80 [==============================] - 0s - loss: 0.0081     \n",
      "Epoch 270/300\n",
      "80/80 [==============================] - 0s - loss: 0.0081     \n",
      "Epoch 271/300\n",
      "80/80 [==============================] - 0s - loss: 0.0081     \n",
      "Epoch 272/300\n",
      "80/80 [==============================] - 0s - loss: 0.0081     \n",
      "Epoch 273/300\n",
      "80/80 [==============================] - 0s - loss: 0.0081     \n",
      "Epoch 274/300\n",
      "80/80 [==============================] - 0s - loss: 0.0081     \n",
      "Epoch 275/300\n",
      "80/80 [==============================] - 0s - loss: 0.0081     \n",
      "Epoch 276/300\n",
      "80/80 [==============================] - 0s - loss: 0.0081     \n",
      "Epoch 277/300\n",
      "80/80 [==============================] - 0s - loss: 0.0081     \n",
      "Epoch 278/300\n",
      "80/80 [==============================] - 0s - loss: 0.0081     \n",
      "Epoch 279/300\n",
      "80/80 [==============================] - 0s - loss: 0.0081     \n",
      "Epoch 280/300\n",
      "80/80 [==============================] - 0s - loss: 0.0081     \n",
      "Epoch 281/300\n",
      "80/80 [==============================] - 0s - loss: 0.0081     \n",
      "Epoch 282/300\n",
      "80/80 [==============================] - 0s - loss: 0.0081     \n",
      "Epoch 283/300\n",
      "80/80 [==============================] - 0s - loss: 0.0081     \n",
      "Epoch 284/300\n",
      "80/80 [==============================] - 0s - loss: 0.0082     \n",
      "Epoch 285/300\n",
      "80/80 [==============================] - 0s - loss: 0.0081     \n",
      "Epoch 286/300\n",
      "80/80 [==============================] - 0s - loss: 0.0081     \n",
      "Epoch 287/300\n",
      "80/80 [==============================] - 0s - loss: 0.0081     \n",
      "Epoch 288/300\n",
      "80/80 [==============================] - 0s - loss: 0.0081     \n",
      "Epoch 289/300\n",
      "80/80 [==============================] - 0s - loss: 0.0081     \n",
      "Epoch 290/300\n",
      "80/80 [==============================] - 0s - loss: 0.0081     \n",
      "Epoch 291/300\n",
      "80/80 [==============================] - 0s - loss: 0.0081     \n",
      "Epoch 292/300\n",
      "80/80 [==============================] - 0s - loss: 0.0081     \n",
      "Epoch 293/300\n",
      "80/80 [==============================] - 0s - loss: 0.0081     \n",
      "Epoch 294/300\n",
      "80/80 [==============================] - 0s - loss: 0.0081     \n",
      "Epoch 295/300\n",
      "80/80 [==============================] - 0s - loss: 0.0081     \n",
      "Epoch 296/300\n",
      "80/80 [==============================] - 0s - loss: 0.0081     \n",
      "Epoch 297/300\n",
      "80/80 [==============================] - 0s - loss: 0.0081     \n",
      "Epoch 298/300\n",
      "80/80 [==============================] - 0s - loss: 0.0081     \n",
      "Epoch 299/300\n",
      "80/80 [==============================] - 0s - loss: 0.0081     \n",
      "Epoch 300/300\n",
      "80/80 [==============================] - 0s - loss: 0.0081     \n"
     ]
    },
    {
     "data": {
      "text/plain": [
       "<keras.callbacks.History at 0xc6107f0>"
      ]
     },
     "execution_count": 7,
     "metadata": {},
     "output_type": "execute_result"
    }
   ],
   "source": [
    "model.fit(x_train, y_train, nb_epoch=300)"
   ]
  },
  {
   "cell_type": "code",
   "execution_count": 8,
   "metadata": {
    "collapsed": false
   },
   "outputs": [
    {
     "data": {
      "image/png": "[encoded data removed]",
      "text/plain": [
       "<matplotlib.figure.Figure at 0xcaa25c0>"
      ]
     },
     "metadata": {},
     "output_type": "display_data"
    }
   ],
   "source": [
    "y_pred = model.predict(x_test)\n",
    "plt.scatter(x_test, y_test)\n",
    "plt.plot(x_test, y_pred)\n",
    "plt.show()"
   ]
  },
  {
   "cell_type": "markdown",
   "metadata": {},
   "source": [
    "### ➨ 2. Logistic Regression :\n",
    "\n",
    "<img src=\"005.png\" style=\"width:300px;height:200px;\">"
   ]
  },
  {
   "cell_type": "markdown",
   "metadata": {},
   "source": [
    "### ➨ 3. 簡單 Neural Network 結構 :\n",
    "\n",
    "<img src=\"007.png\" style=\"width:300px;height:200px;\">"
   ]
  },
  {
   "cell_type": "code",
   "execution_count": 63,
   "metadata": {
    "collapsed": false
   },
   "outputs": [],
   "source": [
    "import seaborn as sns"
   ]
  },
  {
   "cell_type": "code",
   "execution_count": 64,
   "metadata": {
    "collapsed": false
   },
   "outputs": [
    {
     "data": {
      "text/html": [
       "<div>\n",
       "<table border=\"1\" class=\"dataframe\">\n",
       "  <thead>\n",
       "    <tr style=\"text-align: right;\">\n",
       "      <th></th>\n",
       "      <th>sepal_length</th>\n",
       "      <th>sepal_width</th>\n",
       "      <th>petal_length</th>\n",
       "      <th>petal_width</th>\n",
       "      <th>species</th>\n",
       "    </tr>\n",
       "  </thead>\n",
       "  <tbody>\n",
       "    <tr>\n",
       "      <th>0</th>\n",
       "      <td>5.1</td>\n",
       "      <td>3.5</td>\n",
       "      <td>1.4</td>\n",
       "      <td>0.2</td>\n",
       "      <td>setosa</td>\n",
       "    </tr>\n",
       "    <tr>\n",
       "      <th>1</th>\n",
       "      <td>4.9</td>\n",
       "      <td>3.0</td>\n",
       "      <td>1.4</td>\n",
       "      <td>0.2</td>\n",
       "      <td>setosa</td>\n",
       "    </tr>\n",
       "    <tr>\n",
       "      <th>2</th>\n",
       "      <td>4.7</td>\n",
       "      <td>3.2</td>\n",
       "      <td>1.3</td>\n",
       "      <td>0.2</td>\n",
       "      <td>setosa</td>\n",
       "    </tr>\n",
       "    <tr>\n",
       "      <th>3</th>\n",
       "      <td>4.6</td>\n",
       "      <td>3.1</td>\n",
       "      <td>1.5</td>\n",
       "      <td>0.2</td>\n",
       "      <td>setosa</td>\n",
       "    </tr>\n",
       "    <tr>\n",
       "      <th>4</th>\n",
       "      <td>5.0</td>\n",
       "      <td>3.6</td>\n",
       "      <td>1.4</td>\n",
       "      <td>0.2</td>\n",
       "      <td>setosa</td>\n",
       "    </tr>\n",
       "  </tbody>\n",
       "</table>\n",
       "</div>"
      ],
      "text/plain": [
       "   sepal_length  sepal_width  petal_length  petal_width species\n",
       "0           5.1          3.5           1.4          0.2  setosa\n",
       "1           4.9          3.0           1.4          0.2  setosa\n",
       "2           4.7          3.2           1.3          0.2  setosa\n",
       "3           4.6          3.1           1.5          0.2  setosa\n",
       "4           5.0          3.6           1.4          0.2  setosa"
      ]
     },
     "execution_count": 64,
     "metadata": {},
     "output_type": "execute_result"
    }
   ],
   "source": [
    "iris = sns.load_dataset(\"iris\")\n",
    "iris.head()"
   ]
  },
  {
   "cell_type": "markdown",
   "metadata": {},
   "source": [
    "<img src=\"iris.JPG\" style=\"width:300px;height:300px;\">"
   ]
  },
  {
   "cell_type": "code",
   "execution_count": 65,
   "metadata": {
    "collapsed": false
   },
   "outputs": [
    {
     "data": {
      "text/plain": [
       "<seaborn.axisgrid.PairGrid at 0x12f2a588>"
      ]
     },
     "execution_count": 65,
     "metadata": {},
     "output_type": "execute_result"
    },
    {
     "data": {
      "image/png": "[encoded data removed]",
      "text/plain": [
       "<matplotlib.figure.Figure at 0x12f2a5f8>"
      ]
     },
     "metadata": {},
     "output_type": "display_data"
    }
   ],
   "source": [
    "sns.pairplot(iris, hue='species')"
   ]
  },
  {
   "cell_type": "code",
   "execution_count": 66,
   "metadata": {
    "collapsed": false
   },
   "outputs": [],
   "source": [
    "from sklearn.cross_validation import train_test_split\n",
    "\n",
    "X = iris.values[:, :4]\n",
    "y = iris.values[:, 4]\n",
    "x_train, x_test, y_train, y_test = train_test_split(X, y, train_size=0.5, random_state=0)"
   ]
  },
  {
   "cell_type": "code",
   "execution_count": 67,
   "metadata": {
    "collapsed": false
   },
   "outputs": [
    {
     "data": {
      "text/plain": [
       "(75L, 4L)"
      ]
     },
     "execution_count": 67,
     "metadata": {},
     "output_type": "execute_result"
    }
   ],
   "source": [
    "x_train.shape"
   ]
  },
  {
   "cell_type": "code",
   "execution_count": 68,
   "metadata": {
    "collapsed": false
   },
   "outputs": [
    {
     "data": {
      "text/plain": [
       "(75L,)"
      ]
     },
     "execution_count": 68,
     "metadata": {},
     "output_type": "execute_result"
    }
   ],
   "source": [
    "y_train.shape"
   ]
  },
  {
   "cell_type": "code",
   "execution_count": 69,
   "metadata": {
    "collapsed": false
   },
   "outputs": [
    {
     "data": {
      "text/plain": [
       "array(['setosa', 'virginica', 'versicolor', 'setosa', 'versicolor'], dtype=object)"
      ]
     },
     "execution_count": 69,
     "metadata": {},
     "output_type": "execute_result"
    }
   ],
   "source": [
    "y_train[:5]"
   ]
  },
  {
   "cell_type": "code",
   "execution_count": 70,
   "metadata": {
    "collapsed": false
   },
   "outputs": [],
   "source": [
    "from keras.utils import np_utils\n",
    "\n",
    "uniques, ids = np.unique(y_train, return_inverse=True)\n",
    "# uniques\n",
    "# ids\n",
    "y_train = np_utils.to_categorical(ids, len(uniques))"
   ]
  },
  {
   "cell_type": "code",
   "execution_count": 71,
   "metadata": {
    "collapsed": false
   },
   "outputs": [
    {
     "data": {
      "text/plain": [
       "(75L, 3L)"
      ]
     },
     "execution_count": 71,
     "metadata": {},
     "output_type": "execute_result"
    }
   ],
   "source": [
    "y_train.shape"
   ]
  },
  {
   "cell_type": "code",
   "execution_count": 72,
   "metadata": {
    "collapsed": false
   },
   "outputs": [
    {
     "data": {
      "text/plain": [
       "array([[ 1.,  0.,  0.],\n",
       "       [ 0.,  0.,  1.],\n",
       "       [ 0.,  1.,  0.],\n",
       "       [ 1.,  0.,  0.],\n",
       "       [ 0.,  1.,  0.]])"
      ]
     },
     "execution_count": 72,
     "metadata": {},
     "output_type": "execute_result"
    }
   ],
   "source": [
    "y_train[:5, :]"
   ]
  },
  {
   "cell_type": "code",
   "execution_count": 75,
   "metadata": {
    "collapsed": false
   },
   "outputs": [],
   "source": [
    "model = Sequential()\n",
    "model.add(Dense(output_dim=16, input_dim=4))\n",
    "model.add(Activation('sigmoid'))\n",
    "\n",
    "model.add(Dense(3))\n",
    "model.add(Activation('softmax'))\n",
    "\n",
    "model.compile(optimizer='adam', loss='categorical_crossentropy', metrics=[\"accuracy\"])"
   ]
  },
  {
   "cell_type": "code",
   "execution_count": 78,
   "metadata": {
    "collapsed": false
   },
   "outputs": [
    {
     "name": "stdout",
     "output_type": "stream",
     "text": [
      "Epoch 1/100\n",
      "75/75 [==============================] - 0s - loss: 0.4541 - acc: 0.7867     \n",
      "Epoch 2/100\n",
      "75/75 [==============================] - 0s - loss: 0.4531 - acc: 0.8133     \n",
      "Epoch 3/100\n",
      "75/75 [==============================] - 0s - loss: 0.4515 - acc: 0.8133     \n",
      "Epoch 4/100\n",
      "75/75 [==============================] - 0s - loss: 0.4504 - acc: 0.8133     \n",
      "Epoch 5/100\n",
      "75/75 [==============================] - 0s - loss: 0.4497 - acc: 0.8133     \n",
      "Epoch 6/100\n",
      "75/75 [==============================] - 0s - loss: 0.4481 - acc: 0.8267     \n",
      "Epoch 7/100\n",
      "75/75 [==============================] - 0s - loss: 0.4469 - acc: 0.8533     \n",
      "Epoch 8/100\n",
      "75/75 [==============================] - 0s - loss: 0.4456 - acc: 0.8533     \n",
      "Epoch 9/100\n",
      "75/75 [==============================] - 0s - loss: 0.4446 - acc: 0.8400     \n",
      "Epoch 10/100\n",
      "75/75 [==============================] - 0s - loss: 0.4433 - acc: 0.8400     \n",
      "Epoch 11/100\n",
      "75/75 [==============================] - 0s - loss: 0.4423 - acc: 0.8533     \n",
      "Epoch 12/100\n",
      "75/75 [==============================] - 0s - loss: 0.4411 - acc: 0.8533     \n",
      "Epoch 13/100\n",
      "75/75 [==============================] - 0s - loss: 0.4400 - acc: 0.8533     \n",
      "Epoch 14/100\n",
      "75/75 [==============================] - 0s - loss: 0.4388 - acc: 0.8400     \n",
      "Epoch 15/100\n",
      "75/75 [==============================] - 0s - loss: 0.4378 - acc: 0.8400     \n",
      "Epoch 16/100\n",
      "75/75 [==============================] - 0s - loss: 0.4366 - acc: 0.8267     \n",
      "Epoch 17/100\n",
      "75/75 [==============================] - 0s - loss: 0.4356 - acc: 0.8267     \n",
      "Epoch 18/100\n",
      "75/75 [==============================] - 0s - loss: 0.4346 - acc: 0.8533     \n",
      "Epoch 19/100\n",
      "75/75 [==============================] - 0s - loss: 0.4334 - acc: 0.8533     \n",
      "Epoch 20/100\n",
      "75/75 [==============================] - 0s - loss: 0.4323 - acc: 0.8667     \n",
      "Epoch 21/100\n",
      "75/75 [==============================] - 0s - loss: 0.4316 - acc: 0.8800     \n",
      "Epoch 22/100\n",
      "75/75 [==============================] - 0s - loss: 0.4303 - acc: 0.8933     \n",
      "Epoch 23/100\n",
      "75/75 [==============================] - 0s - loss: 0.4292 - acc: 0.8800     \n",
      "Epoch 24/100\n",
      "75/75 [==============================] - 0s - loss: 0.4281 - acc: 0.8800     \n",
      "Epoch 25/100\n",
      "75/75 [==============================] - 0s - loss: 0.4270 - acc: 0.8800     \n",
      "Epoch 26/100\n",
      "75/75 [==============================] - 0s - loss: 0.4260 - acc: 0.8800     \n",
      "Epoch 27/100\n",
      "75/75 [==============================] - 0s - loss: 0.4250 - acc: 0.8800     \n",
      "Epoch 28/100\n",
      "75/75 [==============================] - 0s - loss: 0.4240 - acc: 0.8667     \n",
      "Epoch 29/100\n",
      "75/75 [==============================] - 0s - loss: 0.4231 - acc: 0.8533     \n",
      "Epoch 30/100\n",
      "75/75 [==============================] - 0s - loss: 0.4219 - acc: 0.8400     \n",
      "Epoch 31/100\n",
      "75/75 [==============================] - 0s - loss: 0.4209 - acc: 0.8400     \n",
      "Epoch 32/100\n",
      "75/75 [==============================] - 0s - loss: 0.4200 - acc: 0.8267     \n",
      "Epoch 33/100\n",
      "75/75 [==============================] - 0s - loss: 0.4192 - acc: 0.8133     \n",
      "Epoch 34/100\n",
      "75/75 [==============================] - 0s - loss: 0.4180 - acc: 0.8267     \n",
      "Epoch 35/100\n",
      "75/75 [==============================] - 0s - loss: 0.4173 - acc: 0.8400     \n",
      "Epoch 36/100\n",
      "75/75 [==============================] - 0s - loss: 0.4160 - acc: 0.8667     \n",
      "Epoch 37/100\n",
      "75/75 [==============================] - 0s - loss: 0.4151 - acc: 0.8800     \n",
      "Epoch 38/100\n",
      "75/75 [==============================] - 0s - loss: 0.4141 - acc: 0.8800     \n",
      "Epoch 39/100\n",
      "75/75 [==============================] - 0s - loss: 0.4131 - acc: 0.8800     \n",
      "Epoch 40/100\n",
      "75/75 [==============================] - 0s - loss: 0.4121 - acc: 0.9067     \n",
      "Epoch 41/100\n",
      "75/75 [==============================] - 0s - loss: 0.4112 - acc: 0.9067     \n",
      "Epoch 42/100\n",
      "75/75 [==============================] - 0s - loss: 0.4104 - acc: 0.9067     \n",
      "Epoch 43/100\n",
      "75/75 [==============================] - 0s - loss: 0.4093 - acc: 0.9200     \n",
      "Epoch 44/100\n",
      "75/75 [==============================] - 0s - loss: 0.4083 - acc: 0.9200     \n",
      "Epoch 45/100\n",
      "75/75 [==============================] - 0s - loss: 0.4074 - acc: 0.9200     \n",
      "Epoch 46/100\n",
      "75/75 [==============================] - 0s - loss: 0.4064 - acc: 0.9200     \n",
      "Epoch 47/100\n",
      "75/75 [==============================] - 0s - loss: 0.4056 - acc: 0.9200     \n",
      "Epoch 48/100\n",
      "75/75 [==============================] - 0s - loss: 0.4045 - acc: 0.9200     \n",
      "Epoch 49/100\n",
      "75/75 [==============================] - 0s - loss: 0.4036 - acc: 0.9333     \n",
      "Epoch 50/100\n",
      "75/75 [==============================] - 0s - loss: 0.4028 - acc: 0.9333     \n",
      "Epoch 51/100\n",
      "75/75 [==============================] - 0s - loss: 0.4018 - acc: 0.9333     \n",
      "Epoch 52/100\n",
      "75/75 [==============================] - 0s - loss: 0.4009 - acc: 0.9333     \n",
      "Epoch 53/100\n",
      "75/75 [==============================] - 0s - loss: 0.4001 - acc: 0.9333     \n",
      "Epoch 54/100\n",
      "75/75 [==============================] - 0s - loss: 0.3996 - acc: 0.9333     \n",
      "Epoch 55/100\n",
      "75/75 [==============================] - 0s - loss: 0.3986 - acc: 0.9333     \n",
      "Epoch 56/100\n",
      "75/75 [==============================] - 0s - loss: 0.3977 - acc: 0.9333     \n",
      "Epoch 57/100\n",
      "75/75 [==============================] - 0s - loss: 0.3968 - acc: 0.9333     \n",
      "Epoch 58/100\n",
      "75/75 [==============================] - 0s - loss: 0.3958 - acc: 0.9333     \n",
      "Epoch 59/100\n",
      "75/75 [==============================] - 0s - loss: 0.3949 - acc: 0.9333     \n",
      "Epoch 60/100\n",
      "75/75 [==============================] - 0s - loss: 0.3939 - acc: 0.9333     \n",
      "Epoch 61/100\n",
      "75/75 [==============================] - 0s - loss: 0.3931 - acc: 0.9333     \n",
      "Epoch 62/100\n",
      "75/75 [==============================] - 0s - loss: 0.3922 - acc: 0.9333     \n",
      "Epoch 63/100\n",
      "75/75 [==============================] - 0s - loss: 0.3913 - acc: 0.9333     \n",
      "Epoch 64/100\n",
      "75/75 [==============================] - 0s - loss: 0.3906 - acc: 0.9333     \n",
      "Epoch 65/100\n",
      "75/75 [==============================] - 0s - loss: 0.3893 - acc: 0.9333     \n",
      "Epoch 66/100\n",
      "75/75 [==============================] - 0s - loss: 0.3886 - acc: 0.9333     \n",
      "Epoch 67/100\n",
      "75/75 [==============================] - 0s - loss: 0.3878 - acc: 0.9333     \n",
      "Epoch 68/100\n",
      "75/75 [==============================] - 0s - loss: 0.3868 - acc: 0.9333     \n",
      "Epoch 69/100\n",
      "75/75 [==============================] - 0s - loss: 0.3861 - acc: 0.9333     \n",
      "Epoch 70/100\n",
      "75/75 [==============================] - 0s - loss: 0.3851 - acc: 0.9333     \n",
      "Epoch 71/100\n",
      "75/75 [==============================] - 0s - loss: 0.3846 - acc: 0.9333     \n",
      "Epoch 72/100\n",
      "75/75 [==============================] - 0s - loss: 0.3834 - acc: 0.9333     \n",
      "Epoch 73/100\n",
      "75/75 [==============================] - 0s - loss: 0.3827 - acc: 0.9333     \n",
      "Epoch 74/100\n",
      "75/75 [==============================] - 0s - loss: 0.3818 - acc: 0.9333     \n",
      "Epoch 75/100\n",
      "75/75 [==============================] - 0s - loss: 0.3811 - acc: 0.9200     \n",
      "Epoch 76/100\n",
      "75/75 [==============================] - 0s - loss: 0.3804 - acc: 0.9200     \n",
      "Epoch 77/100\n",
      "75/75 [==============================] - 0s - loss: 0.3795 - acc: 0.9333     \n",
      "Epoch 78/100\n",
      "75/75 [==============================] - 0s - loss: 0.3787 - acc: 0.9333     \n",
      "Epoch 79/100\n",
      "75/75 [==============================] - 0s - loss: 0.3777 - acc: 0.9333     \n",
      "Epoch 80/100\n",
      "75/75 [==============================] - 0s - loss: 0.3767 - acc: 0.9333     \n",
      "Epoch 81/100\n",
      "75/75 [==============================] - 0s - loss: 0.3759 - acc: 0.9333     \n",
      "Epoch 82/100\n",
      "75/75 [==============================] - 0s - loss: 0.3751 - acc: 0.9333     \n",
      "Epoch 83/100\n",
      "75/75 [==============================] - 0s - loss: 0.3748 - acc: 0.9333     \n",
      "Epoch 84/100\n",
      "75/75 [==============================] - 0s - loss: 0.3734 - acc: 0.9333     \n",
      "Epoch 85/100\n",
      "75/75 [==============================] - 0s - loss: 0.3726 - acc: 0.9333     \n",
      "Epoch 86/100\n",
      "75/75 [==============================] - 0s - loss: 0.3721 - acc: 0.9333     \n",
      "Epoch 87/100\n",
      "75/75 [==============================] - 0s - loss: 0.3710 - acc: 0.9333     \n",
      "Epoch 88/100\n",
      "75/75 [==============================] - 0s - loss: 0.3701 - acc: 0.9333     \n",
      "Epoch 89/100\n",
      "75/75 [==============================] - 0s - loss: 0.3693 - acc: 0.9333     \n",
      "Epoch 90/100\n",
      "75/75 [==============================] - 0s - loss: 0.3685 - acc: 0.9333     \n",
      "Epoch 91/100\n",
      "75/75 [==============================] - 0s - loss: 0.3677 - acc: 0.9333     \n",
      "Epoch 92/100\n",
      "75/75 [==============================] - 0s - loss: 0.3668 - acc: 0.9333     \n",
      "Epoch 93/100\n",
      "75/75 [==============================] - 0s - loss: 0.3660 - acc: 0.9333     \n",
      "Epoch 94/100\n",
      "75/75 [==============================] - 0s - loss: 0.3652 - acc: 0.9333     \n",
      "Epoch 95/100\n",
      "75/75 [==============================] - 0s - loss: 0.3644 - acc: 0.9333     \n",
      "Epoch 96/100\n",
      "75/75 [==============================] - 0s - loss: 0.3637 - acc: 0.9333     \n",
      "Epoch 97/100\n",
      "75/75 [==============================] - 0s - loss: 0.3629 - acc: 0.9333     \n",
      "Epoch 98/100\n",
      "75/75 [==============================] - 0s - loss: 0.3621 - acc: 0.9333     \n",
      "Epoch 99/100\n",
      "75/75 [==============================] - 0s - loss: 0.3612 - acc: 0.9333     \n",
      "Epoch 100/100\n",
      "75/75 [==============================] - 0s - loss: 0.3605 - acc: 0.9333     \n"
     ]
    },
    {
     "data": {
      "text/plain": [
       "<keras.callbacks.History at 0x16068828>"
      ]
     },
     "execution_count": 78,
     "metadata": {},
     "output_type": "execute_result"
    }
   ],
   "source": [
    "model.fit(x_train, y_train, nb_epoch=100)"
   ]
  },
  {
   "cell_type": "code",
   "execution_count": 79,
   "metadata": {
    "collapsed": true
   },
   "outputs": [],
   "source": [
    "uniques, ids = np.unique(y_test, return_inverse=True)\n",
    "y_test = np_utils.to_categorical(ids, len(uniques))"
   ]
  },
  {
   "cell_type": "code",
   "execution_count": 80,
   "metadata": {
    "collapsed": false
   },
   "outputs": [
    {
     "name": "stdout",
     "output_type": "stream",
     "text": [
      "75/75 [==============================] - 0s     \n",
      "Accuracy = 0.84\n"
     ]
    }
   ],
   "source": [
    "loss, accuracy = model.evaluate(x_test, y_test, verbose=1)\n",
    "print(\"Accuracy = {:.2f}\".format(accuracy))"
   ]
  },
  {
   "cell_type": "code",
   "execution_count": null,
   "metadata": {
    "collapsed": true
   },
   "outputs": [],
   "source": []
  }
 ],
 "metadata": {
  "kernelspec": {
   "display_name": "Python 2",
   "language": "python",
   "name": "python2"
  },
  "language_info": {
   "codemirror_mode": {
    "name": "ipython",
    "version": 2
   },
   "file_extension": ".py",
   "mimetype": "text/x-python",
   "name": "python",
   "nbconvert_exporter": "python",
   "pygments_lexer": "ipython2",
   "version": "2.7.11"
  }
 },
 "nbformat": 4,
 "nbformat_minor": 0
}
