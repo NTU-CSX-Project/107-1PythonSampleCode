{
 "cells": [
  {
   "cell_type": "code",
   "execution_count": 32,
   "metadata": {
    "collapsed": false
   },
   "outputs": [],
   "source": [
    "import os\n",
    "os.environ['KERAS_BACKEND']='theano'\n",
    "from PIL import Image\n",
    "import numpy as np\n",
    "from __future__ import absolute_import\n",
    "from __future__ import print_function\n",
    "from keras.preprocessing.image import ImageDataGenerator\n",
    "from keras.models import Sequential\n",
    "from keras.layers.core import Dense, Dropout, Activation, Flatten\n",
    "from keras.layers.advanced_activations import PReLU\n",
    "from keras.layers.convolutional import Convolution2D, MaxPooling2D\n",
    "from keras.optimizers import SGD, Adadelta, Adagrad\n",
    "from keras.utils import np_utils, generic_utils\n",
    "from six.moves import range\n",
    "import random\n",
    "np.random.seed(1024) "
   ]
  },
  {
   "cell_type": "code",
   "execution_count": 33,
   "metadata": {
    "collapsed": true
   },
   "outputs": [],
   "source": [
    "def load_data():\n",
    "    data = np.empty((42000,1,28,28),dtype=\"float32\")\n",
    "    label = np.empty((42000,),dtype=\"uint8\")\n",
    "\n",
    "    imgs = os.listdir(\"/home/keras/Desktop/keras/mnist\")\n",
    "    num = len(imgs)  # 42000\n",
    "    for i in range(num):\n",
    "        img = Image.open(\"/home/keras/Desktop/keras/mnist/\"+imgs[i])\n",
    "        arr = np.asarray(img,dtype=\"float32\")\n",
    "        data[i,:,:,:] = arr\n",
    "        label[i] = int(imgs[i].split('.')[0])\n",
    "    return data,label"
   ]
  },
  {
   "cell_type": "code",
   "execution_count": 34,
   "metadata": {
    "collapsed": false
   },
   "outputs": [],
   "source": [
    "X_data, Y_data  = load_data()\n",
    "# 打亂資料\n",
    "index = [i for i in range(len(X_data))]\n",
    "random.shuffle(index)\n",
    "X_data = X_data[index]\n",
    "Y_data = Y_data[index]"
   ]
  },
  {
   "cell_type": "code",
   "execution_count": 35,
   "metadata": {
    "collapsed": true
   },
   "outputs": [],
   "source": [
    "X_train, X_test = X_data[:30000,:,:,:], X_data[30000:,:,:,:]\n",
    "Y_train, Y_test = Y_data[:30000,], Y_data[30000:,]"
   ]
  },
  {
   "cell_type": "code",
   "execution_count": 36,
   "metadata": {
    "collapsed": true
   },
   "outputs": [],
   "source": [
    "# input image dimensions\n",
    "X_train = X_train.reshape(X_train.shape[0], 28, 28, 1 )\n",
    "input_shape = (28, 28, 1)"
   ]
  },
  {
   "cell_type": "code",
   "execution_count": 37,
   "metadata": {
    "collapsed": true
   },
   "outputs": [],
   "source": [
    "Y_train = np_utils.to_categorical(Y_train, 10)"
   ]
  },
  {
   "cell_type": "code",
   "execution_count": 38,
   "metadata": {
    "collapsed": true
   },
   "outputs": [],
   "source": [
    "X_test = X_test.reshape(X_test.shape[0], 28, 28, 1 )\n",
    "Y_test = np_utils.to_categorical(Y_test, 10)"
   ]
  },
  {
   "cell_type": "code",
   "execution_count": 39,
   "metadata": {
    "collapsed": true
   },
   "outputs": [],
   "source": [
    "model = Sequential()\n",
    "model.add(Convolution2D(4, 5, 5, border_mode='valid',input_shape = input_shape)) \n",
    "model.add(Activation('tanh'))\n",
    "model.add(Convolution2D(8, 3, 3, border_mode='valid'))\n",
    "model.add(Activation('tanh'))\n",
    "model.add(MaxPooling2D(pool_size=(2, 2)))\n",
    "model.add(Convolution2D(16, 3, 3, border_mode='valid')) \n",
    "model.add(Activation('tanh'))\n",
    "model.add(MaxPooling2D(pool_size=(2, 2)))\n",
    "model.add(Flatten())\n",
    "model.add(Dense(128, init='normal'))\n",
    "model.add(Activation('tanh'))\n",
    "model.add(Dense(10, init='normal'))\n",
    "model.add(Activation('softmax'))\n",
    "sgd = SGD(lr=0.05, decay=1e-6, momentum=0.9, nesterov=True)\n",
    "model.compile(loss='categorical_crossentropy', optimizer=sgd, metrics=[\"accuracy\"])"
   ]
  },
  {
   "cell_type": "code",
   "execution_count": 40,
   "metadata": {
    "collapsed": false
   },
   "outputs": [
    {
     "name": "stdout",
     "output_type": "stream",
     "text": [
      "Epoch 1/10\n",
      "30000/30000 [==============================] - 46s - loss: 0.4013 - acc: 0.8814    \n",
      "Epoch 2/10\n",
      "30000/30000 [==============================] - 41s - loss: 0.1240 - acc: 0.9618    \n",
      "Epoch 3/10\n",
      "30000/30000 [==============================] - 38s - loss: 0.0973 - acc: 0.9690    \n",
      "Epoch 4/10\n",
      "30000/30000 [==============================] - 36s - loss: 0.0798 - acc: 0.9740    \n",
      "Epoch 5/10\n",
      "30000/30000 [==============================] - 43s - loss: 0.0628 - acc: 0.9809    \n",
      "Epoch 6/10\n",
      "30000/30000 [==============================] - 42s - loss: 0.0510 - acc: 0.9839    \n",
      "Epoch 7/10\n",
      "30000/30000 [==============================] - 46s - loss: 0.0482 - acc: 0.9846    \n",
      "Epoch 8/10\n",
      "30000/30000 [==============================] - 45s - loss: 0.0395 - acc: 0.9871    \n",
      "Epoch 9/10\n",
      "30000/30000 [==============================] - 45s - loss: 0.0445 - acc: 0.9861    \n",
      "Epoch 10/10\n",
      "30000/30000 [==============================] - 48s - loss: 0.0312 - acc: 0.9902    \n"
     ]
    },
    {
     "data": {
      "text/plain": [
       "<keras.callbacks.History at 0x7fdd8c275f90>"
      ]
     },
     "execution_count": 40,
     "metadata": {},
     "output_type": "execute_result"
    }
   ],
   "source": [
    "model.fit(X_train, Y_train, batch_size=100, nb_epoch=10,shuffle=True,verbose=1)"
   ]
  },
  {
   "cell_type": "code",
   "execution_count": 41,
   "metadata": {
    "collapsed": false
   },
   "outputs": [
    {
     "name": "stdout",
     "output_type": "stream",
     "text": [
      "12000/12000 [==============================] - 16s    \n"
     ]
    }
   ],
   "source": [
    "score = model.evaluate(X_test, Y_test)"
   ]
  },
  {
   "cell_type": "code",
   "execution_count": 42,
   "metadata": {
    "collapsed": false
   },
   "outputs": [
    {
     "name": "stdout",
     "output_type": "stream",
     "text": [
      "Total Loss on Testing Set: 0.0665790219544\n",
      "Accuracy of Testing Set: 0.980666666667\n"
     ]
    }
   ],
   "source": [
    "print(\"Total Loss on Testing Set:\", score[0])\n",
    "print(\"Accuracy of Testing Set:\", score[1])"
   ]
  },
  {
   "cell_type": "code",
   "execution_count": null,
   "metadata": {
    "collapsed": true
   },
   "outputs": [],
   "source": []
  }
 ],
 "metadata": {
  "kernelspec": {
   "display_name": "Python 2",
   "language": "python",
   "name": "python2"
  },
  "language_info": {
   "codemirror_mode": {
    "name": "ipython",
    "version": 2
   },
   "file_extension": ".py",
   "mimetype": "text/x-python",
   "name": "python",
   "nbconvert_exporter": "python",
   "pygments_lexer": "ipython2",
   "version": "2.7.11"
  }
 },
 "nbformat": 4,
 "nbformat_minor": 1
}
