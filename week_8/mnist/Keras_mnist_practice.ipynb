{
 "cells": [
  {
   "cell_type": "code",
   "execution_count": 4,
   "metadata": {
    "collapsed": false
   },
   "outputs": [],
   "source": [
    "import os\n",
    "os.environ['KERAS_BACKEND']='theano'\n",
    "from PIL import Image\n",
    "import numpy as np\n",
    "import random\n",
    "np.random.seed(1024) \n",
    "import matplotlib.pyplot as plt\n",
    "%matplotlib inline"
   ]
  },
  {
   "cell_type": "code",
   "execution_count": 2,
   "metadata": {
    "collapsed": true
   },
   "outputs": [],
   "source": [
    "def load_data():\n",
    "    data = np.empty((42000,1,28,28),dtype=\"float32\")\n",
    "    label = np.empty((42000,),dtype=\"uint8\")\n",
    "\n",
    "    imgs = os.listdir(\"/home/keras/Desktop/keras/mnist\")\n",
    "    num = len(imgs)  # 42000\n",
    "    for i in range(num):\n",
    "        img = Image.open(\"/home/keras/Desktop/keras/mnist/\"+imgs[i])\n",
    "        arr = np.asarray(img,dtype=\"float32\")\n",
    "        data[i,:,:,:] = arr\n",
    "        label[i] = int(imgs[i].split('.')[0])\n",
    "    return data,label"
   ]
  },
  {
   "cell_type": "code",
   "execution_count": 3,
   "metadata": {
    "collapsed": true
   },
   "outputs": [],
   "source": [
    "X_data, Y_data  = load_data()"
   ]
  },
  {
   "cell_type": "code",
   "execution_count": 29,
   "metadata": {
    "collapsed": false
   },
   "outputs": [
    {
     "data": {
      "text/plain": [
       "array([[[   0.,    0.,    0.,    0.,    0.,    0.,    0.,    0.,    0.,\n",
       "            0.,    3.,    4.,    0.,    0.,    3.,    0.,    0.,    5.,\n",
       "            0.,   14.,    0.,    0.,   11.,    0.,    0.,    0.,    0.,\n",
       "            0.],\n",
       "        [   0.,    0.,    0.,    0.,    0.,    0.,    0.,    0.,    9.,\n",
       "            0.,    0.,    4.,    6.,    1.,    0.,    0.,   10.,    0.,\n",
       "            9.,    0.,    5.,    9.,    0.,    9.,    0.,    0.,    0.,\n",
       "            0.],\n",
       "        [   0.,    0.,    0.,    0.,    0.,    0.,    0.,    0.,    0.,\n",
       "            9.,   10.,    0.,    0.,    0.,    7.,    0.,    0.,   20.,\n",
       "            0.,    0.,    8.,    0.,   20.,    0.,    0.,    0.,    0.,\n",
       "            0.],\n",
       "        [   0.,    0.,    0.,    0.,    0.,    0.,    0.,    0.,    0.,\n",
       "            0.,    0.,    8.,   20.,    9.,    0.,    0.,    3.,    0.,\n",
       "            4.,    5.,    0.,    0.,    3.,    1.,    0.,    0.,    0.,\n",
       "            0.],\n",
       "        [   0.,    0.,    0.,    0.,    0.,    0.,    0.,    0.,    1.,\n",
       "           11.,    1.,    0.,    0.,    0.,    0.,    5.,    5.,   16.,\n",
       "           15.,    0.,    0.,   13.,    0.,    2.,    0.,    0.,    0.,\n",
       "            0.],\n",
       "        [   0.,    0.,    0.,    0.,    0.,    0.,    0.,    0.,    0.,\n",
       "            0.,    0.,    0.,   12.,    4.,    0.,    7.,   51.,   96.,\n",
       "            0.,    0.,    6.,    4.,    0.,   10.,    0.,    0.,    0.,\n",
       "            0.],\n",
       "        [   0.,    0.,    0.,    0.,    0.,    0.,    0.,    0.,    7.,\n",
       "            2.,    1.,   12.,    0.,    0.,   73.,  232.,  255.,  239.,\n",
       "          255.,  255.,  255.,  174.,   18.,    0.,    0.,    0.,    0.,\n",
       "            0.],\n",
       "        [   0.,    0.,    0.,    0.,    0.,    0.,    0.,    0.,    0.,\n",
       "            7.,    0.,    0.,  100.,  203.,  244.,  255.,  255.,  247.,\n",
       "          255.,  246.,  239.,  255.,  211.,   22.,    0.,    0.,    0.,\n",
       "            0.],\n",
       "        [   7.,    0.,    0.,    0.,    1.,    0.,    0.,    0.,    0.,\n",
       "            4.,    6.,  104.,  253.,  255.,  254.,  212.,  205.,  128.,\n",
       "            3.,   40.,  119.,  216.,  255.,  164.,    0.,    0.,    0.,\n",
       "            0.],\n",
       "        [   0.,    0.,    0.,    5.,    6.,    3.,    3.,    4.,    0.,\n",
       "            2.,    3.,  134.,  241.,  255.,   85.,   16.,    7.,   33.,\n",
       "            0.,    0.,   33.,  195.,  252.,  175.,    0.,    0.,    0.,\n",
       "            0.],\n",
       "        [   0.,    1.,    5.,    2.,    0.,    0.,    0.,    0.,    3.,\n",
       "           10.,    0.,   50.,  125.,   11.,    0.,    0.,    0.,    8.,\n",
       "            9.,    0.,   44.,  255.,  244.,  137.,    0.,    0.,    0.,\n",
       "            0.],\n",
       "        [   1.,    5.,    3.,    0.,    0.,    0.,    0.,    0.,    0.,\n",
       "            2.,    0.,    0.,    0.,    4.,    0.,   17.,   28.,    0.,\n",
       "            4.,    1.,  174.,  255.,  205.,   10.,    0.,    0.,    0.,\n",
       "            0.],\n",
       "        [   1.,    1.,    0.,    0.,    0.,    3.,    4.,    1.,    5.,\n",
       "            0.,   18.,    3.,    0.,    7.,    3.,    0.,    0.,    0.,\n",
       "            0.,  180.,  252.,  255.,  140.,    0.,    0.,    0.,    0.,\n",
       "            0.],\n",
       "        [   0.,    0.,    0.,    2.,    0.,    0.,    0.,    0.,    0.,\n",
       "            0.,   19.,  163.,  189.,  202.,  190.,  164.,   84.,    9.,\n",
       "          179.,  222.,  252.,  171.,    6.,   15.,    0.,    0.,    0.,\n",
       "            0.],\n",
       "        [   2.,    0.,    0.,    4.,    0.,    0.,    0.,   16.,   11.,\n",
       "           79.,  248.,  230.,  255.,  255.,  247.,  255.,  243.,  242.,\n",
       "          255.,  253.,  185.,   27.,    0.,    0.,    0.,    0.,    0.,\n",
       "            0.],\n",
       "        [   2.,    0.,    0.,    5.,    0.,    0.,   23.,   63.,  193.,\n",
       "          255.,  228.,  173.,  131.,  152.,  175.,  253.,  249.,  255.,\n",
       "          248.,  171.,   76.,    0.,    0.,   11.,    0.,    0.,    0.,\n",
       "            0.],\n",
       "        [   0.,    3.,    3.,    0.,    5.,    0.,   91.,  255.,  255.,\n",
       "          177.,   53.,    0.,    1.,   25.,  213.,  255.,  255.,  252.,\n",
       "          255.,  130.,   25.,    0.,    0.,   11.,    0.,    0.,    0.,\n",
       "            0.],\n",
       "        [   2.,    0.,    7.,    0.,    3.,  157.,  247.,  244.,  165.,\n",
       "           55.,    0.,   17.,  100.,  190.,  255.,  236.,  191.,  194.,\n",
       "          253.,  246.,  152.,    8.,   11.,    0.,    0.,    0.,    0.,\n",
       "            0.],\n",
       "        [   0.,    0.,    0.,    2.,   93.,  236.,  241.,  175.,    0.,\n",
       "           15.,   91.,  237.,  255.,  250.,  223.,   88.,    5.,    0.,\n",
       "          246.,  255.,  100.,    0.,    7.,    9.,    0.,    0.,    0.,\n",
       "            0.],\n",
       "        [   3.,   19.,    0.,    5.,   98.,  255.,  243.,  170.,  127.,\n",
       "          226.,  255.,  227.,  248.,  218.,   64.,    3.,    0.,   23.,\n",
       "          168.,  241.,  193.,   41.,    3.,    0.,    0.,    0.,    0.,\n",
       "            0.],\n",
       "        [   0.,    0.,   16.,    0.,  250.,  241.,  254.,  255.,  246.,\n",
       "          249.,  251.,  220.,  153.,   13.,    0.,    0.,    7.,    0.,\n",
       "           89.,  249.,  255.,  128.,   13.,    0.,    0.,    0.,    0.,\n",
       "            0.],\n",
       "        [   3.,    9.,    0.,    0.,   77.,  231.,  255.,  239.,  255.,\n",
       "          195.,  138.,    4.,    0.,    2.,    0.,    9.,    5.,    0.,\n",
       "            0.,   82.,  203.,  170.,    0.,   15.,    0.,    0.,    0.,\n",
       "            0.],\n",
       "        [   0.,    0.,    0.,    6.,   22.,  101.,   94.,  101.,    0.,\n",
       "            0.,    5.,    8.,    0.,    0.,   28.,    0.,    0.,   15.,\n",
       "            0.,    3.,    0.,    0.,    1.,    0.,    0.,    0.,    0.,\n",
       "            0.],\n",
       "        [   6.,    0.,    3.,    7.,    0.,    4.,    0.,    2.,    0.,\n",
       "           13.,    0.,    0.,   11.,    9.,    0.,    0.,    4.,    0.,\n",
       "           19.,    2.,    0.,    3.,    2.,    0.,    0.,    0.,    0.,\n",
       "            0.],\n",
       "        [   0.,    0.,    0.,    0.,    0.,    0.,    0.,    0.,    0.,\n",
       "            0.,    0.,    0.,    0.,    0.,    0.,    0.,    0.,    0.,\n",
       "            0.,    0.,    0.,    0.,    0.,    0.,    0.,    0.,    0.,\n",
       "            0.],\n",
       "        [   0.,    0.,    0.,    0.,    0.,    0.,    0.,    0.,    0.,\n",
       "            0.,    0.,    0.,    0.,    0.,    0.,    0.,    0.,    0.,\n",
       "            0.,    0.,    0.,    0.,    0.,    0.,    0.,    0.,    0.,\n",
       "            0.],\n",
       "        [   0.,    0.,    0.,    0.,    0.,    0.,    0.,    0.,    0.,\n",
       "            0.,    0.,    0.,    0.,    0.,    0.,    0.,    0.,    0.,\n",
       "            0.,    0.,    0.,    0.,    0.,    0.,    0.,    0.,    0.,\n",
       "            0.],\n",
       "        [   0.,    0.,    0.,    0.,    0.,    0.,    0.,    0.,    0.,\n",
       "            0.,    0.,    0.,    0.,    0.,    0.,    0.,    0.,    0.,\n",
       "            0.,    0.,    0.,    0.,    0.,    0.,    0.,    0.,    0.,\n",
       "            0.]]], dtype=float32)"
      ]
     },
     "execution_count": 29,
     "metadata": {},
     "output_type": "execute_result"
    }
   ],
   "source": [
    "X_data[0,:,:,:]"
   ]
  },
  {
   "cell_type": "code",
   "execution_count": 30,
   "metadata": {
    "collapsed": false
   },
   "outputs": [],
   "source": [
    "imgs = os.listdir(\"/home/bigmoumou/Desktop/keras/mnist\")\n",
    "img = Image.open(\"/home/bigmoumou/Desktop/keras/mnist/\" + imgs[0])"
   ]
  },
  {
   "cell_type": "code",
   "execution_count": 31,
   "metadata": {
    "collapsed": false
   },
   "outputs": [
    {
     "data": {
      "text/plain": [
       "<matplotlib.image.AxesImage at 0x7f05f406fc90>"
      ]
     },
     "execution_count": 31,
     "metadata": {},
     "output_type": "execute_result"
    },
    {
     "data": {
      "image/png": "[encoded data removed]",
      "text/plain": [
       "<matplotlib.figure.Figure at 0x7f05f4053a10>"
      ]
     },
     "metadata": {},
     "output_type": "display_data"
    }
   ],
   "source": [
    "plt.imshow(img, cmap='Greys')"
   ]
  },
  {
   "cell_type": "code",
   "execution_count": 32,
   "metadata": {
    "collapsed": false
   },
   "outputs": [
    {
     "data": {
      "text/plain": [
       "['2', '4042', 'jpg']"
      ]
     },
     "execution_count": 32,
     "metadata": {},
     "output_type": "execute_result"
    }
   ],
   "source": [
    "imgs[0].split('.')"
   ]
  },
  {
   "cell_type": "code",
   "execution_count": 1,
   "metadata": {
    "collapsed": false
   },
   "outputs": [
    {
     "data": {
      "text/plain": [
       "[0, 1, 2, 3, 4, 5, 6, 7, 8, 9]"
      ]
     },
     "execution_count": 1,
     "metadata": {},
     "output_type": "execute_result"
    }
   ],
   "source": [
    "# index = [i for i in range(len(X_data))]\n",
    "[i for i in range(10)]"
   ]
  },
  {
   "cell_type": "code",
   "execution_count": 6,
   "metadata": {
    "collapsed": false
   },
   "outputs": [
    {
     "data": {
      "text/plain": [
       "[1, 2, 0, 6, 4, 7, 8, 3, 9, 5]"
      ]
     },
     "execution_count": 6,
     "metadata": {},
     "output_type": "execute_result"
    }
   ],
   "source": [
    "index = [i for i in range(10)]\n",
    "random.shuffle(index)\n",
    "index"
   ]
  },
  {
   "cell_type": "code",
   "execution_count": null,
   "metadata": {
    "collapsed": true
   },
   "outputs": [],
   "source": []
  }
 ],
 "metadata": {
  "kernelspec": {
   "display_name": "Python 2",
   "language": "python",
   "name": "python2"
  },
  "language_info": {
   "codemirror_mode": {
    "name": "ipython",
    "version": 2
   },
   "file_extension": ".py",
   "mimetype": "text/x-python",
   "name": "python",
   "nbconvert_exporter": "python",
   "pygments_lexer": "ipython2",
   "version": "2.7.11"
  }
 },
 "nbformat": 4,
 "nbformat_minor": 1
}
