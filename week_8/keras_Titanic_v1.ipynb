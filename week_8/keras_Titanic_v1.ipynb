{
 "cells": [
  {
   "cell_type": "markdown",
   "metadata": {},
   "source": [
    "<h2 style=\"background-image: linear-gradient( 135deg, #52E5E7 10%, #130CB7 100%);\"> 0.Modules"
   ]
  },
  {
   "cell_type": "code",
   "execution_count": 1,
   "metadata": {},
   "outputs": [
    {
     "name": "stderr",
     "output_type": "stream",
     "text": [
      "Using TensorFlow backend.\n"
     ]
    }
   ],
   "source": [
    "import urllib.request\n",
    "import os\n",
    "import pandas as pd\n",
    "import numpy as np\n",
    "import keras\n",
    "import matplotlib.pyplot as plt\n",
    "from sklearn import preprocessing\n",
    "%matplotlib inline"
   ]
  },
  {
   "cell_type": "markdown",
   "metadata": {},
   "source": [
    "<h2 style=\"background-image: linear-gradient( 135deg, #52E5E7 10%, #130CB7 100%);\"> 1.Download file and read excel data"
   ]
  },
  {
   "cell_type": "code",
   "execution_count": 2,
   "metadata": {},
   "outputs": [
    {
     "name": "stdout",
     "output_type": "stream",
     "text": [
      "downloaded already\n",
      "data loaded.\n"
     ]
    }
   ],
   "source": [
    "url= 'http://biostat.mc.vanderbilt.edu/wiki/pub/Main/DataSets/titanic3.xls'\n",
    "filepath = './titanic3.xls'\n",
    "if not os.path.isfile(filepath):\n",
    "    result = urllib.request.urlretrieve(url, filepath)\n",
    "    print('downloading:', result)\n",
    "    all_df = pd.read_excel(filepath)\n",
    "    print('data loaded.')\n",
    "else:\n",
    "    print('downloaded already')\n",
    "    all_df = pd.read_excel(filepath)\n",
    "    print('data loaded.')"
   ]
  },
  {
   "cell_type": "markdown",
   "metadata": {},
   "source": [
    "<h2 style=\"background-image: linear-gradient( 135deg, #52E5E7 10%, #130CB7 100%);\"> 2.Split data into Train and Test"
   ]
  },
  {
   "cell_type": "code",
   "execution_count": 3,
   "metadata": {
    "collapsed": true
   },
   "outputs": [],
   "source": [
    "msk=np.random.rand(len(all_df)) < 0.8\n",
    "train_df = all_df[msk]\n",
    "test_df = all_df[~msk]"
   ]
  },
  {
   "cell_type": "code",
   "execution_count": 4,
   "metadata": {},
   "outputs": [
    {
     "name": "stdout",
     "output_type": "stream",
     "text": [
      "Total: 1309 Train: 1051 Test: 258\n"
     ]
    }
   ],
   "source": [
    "print('Total:', len(all_df),\n",
    "      'Train:', len(train_df),\n",
    "      'Test:', len(test_df))"
   ]
  },
  {
   "cell_type": "markdown",
   "metadata": {},
   "source": [
    "<h2 style=\"background-image: linear-gradient( 135deg, #52E5E7 10%, #130CB7 100%);\"> 3.Preproccessing Fuction"
   ]
  },
  {
   "cell_type": "code",
   "execution_count": 5,
   "metadata": {
    "collapsed": true
   },
   "outputs": [],
   "source": [
    "# Titanic data preprocessing function\n",
    "def preprocessTitanicData(raw_df):\n",
    "    df = raw_df[['survived', 'pclass', 'sibsp', 'parch', 'age', 'sex', 'fare', 'embarked']]\n",
    "    df['age'] = df['age'].fillna(df['age'].mean())\n",
    "    df['fare'] = df['fare'].fillna(df['fare'].mean())\n",
    "    df['sex'] = df['sex'].map({'female':0, 'male':1}).astype(int)\n",
    "    x_onehot_df = pd.get_dummies(data=df, columns= ['embarked'])\n",
    "    ndarray = x_onehot_df.values\n",
    "    feature = ndarray[:,1:]\n",
    "    label = ndarray[:, 0]\n",
    "    \n",
    "    minmax_scale = preprocessing.MinMaxScaler(feature_range=(0, 1))\n",
    "    scaledFeatures = minmax_scale.fit_transform(feature)\n",
    "    \n",
    "    return scaledFeatures, label"
   ]
  },
  {
   "cell_type": "code",
   "execution_count": 6,
   "metadata": {
    "collapsed": true
   },
   "outputs": [],
   "source": [
    "# Show training history\n",
    "def show_train_history(train_histroy, train, validation):\n",
    "    plt.plot(train_history.history[train])\n",
    "    plt.plot(train_history.history[validation])\n",
    "    plt.title('Train History')\n",
    "    plt.xlabel('Epoch')\n",
    "    plt.ylabel(train)\n",
    "    plt.legend(['train', 'validation'], loc='upper left')\n",
    "    plt.show()"
   ]
  },
  {
   "cell_type": "code",
   "execution_count": 7,
   "metadata": {},
   "outputs": [
    {
     "name": "stderr",
     "output_type": "stream",
     "text": [
      "D:\\Anaconda3\\lib\\site-packages\\ipykernel\\__main__.py:4: SettingWithCopyWarning: \n",
      "A value is trying to be set on a copy of a slice from a DataFrame.\n",
      "Try using .loc[row_indexer,col_indexer] = value instead\n",
      "\n",
      "See the caveats in the documentation: http://pandas.pydata.org/pandas-docs/stable/indexing.html#indexing-view-versus-copy\n",
      "D:\\Anaconda3\\lib\\site-packages\\ipykernel\\__main__.py:5: SettingWithCopyWarning: \n",
      "A value is trying to be set on a copy of a slice from a DataFrame.\n",
      "Try using .loc[row_indexer,col_indexer] = value instead\n",
      "\n",
      "See the caveats in the documentation: http://pandas.pydata.org/pandas-docs/stable/indexing.html#indexing-view-versus-copy\n",
      "D:\\Anaconda3\\lib\\site-packages\\ipykernel\\__main__.py:6: SettingWithCopyWarning: \n",
      "A value is trying to be set on a copy of a slice from a DataFrame.\n",
      "Try using .loc[row_indexer,col_indexer] = value instead\n",
      "\n",
      "See the caveats in the documentation: http://pandas.pydata.org/pandas-docs/stable/indexing.html#indexing-view-versus-copy\n"
     ]
    }
   ],
   "source": [
    "x_train, y_train = preprocessTitanicData(train_df)\n",
    "x_test, y_test = preprocessTitanicData(test_df)"
   ]
  },
  {
   "cell_type": "markdown",
   "metadata": {},
   "source": [
    "<h2 style=\"background-image: linear-gradient( 135deg, #52E5E7 10%, #130CB7 100%);\"> 4.Constructing model"
   ]
  },
  {
   "cell_type": "code",
   "execution_count": 8,
   "metadata": {
    "collapsed": true
   },
   "outputs": [],
   "source": [
    "from keras.models import Sequential\n",
    "from keras.layers import Dense, Dropout"
   ]
  },
  {
   "cell_type": "code",
   "execution_count": 9,
   "metadata": {
    "collapsed": true
   },
   "outputs": [],
   "source": [
    "model = Sequential()"
   ]
  },
  {
   "cell_type": "code",
   "execution_count": 10,
   "metadata": {
    "collapsed": true
   },
   "outputs": [],
   "source": [
    "model.add(Dense(units=40, \n",
    "                input_dim=9, \n",
    "                kernel_initializer='uniform', \n",
    "                activation='relu'))"
   ]
  },
  {
   "cell_type": "code",
   "execution_count": 11,
   "metadata": {
    "collapsed": true
   },
   "outputs": [],
   "source": [
    "model.add(Dense(units=30, \n",
    "                kernel_initializer='uniform',\n",
    "                activation='relu'))"
   ]
  },
  {
   "cell_type": "code",
   "execution_count": 12,
   "metadata": {
    "collapsed": true
   },
   "outputs": [],
   "source": [
    "model.add(Dense(units=1, \n",
    "                kernel_initializer='uniform',\n",
    "                activation='sigmoid'))"
   ]
  },
  {
   "cell_type": "markdown",
   "metadata": {},
   "source": [
    "<h2 style=\"background-image: linear-gradient( 135deg, #52E5E7 10%, #130CB7 100%);\"> 5.Training model"
   ]
  },
  {
   "cell_type": "code",
   "execution_count": 13,
   "metadata": {
    "collapsed": true
   },
   "outputs": [],
   "source": [
    "# Use compile method to set model details.\n",
    "model.compile(loss='binary_crossentropy', \n",
    "              optimizer='adam', \n",
    "              metrics=['accuracy'])"
   ]
  },
  {
   "cell_type": "code",
   "execution_count": 14,
   "metadata": {},
   "outputs": [
    {
     "name": "stdout",
     "output_type": "stream",
     "text": [
      "Train on 945 samples, validate on 106 samples\n",
      "Epoch 1/30\n",
      "945/945 [==============================] - 0s - loss: 0.6879 - acc: 0.6085 - val_loss: 0.6636 - val_acc: 0.7736\n",
      "Epoch 2/30\n",
      "945/945 [==============================] - 0s - loss: 0.6565 - acc: 0.6138 - val_loss: 0.5684 - val_acc: 0.7736\n",
      "Epoch 3/30\n",
      "945/945 [==============================] - 0s - loss: 0.5936 - acc: 0.6963 - val_loss: 0.4780 - val_acc: 0.8019\n",
      "Epoch 4/30\n",
      "945/945 [==============================] - 0s - loss: 0.5374 - acc: 0.7556 - val_loss: 0.4450 - val_acc: 0.8019\n",
      "Epoch 5/30\n",
      "945/945 [==============================] - 0s - loss: 0.5062 - acc: 0.7693 - val_loss: 0.4420 - val_acc: 0.8208\n",
      "Epoch 6/30\n",
      "945/945 [==============================] - 0s - loss: 0.4961 - acc: 0.7524 - val_loss: 0.4285 - val_acc: 0.8208\n",
      "Epoch 7/30\n",
      "945/945 [==============================] - 0s - loss: 0.4877 - acc: 0.7672 - val_loss: 0.4265 - val_acc: 0.8208\n",
      "Epoch 8/30\n",
      "945/945 [==============================] - 0s - loss: 0.4859 - acc: 0.7598 - val_loss: 0.4252 - val_acc: 0.8208\n",
      "Epoch 9/30\n",
      "945/945 [==============================] - 0s - loss: 0.4802 - acc: 0.7693 - val_loss: 0.4243 - val_acc: 0.8208\n",
      "Epoch 10/30\n",
      "945/945 [==============================] - 0s - loss: 0.4778 - acc: 0.7619 - val_loss: 0.4228 - val_acc: 0.7736\n",
      "Epoch 11/30\n",
      "945/945 [==============================] - 0s - loss: 0.4750 - acc: 0.7778 - val_loss: 0.4242 - val_acc: 0.8208\n",
      "Epoch 12/30\n",
      "945/945 [==============================] - 0s - loss: 0.4752 - acc: 0.7862 - val_loss: 0.4241 - val_acc: 0.8208\n",
      "Epoch 13/30\n",
      "945/945 [==============================] - 0s - loss: 0.4735 - acc: 0.7714 - val_loss: 0.4215 - val_acc: 0.8019\n",
      "Epoch 14/30\n",
      "945/945 [==============================] - 0s - loss: 0.4710 - acc: 0.7820 - val_loss: 0.4211 - val_acc: 0.8208\n",
      "Epoch 15/30\n",
      "945/945 [==============================] - 0s - loss: 0.4674 - acc: 0.7862 - val_loss: 0.4234 - val_acc: 0.82080.789\n",
      "Epoch 16/30\n",
      "945/945 [==============================] - 0s - loss: 0.4653 - acc: 0.7915 - val_loss: 0.4227 - val_acc: 0.8208\n",
      "Epoch 17/30\n",
      "945/945 [==============================] - 0s - loss: 0.4632 - acc: 0.7820 - val_loss: 0.4212 - val_acc: 0.8208\n",
      "Epoch 18/30\n",
      "945/945 [==============================] - 0s - loss: 0.4624 - acc: 0.7894 - val_loss: 0.4224 - val_acc: 0.8208\n",
      "Epoch 19/30\n",
      "945/945 [==============================] - 0s - loss: 0.4667 - acc: 0.7852 - val_loss: 0.4228 - val_acc: 0.8113\n",
      "Epoch 20/30\n",
      "945/945 [==============================] - 0s - loss: 0.4611 - acc: 0.7820 - val_loss: 0.4232 - val_acc: 0.8208\n",
      "Epoch 21/30\n",
      "945/945 [==============================] - 0s - loss: 0.4622 - acc: 0.7958 - val_loss: 0.4250 - val_acc: 0.7925\n",
      "Epoch 22/30\n",
      "945/945 [==============================] - 0s - loss: 0.4585 - acc: 0.7968 - val_loss: 0.4242 - val_acc: 0.8208\n",
      "Epoch 23/30\n",
      "945/945 [==============================] - 0s - loss: 0.4589 - acc: 0.7958 - val_loss: 0.4221 - val_acc: 0.8208\n",
      "Epoch 24/30\n",
      "945/945 [==============================] - 0s - loss: 0.4567 - acc: 0.7958 - val_loss: 0.4248 - val_acc: 0.8113\n",
      "Epoch 25/30\n",
      "945/945 [==============================] - 0s - loss: 0.4565 - acc: 0.7926 - val_loss: 0.4230 - val_acc: 0.8208\n",
      "Epoch 26/30\n",
      "945/945 [==============================] - 0s - loss: 0.4566 - acc: 0.7937 - val_loss: 0.4259 - val_acc: 0.8113\n",
      "Epoch 27/30\n",
      "945/945 [==============================] - 0s - loss: 0.4575 - acc: 0.7968 - val_loss: 0.4245 - val_acc: 0.8019\n",
      "Epoch 28/30\n",
      "945/945 [==============================] - 0s - loss: 0.4559 - acc: 0.7937 - val_loss: 0.4256 - val_acc: 0.8113\n",
      "Epoch 29/30\n",
      "945/945 [==============================] - 0s - loss: 0.4549 - acc: 0.7958 - val_loss: 0.4245 - val_acc: 0.8208\n",
      "Epoch 30/30\n",
      "945/945 [==============================] - 0s - loss: 0.4536 - acc: 0.7989 - val_loss: 0.4231 - val_acc: 0.8113\n"
     ]
    }
   ],
   "source": [
    "train_history = model.fit(x=x_train, \n",
    "                          y=y_train,\n",
    "                          validation_split=0.1,\n",
    "                          epochs=30, \n",
    "                          batch_size=30,\n",
    "                          verbose=1)"
   ]
  },
  {
   "cell_type": "code",
   "execution_count": 15,
   "metadata": {},
   "outputs": [
    {
     "data": {
      "image/png": "[encoded data removed]",
      "text/plain": [
       "<matplotlib.figure.Figure at 0x2604ad952e8>"
      ]
     },
     "metadata": {},
     "output_type": "display_data"
    }
   ],
   "source": [
    "show_train_history(train_history, 'acc', 'val_acc')"
   ]
  },
  {
   "cell_type": "code",
   "execution_count": 16,
   "metadata": {},
   "outputs": [
    {
     "data": {
      "image/png": "[encoded data removed]",
      "text/plain": [
       "<matplotlib.figure.Figure at 0x2604b44b828>"
      ]
     },
     "metadata": {},
     "output_type": "display_data"
    }
   ],
   "source": [
    "show_train_history(train_history, 'loss', 'val_loss')"
   ]
  },
  {
   "cell_type": "markdown",
   "metadata": {},
   "source": [
    "<h2 style=\"background-image: linear-gradient( 135deg, #FFF6B7 10%, #F6416C 100%);\"> Check model prediction"
   ]
  },
  {
   "cell_type": "code",
   "execution_count": 17,
   "metadata": {},
   "outputs": [
    {
     "name": "stdout",
     "output_type": "stream",
     "text": [
      " 32/258 [==>...........................] - ETA: 0s\n",
      "accuracy= 0.825581395349\n"
     ]
    }
   ],
   "source": [
    "scores = model.evaluate(x_test, y_test)\n",
    "print()\n",
    "print('accuracy=', scores[1])"
   ]
  },
  {
   "cell_type": "markdown",
   "metadata": {},
   "source": [
    "<h2 style=\"background-image: linear-gradient( 135deg, #FFF6B7 10%, #F6416C 100%);\"> Compare prediction with actual data."
   ]
  },
  {
   "cell_type": "code",
   "execution_count": 18,
   "metadata": {},
   "outputs": [
    {
     "name": "stderr",
     "output_type": "stream",
     "text": [
      "D:\\Anaconda3\\lib\\site-packages\\ipykernel\\__main__.py:4: SettingWithCopyWarning: \n",
      "A value is trying to be set on a copy of a slice from a DataFrame.\n",
      "Try using .loc[row_indexer,col_indexer] = value instead\n",
      "\n",
      "See the caveats in the documentation: http://pandas.pydata.org/pandas-docs/stable/indexing.html#indexing-view-versus-copy\n",
      "D:\\Anaconda3\\lib\\site-packages\\ipykernel\\__main__.py:5: SettingWithCopyWarning: \n",
      "A value is trying to be set on a copy of a slice from a DataFrame.\n",
      "Try using .loc[row_indexer,col_indexer] = value instead\n",
      "\n",
      "See the caveats in the documentation: http://pandas.pydata.org/pandas-docs/stable/indexing.html#indexing-view-versus-copy\n",
      "D:\\Anaconda3\\lib\\site-packages\\ipykernel\\__main__.py:6: SettingWithCopyWarning: \n",
      "A value is trying to be set on a copy of a slice from a DataFrame.\n",
      "Try using .loc[row_indexer,col_indexer] = value instead\n",
      "\n",
      "See the caveats in the documentation: http://pandas.pydata.org/pandas-docs/stable/indexing.html#indexing-view-versus-copy\n"
     ]
    }
   ],
   "source": [
    "all_x, all_y = preprocessTitanicData(all_df)\n",
    "all_probability=model.predict(all_x)"
   ]
  },
  {
   "cell_type": "code",
   "execution_count": 19,
   "metadata": {
    "collapsed": true
   },
   "outputs": [],
   "source": [
    "all_df['predict_p'] = all_probability"
   ]
  },
  {
   "cell_type": "markdown",
   "metadata": {},
   "source": [
    "<h2 style=\"background-image: linear-gradient( 135deg, #81FBB8 10%, #28C76F 100%);\"> Saying something?"
   ]
  },
  {
   "cell_type": "code",
   "execution_count": 20,
   "metadata": {},
   "outputs": [
    {
     "data": {
      "text/html": [
       "<div>\n",
       "<table border=\"1\" class=\"dataframe\">\n",
       "  <thead>\n",
       "    <tr style=\"text-align: right;\">\n",
       "      <th></th>\n",
       "      <th>pclass</th>\n",
       "      <th>survived</th>\n",
       "      <th>name</th>\n",
       "      <th>sex</th>\n",
       "      <th>age</th>\n",
       "      <th>sibsp</th>\n",
       "      <th>parch</th>\n",
       "      <th>ticket</th>\n",
       "      <th>fare</th>\n",
       "      <th>cabin</th>\n",
       "      <th>embarked</th>\n",
       "      <th>boat</th>\n",
       "      <th>body</th>\n",
       "      <th>home.dest</th>\n",
       "      <th>predict_p</th>\n",
       "    </tr>\n",
       "  </thead>\n",
       "  <tbody>\n",
       "    <tr>\n",
       "      <th>2</th>\n",
       "      <td>1</td>\n",
       "      <td>0</td>\n",
       "      <td>Allison, Miss. Helen Loraine</td>\n",
       "      <td>female</td>\n",
       "      <td>2.0</td>\n",
       "      <td>1</td>\n",
       "      <td>2</td>\n",
       "      <td>113781</td>\n",
       "      <td>151.5500</td>\n",
       "      <td>C22 C26</td>\n",
       "      <td>S</td>\n",
       "      <td>NaN</td>\n",
       "      <td>NaN</td>\n",
       "      <td>Montreal, PQ / Chesterville, ON</td>\n",
       "      <td>0.972782</td>\n",
       "    </tr>\n",
       "    <tr>\n",
       "      <th>4</th>\n",
       "      <td>1</td>\n",
       "      <td>0</td>\n",
       "      <td>Allison, Mrs. Hudson J C (Bessie Waldo Daniels)</td>\n",
       "      <td>female</td>\n",
       "      <td>25.0</td>\n",
       "      <td>1</td>\n",
       "      <td>2</td>\n",
       "      <td>113781</td>\n",
       "      <td>151.5500</td>\n",
       "      <td>C22 C26</td>\n",
       "      <td>S</td>\n",
       "      <td>NaN</td>\n",
       "      <td>NaN</td>\n",
       "      <td>Montreal, PQ / Chesterville, ON</td>\n",
       "      <td>0.968761</td>\n",
       "    </tr>\n",
       "    <tr>\n",
       "      <th>105</th>\n",
       "      <td>1</td>\n",
       "      <td>0</td>\n",
       "      <td>Evans, Miss. Edith Corse</td>\n",
       "      <td>female</td>\n",
       "      <td>36.0</td>\n",
       "      <td>0</td>\n",
       "      <td>0</td>\n",
       "      <td>PC 17531</td>\n",
       "      <td>31.6792</td>\n",
       "      <td>A29</td>\n",
       "      <td>C</td>\n",
       "      <td>NaN</td>\n",
       "      <td>NaN</td>\n",
       "      <td>New York, NY</td>\n",
       "      <td>0.977238</td>\n",
       "    </tr>\n",
       "    <tr>\n",
       "      <th>169</th>\n",
       "      <td>1</td>\n",
       "      <td>0</td>\n",
       "      <td>Isham, Miss. Ann Elizabeth</td>\n",
       "      <td>female</td>\n",
       "      <td>50.0</td>\n",
       "      <td>0</td>\n",
       "      <td>0</td>\n",
       "      <td>PC 17595</td>\n",
       "      <td>28.7125</td>\n",
       "      <td>C49</td>\n",
       "      <td>C</td>\n",
       "      <td>NaN</td>\n",
       "      <td>NaN</td>\n",
       "      <td>Paris, France New York, NY</td>\n",
       "      <td>0.973683</td>\n",
       "    </tr>\n",
       "    <tr>\n",
       "      <th>286</th>\n",
       "      <td>1</td>\n",
       "      <td>0</td>\n",
       "      <td>Straus, Mrs. Isidor (Rosalie Ida Blun)</td>\n",
       "      <td>female</td>\n",
       "      <td>63.0</td>\n",
       "      <td>1</td>\n",
       "      <td>0</td>\n",
       "      <td>PC 17483</td>\n",
       "      <td>221.7792</td>\n",
       "      <td>C55 C57</td>\n",
       "      <td>S</td>\n",
       "      <td>NaN</td>\n",
       "      <td>NaN</td>\n",
       "      <td>New York, NY</td>\n",
       "      <td>0.941418</td>\n",
       "    </tr>\n",
       "  </tbody>\n",
       "</table>\n",
       "</div>"
      ],
      "text/plain": [
       "     pclass  survived                                             name  \\\n",
       "2         1         0                     Allison, Miss. Helen Loraine   \n",
       "4         1         0  Allison, Mrs. Hudson J C (Bessie Waldo Daniels)   \n",
       "105       1         0                         Evans, Miss. Edith Corse   \n",
       "169       1         0                       Isham, Miss. Ann Elizabeth   \n",
       "286       1         0           Straus, Mrs. Isidor (Rosalie Ida Blun)   \n",
       "\n",
       "        sex   age  sibsp  parch    ticket      fare    cabin embarked boat  \\\n",
       "2    female   2.0      1      2    113781  151.5500  C22 C26        S  NaN   \n",
       "4    female  25.0      1      2    113781  151.5500  C22 C26        S  NaN   \n",
       "105  female  36.0      0      0  PC 17531   31.6792      A29        C  NaN   \n",
       "169  female  50.0      0      0  PC 17595   28.7125      C49        C  NaN   \n",
       "286  female  63.0      1      0  PC 17483  221.7792  C55 C57        S  NaN   \n",
       "\n",
       "     body                        home.dest  predict_p  \n",
       "2     NaN  Montreal, PQ / Chesterville, ON   0.972782  \n",
       "4     NaN  Montreal, PQ / Chesterville, ON   0.968761  \n",
       "105   NaN                     New York, NY   0.977238  \n",
       "169   NaN       Paris, France New York, NY   0.973683  \n",
       "286   NaN                     New York, NY   0.941418  "
      ]
     },
     "execution_count": 20,
     "metadata": {},
     "output_type": "execute_result"
    }
   ],
   "source": [
    "# Check some \n",
    "all_df[(all_df['predict_p']>0.9)&(all_df['survived'] == 0)]"
   ]
  },
  {
   "cell_type": "markdown",
   "metadata": {},
   "source": [
    "- Allison一家人的故事\n",
    "- Ann Elizabeth的愛狗故事\n",
    "- Straus, Mrs. Isidor與老公的愛情故事"
   ]
  },
  {
   "cell_type": "code",
   "execution_count": 21,
   "metadata": {},
   "outputs": [
    {
     "data": {
      "text/html": [
       "<div>\n",
       "<table border=\"1\" class=\"dataframe\">\n",
       "  <thead>\n",
       "    <tr style=\"text-align: right;\">\n",
       "      <th></th>\n",
       "      <th>pclass</th>\n",
       "      <th>survived</th>\n",
       "      <th>name</th>\n",
       "      <th>sex</th>\n",
       "      <th>age</th>\n",
       "      <th>sibsp</th>\n",
       "      <th>parch</th>\n",
       "      <th>ticket</th>\n",
       "      <th>fare</th>\n",
       "      <th>cabin</th>\n",
       "      <th>embarked</th>\n",
       "      <th>boat</th>\n",
       "      <th>body</th>\n",
       "      <th>home.dest</th>\n",
       "      <th>predict_p</th>\n",
       "    </tr>\n",
       "  </thead>\n",
       "  <tbody>\n",
       "    <tr>\n",
       "      <th>1003</th>\n",
       "      <td>3</td>\n",
       "      <td>1</td>\n",
       "      <td>McCoy, Mr. Bernard</td>\n",
       "      <td>male</td>\n",
       "      <td>NaN</td>\n",
       "      <td>2</td>\n",
       "      <td>0</td>\n",
       "      <td>367226</td>\n",
       "      <td>23.25</td>\n",
       "      <td>NaN</td>\n",
       "      <td>Q</td>\n",
       "      <td>16</td>\n",
       "      <td>NaN</td>\n",
       "      <td>NaN</td>\n",
       "      <td>0.099093</td>\n",
       "    </tr>\n",
       "  </tbody>\n",
       "</table>\n",
       "</div>"
      ],
      "text/plain": [
       "      pclass  survived                name   sex  age  sibsp  parch  ticket  \\\n",
       "1003       3         1  McCoy, Mr. Bernard  male  NaN      2      0  367226   \n",
       "\n",
       "       fare cabin embarked boat  body home.dest  predict_p  \n",
       "1003  23.25   NaN        Q   16   NaN       NaN   0.099093  "
      ]
     },
     "execution_count": 21,
     "metadata": {},
     "output_type": "execute_result"
    }
   ],
   "source": [
    "# Check some \n",
    "all_df[(all_df['predict_p']<0.1)&(all_df['survived'] == 1)]"
   ]
  },
  {
   "cell_type": "markdown",
   "metadata": {},
   "source": [
    "- Niskanen, Mr. Juha的故事 https://www.encyclopedia-titanica.org/titanic-survivor/juha-niskanen.html"
   ]
  }
 ],
 "metadata": {
  "kernelspec": {
   "display_name": "Python 3",
   "language": "python",
   "name": "python3"
  },
  "language_info": {
   "codemirror_mode": {
    "name": "ipython",
    "version": 3
   },
   "file_extension": ".py",
   "mimetype": "text/x-python",
   "name": "python",
   "nbconvert_exporter": "python",
   "pygments_lexer": "ipython3",
   "version": "3.6.0"
  }
 },
 "nbformat": 4,
 "nbformat_minor": 2
}
